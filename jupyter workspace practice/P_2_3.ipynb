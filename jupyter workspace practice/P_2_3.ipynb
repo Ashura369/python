{
 "cells": [
  {
   "cell_type": "markdown",
   "id": "d797da6e",
   "metadata": {},
   "source": [
    "# **ELEMENT WISE OPERATIONS**"
   ]
  },
  {
   "cell_type": "markdown",
   "id": "df65251d",
   "metadata": {},
   "source": [
    "1. Basic operations\n",
    "\n",
    "    with scalars"
   ]
  },
  {
   "cell_type": "code",
   "execution_count": null,
   "id": "0a0826cc",
   "metadata": {},
   "outputs": [],
   "source": [
    "import numpy as np\n",
    "\n",
    "\n",
    "a = np.arange(5)\n",
    "print(f\"{a}\\n\")                               # will do +1 into all the elements in a\n",
    "print(f\"{a+1}\\n\")                               # will do +1 into all the elements in a\n",
    "print(f\"{a**2}\\n\")"
   ]
  },
  {
   "cell_type": "markdown",
   "id": "ac9f64a6",
   "metadata": {},
   "source": [
    "All arithmatic operations element wise"
   ]
  },
  {
   "cell_type": "code",
   "execution_count": null,
   "id": "65ea5f80",
   "metadata": {},
   "outputs": [],
   "source": [
    "b = np.ones((5))\n",
    "print(f\"{b}\\n\")\n",
    "print(f\"{b+1}\\n\")\n",
    "print(f\"{a-b}\\n\")       # make sure that the element numbers in a is same as element numbers in b\n",
    "print(f\"{a*b}\\n\")\n",
    "\n",
    "\n",
    "# doing the same in matrix\n",
    "print('*'*50)\n",
    "c = np.diag([1,2,3,4])\n",
    "print(f\"c\\n {c}\\n\")\n",
    "print(f\"c*2\\n {c*2}\\n\")\n",
    "print(f\"c*c\\n {c*c}\\n\")\n",
    "    # print(f\"c.dot(c)\\n {c.dot(c)}\\n\")     [you can also do this for c*c]"
   ]
  },
  {
   "cell_type": "markdown",
   "id": "3162e954",
   "metadata": {},
   "source": [
    "Comparisions"
   ]
  },
  {
   "cell_type": "code",
   "execution_count": null,
   "id": "d267f5f4",
   "metadata": {},
   "outputs": [],
   "source": [
    "d = np.array([1,2,3,4,5])\n",
    "e = np.array([0,2,6,4,5])\n",
    "\n",
    "print(d == e,'\\n')       # this will make the element wise comparison\n",
    "\n",
    "d1 = ([1,2,3,4,5])      # this is a list\n",
    "e1 = ([0,2,6,4,5])\n",
    "print(d1 == e1,'\\n')         # this will make the list wise comparison\n",
    "\n",
    "\n",
    "print(d > e,'\\n')\n",
    "print(d < e,'\\n')\n",
    "\n",
    "# making array wise comparison\n",
    "f = e.copy()\n",
    "print(f\"Array wise comparison : {np.array_equal(d, e)}\")\n",
    "print(f\"Array wise comparison : {np.array_equal(e, f)}\")\n"
   ]
  },
  {
   "cell_type": "markdown",
   "id": "19adfc5b",
   "metadata": {},
   "source": [
    "Logical Operation"
   ]
  },
  {
   "cell_type": "code",
   "execution_count": null,
   "id": "fdead018",
   "metadata": {},
   "outputs": [],
   "source": [
    "g = np.array([1, 1, 0, 0], dtype=bool)  # if you dont mention the data type as bool then they will be taken as nums\n",
    "h = np.array([1, 0, 1, 0], dtype=bool)\n",
    "\n",
    "print(f\"LOGICAL OR      : {np.logical_or(g,h)}\")       # if any one in idx 0 of both is g and h is 1(true) then true will be printed, as idx 0 in both g and h is 1, hence it printed True in idx 0, SAME GOES FOR OTHER INDEXES\n",
    "print(f\"LOGICAL AND     : {np.logical_and(g,h)}\")\n",
    "print(f\"LOGICAL NOT     : {np.logical_not(g)}\")        # takes only one array (1 = false, 0 = true)\n",
    "print(f\"LOGICAL XOR     : {np.logical_xor(g,h)}\")      # if only one of the two is True then only true will be printed, but not both."
   ]
  }
 ],
 "metadata": {
  "kernelspec": {
   "display_name": "Python 3",
   "language": "python",
   "name": "python3"
  },
  "language_info": {
   "codemirror_mode": {
    "name": "ipython",
    "version": 3
   },
   "file_extension": ".py",
   "mimetype": "text/x-python",
   "name": "python",
   "nbconvert_exporter": "python",
   "pygments_lexer": "ipython3",
   "version": "3.13.7"
  }
 },
 "nbformat": 4,
 "nbformat_minor": 5
}
