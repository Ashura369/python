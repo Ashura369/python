{
 "cells": [
  {
   "cell_type": "markdown",
   "id": "ad66d3ba",
   "metadata": {},
   "source": [
    "zeros"
   ]
  },
  {
   "cell_type": "code",
   "execution_count": null,
   "id": "d2af4d5d",
   "metadata": {},
   "outputs": [],
   "source": [
    "import numpy as np\n",
    "\n",
    "a = np.zeros((4,3))     # will make a 4 x 3 vector with all zeros as its elements\n",
    "a1 = np.zeros((4))      # 1x4\n",
    "a2 = np.zeros((4, 1))   # 4x1\n",
    "print(a)\n",
    "print('\\n',a1)\n",
    "print('\\n',a2)\n"
   ]
  },
  {
   "cell_type": "markdown",
   "id": "8f983ef6",
   "metadata": {},
   "source": [
    "ones"
   ]
  },
  {
   "cell_type": "code",
   "execution_count": null,
   "id": "fe38a2d8",
   "metadata": {},
   "outputs": [],
   "source": [
    "b = np.ones((3,2))      # will make a 3x2 array of elements as 1\n",
    "print(b)"
   ]
  },
  {
   "cell_type": "markdown",
   "id": "2ebb4a1a",
   "metadata": {},
   "source": [
    "eye - makes identity matrix"
   ]
  },
  {
   "cell_type": "code",
   "execution_count": null,
   "id": "f9861ab1",
   "metadata": {},
   "outputs": [],
   "source": [
    "c = np.eye(3)       # 3x3\n",
    "c1 = np.eye(3,4)    # 3x4\n",
    "print(c)\n",
    "print('\\n',c1)"
   ]
  },
  {
   "cell_type": "markdown",
   "id": "c74b97c2",
   "metadata": {},
   "source": [
    "diag - to make diagonal arr"
   ]
  },
  {
   "cell_type": "code",
   "execution_count": null,
   "id": "7eeeaf1c",
   "metadata": {},
   "outputs": [],
   "source": [
    "obj1 = np.diag([1,2,3,4])   # for 4 values 4x4 vector, for 5 values 5x5 vector\n",
    "print(obj1)"
   ]
  },
  {
   "cell_type": "markdown",
   "id": "52dda35c",
   "metadata": {},
   "source": [
    "dtype - data type"
   ]
  },
  {
   "cell_type": "code",
   "execution_count": null,
   "id": "1c692654",
   "metadata": {},
   "outputs": [],
   "source": [
    "obj2 = np.arange(10)\n",
    "print(obj2.dtype)       # data type is integer that holds 64 bit"
   ]
  },
  {
   "cell_type": "markdown",
   "id": "ca61479f",
   "metadata": {},
   "source": [
    "linspace (linear space)\n",
    "\n",
    "np.linspace() is used to create evenly spaced numbers over a specified interval. Unlike arange, which uses a step size, linspace specifies the number of points you want."
   ]
  },
  {
   "cell_type": "code",
   "execution_count": null,
   "id": "4722ba11",
   "metadata": {},
   "outputs": [],
   "source": [
    "d = np.linspace(0, 1, 5)                  # 5 points evenly spaced between 0 and 1\n",
    "print(d)"
   ]
  },
  {
   "cell_type": "markdown",
   "id": "c2795f0a",
   "metadata": {},
   "source": [
    "random.rand & random.randiant & (Indexing and Slicing)"
   ]
  },
  {
   "cell_type": "code",
   "execution_count": null,
   "id": "329237be",
   "metadata": {},
   "outputs": [],
   "source": [
    "e = np.random.rand(3,3)             # 3x3 vector with random numbers btwn 0 to 1\n",
    "print(e)\n",
    "\n",
    "e1 = np.random.randint(0,9, (4,4))  # makes a 4x4 vector with random nums from 0 to 9\n",
    "print('*'*50)\n",
    "print('\\n',e1)\n",
    "\n",
    "# Indexing \n",
    "print('*'*50)\n",
    "print(\"\\n a[0]:\", a[0])             # first element (if its a 3x3 or 2x2 vector it will give first elements in the first row)\n",
    "print(\"\\n a[-1]:\", a[-1])           # last element\n",
    "\n",
    "# slice\n",
    "print('*'*50)\n",
    "print(\"\\n element in row 0, column 1 --\", e1[0,1])                  # row 0 column 1 element\n",
    "print(\"\\n\", e1[1:4])                                                # slice         (suppose a vector is 6x6 then it will only print from idx 1 to idx 3 [4 is exclusive] )\n",
    "print(\"\\n printing column 1 (from starting to end) -- \", e1[:,1])   # (start : end, column)  \n",
    "print(\"\\n printing column 1 (from idx 0 to end) -- \", e1[0:,1])     # (idx[0] : end, column)\n",
    "print(\"\\n printng row 1 (from starting to end) -- \", e1[1,:])       # (row, start : end)\n",
    "print(\"\\n printng row 0 (from idx 1 to idx 4) -- \", e1[0,1:5])      # (row, start : end)\n",
    "\n",
    "# using slice in range\n",
    "print('*'*50)\n",
    "obj5 = np.arange(11)\n",
    "print(obj5)\n",
    "print('\\n',obj5[0 : 11 : 2])\n",
    "\n",
    "# changing all the elements from 6 to the end into num 9\n",
    "print('*'*50)\n",
    "obj5[6 : ] = 9\n",
    "print(obj5)\n",
    "\n",
    "# reversing the values\n",
    "print('*'*50)\n",
    "obj6 = np.arange(5)   # [0 1 2 3 4]\n",
    "reversed_obj6 = obj6[::-1]\n",
    "print('\\n',reversed_obj6)  # [4 3 2 1 0]\n"
   ]
  },
  {
   "cell_type": "markdown",
   "id": "0dab5957",
   "metadata": {},
   "source": [
    "Using operators"
   ]
  },
  {
   "cell_type": "code",
   "execution_count": null,
   "id": "f1cd49d4",
   "metadata": {},
   "outputs": [],
   "source": [
    "arr1 = np.array([1,2,3])\n",
    "arr2 = np.array([4,5,6])\n",
    "\n",
    "print(\"arr1 + arr2:\", arr1 + arr2)   # element-wise addition\n",
    "print(\"arr1 - arr2:\", arr1 - arr2)   # element-wise subtraction\n",
    "print(\"arr1 * arr2:\", arr1 * arr2)   # element-wise multiplication\n",
    "print(\"arr1 / arr2:\", arr1 / arr2)   # element-wise division\n",
    "print(\"arr1 ** 2:\", arr1 ** 2)       # element-wise power"
   ]
  },
  {
   "cell_type": "markdown",
   "id": "a330b743",
   "metadata": {},
   "source": [
    "Aggregate functions"
   ]
  },
  {
   "cell_type": "code",
   "execution_count": null,
   "id": "8bc27433",
   "metadata": {},
   "outputs": [],
   "source": [
    "arr = np.array([1,2,3,4,5])\n",
    "print(\"sum:\", arr.sum())            # sum of all arr elements\n",
    "print(\"mean:\", arr.mean())          # mean of all arr elements\n",
    "print(\"min:\", arr.min())            # min num of all arr elemlenrs\n",
    "print(\"max:\", arr.max())            # min num of all arr elemlenrs\n",
    "print(\"standard deviation:\", arr.std())     # std deviation of all arr elements\n",
    "print(\"standard deviation:\", round(arr.std(), 2))   # using round"
   ]
  },
  {
   "cell_type": "markdown",
   "id": "59a9ad12",
   "metadata": {},
   "source": [
    "Reshape and Flatten"
   ]
  },
  {
   "cell_type": "code",
   "execution_count": null,
   "id": "6f46f8fb",
   "metadata": {},
   "outputs": [],
   "source": [
    "arr = np.arange(12)\n",
    "print(f\"original {arr}\")\n",
    "\n",
    "# reshape\n",
    "arr2 = arr.reshape((3,4))       # reshaping the arr into a vector, MAKE SURE THAT ALL THE ELEMENTS IN arr MUST BE PRESENT IN arr2\n",
    "print(f\"{arr2}\")\n",
    "\n",
    "# flatten\n",
    "print('\\n Flatten ',arr2.flatten())      # bringing the vector back to an array"
   ]
  },
  {
   "cell_type": "markdown",
   "id": "816110a7",
   "metadata": {},
   "source": [
    "Mathematical function"
   ]
  },
  {
   "cell_type": "code",
   "execution_count": null,
   "id": "0fb1ccf5",
   "metadata": {},
   "outputs": [],
   "source": [
    "arr3 = np.array([1,4,9])\n",
    "print(\"sqrt:\", np.sqrt(arr3))                   # square root\n",
    "print(\"log:\", np.round(np.log(arr3), 2))        # log\n",
    "print(\"exp:\", np.round(np.exp(arr3), 2))        # exponential\n",
    "print(\"sin:\", np.round(np.sin(arr3), 2))"
   ]
  },
  {
   "cell_type": "markdown",
   "id": "572c87cc",
   "metadata": {},
   "source": [
    "Stacking arrays"
   ]
  },
  {
   "cell_type": "code",
   "execution_count": null,
   "id": "3e828d4c",
   "metadata": {},
   "outputs": [],
   "source": [
    "a1 = np.array([1,2,3])\n",
    "a2 = np.array([4,5,6])\n",
    "\n",
    "# h stack\n",
    "h_stack = np.hstack((a1, a2))       # puts both the arr in a horizontal (one after another) arr format\n",
    "\n",
    "# v stack\n",
    "v_stack = np.vstack((a1, a2))       # puts both the arr in a vertical (one below another) arr format\n",
    "\n",
    "print(h_stack)\n",
    "print('\\n',v_stack)\n"
   ]
  },
  {
   "cell_type": "markdown",
   "id": "674f1700",
   "metadata": {},
   "source": [
    "Making a vector"
   ]
  },
  {
   "cell_type": "code",
   "execution_count": null,
   "id": "6d2efe81",
   "metadata": {},
   "outputs": [],
   "source": [
    "obj4 = np.diag([1,2,3])\n",
    "print(obj4)\n",
    "print('\\n',obj4[2,2])       # element at second idx of row and second idx of column\n",
    "\n",
    "# assigning values at given idx\n",
    "obj4[2, 1] = 5\n",
    "print('\\n', obj4)           "
   ]
  }
 ],
 "metadata": {
  "kernelspec": {
   "display_name": "Python 3",
   "language": "python",
   "name": "python3"
  },
  "language_info": {
   "codemirror_mode": {
    "name": "ipython",
    "version": 3
   },
   "file_extension": ".py",
   "mimetype": "text/x-python",
   "name": "python",
   "nbconvert_exporter": "python",
   "pygments_lexer": "ipython3",
   "version": "3.13.7"
  }
 },
 "nbformat": 4,
 "nbformat_minor": 5
}
