{
 "cells": [
  {
   "cell_type": "code",
   "execution_count": 1,
   "id": "04292779",
   "metadata": {},
   "outputs": [
    {
     "name": "stdout",
     "output_type": "stream",
     "text": [
      "[[0.23 0.7  0.64 0.49 0.59 0.4  0.35 0.96 0.06 0.81]\n",
      " [0.71 0.63 0.71 0.16 0.77 0.61 0.63 0.76 0.42 0.65]\n",
      " [0.24 0.65 0.21 0.77 0.38 0.88 0.23 0.81 0.72 0.16]\n",
      " [0.66 0.62 0.88 0.36 0.22 0.18 0.47 0.49 0.24 0.39]\n",
      " [0.75 0.89 0.12 0.17 0.36 0.23 0.96 0.22 0.06 0.02]\n",
      " [0.54 0.8  0.79 0.87 0.41 0.08 0.8  0.63 0.43 0.26]\n",
      " [0.88 0.13 0.23 0.85 0.03 0.85 0.65 0.9  0.78 0.95]\n",
      " [0.15 0.63 0.21 0.46 0.75 0.19 0.38 0.27 0.11 0.53]\n",
      " [0.95 0.44 0.58 0.92 0.37 0.22 0.89 0.19 0.93 0.51]\n",
      " [0.4  0.27 0.47 0.36 0.92 0.9  0.21 0.46 0.5  0.15]]\n",
      "\n",
      "[[1 2 3]\n",
      " [4 5 6]\n",
      " [7 8 9]]\n",
      "\n",
      "[[1 2 3]\n",
      " [4 5 6]\n",
      " [7 8 9]]\n",
      "\n",
      "[1 4 7]\n",
      "\n",
      "[2 5 8]\n",
      "\n",
      "[3 6 9]\n",
      "\n",
      "8\n",
      "\n",
      "6\n",
      "\n"
     ]
    },
    {
     "data": {
      "text/plain": [
       "' \\nfor printing row and columns we use slicing \" : \"\\nfor printing element at specific indexes we use commas \" , \"\\n'"
      ]
     },
     "execution_count": 1,
     "metadata": {},
     "output_type": "execute_result"
    }
   ],
   "source": [
    "import numpy as np\n",
    "\n",
    "g = np.round(np.random.rand(10, 10), 2) \n",
    "h = np.arange(1, 10).reshape(3,3)\n",
    "\n",
    "print(f\"{g}\\n\")\n",
    "print(f\"{h}\\n\")\n",
    "print(f\"{h[0:3]}\\n\")\n",
    "\n",
    "print(f\"{h[:, 0]}\\n\")   # printing columns only\n",
    "print(f\"{h[:, 1]}\\n\")   # printing columns only\n",
    "print(f\"{h[:, 2]}\\n\")   # printing columns only\n",
    "\n",
    "print(f\"{h[2, 1]}\\n\")\n",
    "print(f\"{h[1, 2]}\\n\")\n",
    "\n",
    "\"\"\" \n",
    "for printing row and columns we use slicing \" : \"\n",
    "for printing element at specific indexes we use commas \" , \"\n",
    "\"\"\""
   ]
  },
  {
   "cell_type": "code",
   "execution_count": 2,
   "id": "14c6bcad",
   "metadata": {},
   "outputs": [
    {
     "name": "stdout",
     "output_type": "stream",
     "text": [
      "[ 1  2  3  4  5  6  7  8  9 10 11 12 13 14]\n",
      "\n",
      "7x2 \n",
      " [[ 1  2]\n",
      " [ 3  4]\n",
      " [ 5  6]\n",
      " [ 7  8]\n",
      " [ 9 10]\n",
      " [11 12]\n",
      " [13 14]]\n",
      "\n",
      "2x7 \n",
      " [[ 1  2  3  4  5  6  7]\n",
      " [ 8  9 10 11 12 13 14]]\n",
      "\n",
      "1x14 \n",
      " [[ 1  2  3  4  5  6  7  8  9 10 11 12 13 14]]\n",
      "\n",
      "14x1 \n",
      " [[ 1]\n",
      " [ 2]\n",
      " [ 3]\n",
      " [ 4]\n",
      " [ 5]\n",
      " [ 6]\n",
      " [ 7]\n",
      " [ 8]\n",
      " [ 9]\n",
      " [10]\n",
      " [11]\n",
      " [12]\n",
      " [13]\n",
      " [14]]\n",
      "\n",
      "b : \n",
      " [[1 2 3]\n",
      " [4 5 6]]\n",
      "\n",
      "b Transpose : \n",
      " [[1 4]\n",
      " [2 5]\n",
      " [3 6]]\n",
      "\n"
     ]
    }
   ],
   "source": [
    "a = np.arange(1,15)\n",
    "print(f\"{a}\\n\")\n",
    "a1 = a.reshape(7,2)\n",
    "a2 = a.reshape(2,7)\n",
    "a3 = a.reshape(1,14)\n",
    "a4 = a.reshape(14,1)\n",
    "\n",
    "print(f\"7x2 \\n {a1}\\n\")\n",
    "print(f\"2x7 \\n {a2}\\n\")\n",
    "print(f\"1x14 \\n {a3}\\n\")\n",
    "print(f\"14x1 \\n {a4}\\n\")\n",
    "\n",
    "\n",
    "b = np.arange(1,7).reshape(2,3)\n",
    "print(f\"b : \\n {b}\\n\")\n",
    "print(f\"b Transpose : \\n {b.T}\\n\")\n",
    "\n"
   ]
  },
  {
   "cell_type": "code",
   "execution_count": 3,
   "id": "10b18e6a",
   "metadata": {},
   "outputs": [
    {
     "name": "stdout",
     "output_type": "stream",
     "text": [
      "Original: [1 2 3]\n",
      "\n",
      "After modifying the view:\n",
      "Original array: [100   2   3]\n",
      "View array    : [100   2   3]\n"
     ]
    }
   ],
   "source": [
    "arr = np.array([1,2,3])\n",
    "arr_copy = arr.copy()   # independent copy\n",
    "arr_view = arr.view()   # shared data   # Changes in the original WILL reflect in the view (and vice versa).\n",
    "print(\"Original:\", arr)\n",
    "\n",
    "arr[0] = 100\n",
    "print(\"\\nAfter modifying the view:\")\n",
    "print(\"Original array:\", arr)      # original changes too\n",
    "print(\"View array    :\", arr_view) # view shows same change\n",
    "\n"
   ]
  },
  {
   "cell_type": "code",
   "execution_count": 4,
   "id": "440ec97b",
   "metadata": {},
   "outputs": [
    {
     "name": "stdout",
     "output_type": "stream",
     "text": [
      "100\n",
      "2 to the power of 2 : 4\n",
      "2 to the power of 3 : 8\n",
      "2 to the power of 4 : 16\n"
     ]
    }
   ],
   "source": [
    "print(f\"{np.square(10)}\")\n",
    "\n",
    "# there is no specific function do cube, but you cdan do it by using power\n",
    "# you only you can do cube, but also you can do power of any number\n",
    "print(f\"2 to the power of 2 : {np.power(2, 2)}\")\n",
    "print(f\"2 to the power of 3 : {np.power(2, 3)}\")\n",
    "print(f\"2 to the power of 4 : {np.power(2, 4)}\")\n",
    "\n",
    "# do not write any kind of code in jupyter, bcoz it will not run. And eventyally break down\n"
   ]
  }
 ],
 "metadata": {
  "kernelspec": {
   "display_name": "Python 3",
   "language": "python",
   "name": "python3"
  },
  "language_info": {
   "codemirror_mode": {
    "name": "ipython",
    "version": 3
   },
   "file_extension": ".py",
   "mimetype": "text/x-python",
   "name": "python",
   "nbconvert_exporter": "python",
   "pygments_lexer": "ipython3",
   "version": "3.13.7"
  }
 },
 "nbformat": 4,
 "nbformat_minor": 5
}
