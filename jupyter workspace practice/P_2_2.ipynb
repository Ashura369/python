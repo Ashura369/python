{
 "cells": [
  {
   "cell_type": "markdown",
   "id": "36038d72",
   "metadata": {},
   "source": [
    "# Finding mean of a vector"
   ]
  },
  {
   "cell_type": "code",
   "execution_count": 5,
   "id": "14f2af59",
   "metadata": {},
   "outputs": [
    {
     "name": "stdout",
     "output_type": "stream",
     "text": [
      "[[9 9 3 9]\n",
      " [1 1 7 1]\n",
      " [3 7 9 3]\n",
      " [3 1 6 2]]\n",
      "\n",
      " 4.625\n",
      "\n",
      " 2.5\n"
     ]
    }
   ],
   "source": [
    "import numpy as np\n",
    "\n",
    "vector = np.random.randint(1, 10, (4,4))\n",
    "\n",
    "print(vector)\n",
    "\n",
    "print('\\n',np.mean(vector))          # mean of entire vector\n",
    "print('\\n',np.mean(vector[1, :]))    # mean of row 1 from start to end"
   ]
  }
 ],
 "metadata": {
  "kernelspec": {
   "display_name": "Python 3",
   "language": "python",
   "name": "python3"
  },
  "language_info": {
   "codemirror_mode": {
    "name": "ipython",
    "version": 3
   },
   "file_extension": ".py",
   "mimetype": "text/x-python",
   "name": "python",
   "nbconvert_exporter": "python",
   "pygments_lexer": "ipython3",
   "version": "3.13.7"
  }
 },
 "nbformat": 4,
 "nbformat_minor": 5
}
