{
 "cells": [
  {
   "cell_type": "markdown",
   "id": "36038d72",
   "metadata": {},
   "source": [
    "# Finding mean of a vector"
   ]
  },
  {
   "cell_type": "code",
   "execution_count": null,
   "id": "14f2af59",
   "metadata": {},
   "outputs": [],
   "source": [
    "import numpy as np\n",
    "\n",
    "vector = np.random.randint(1, 10, (4,4))\n",
    "\n",
    "print(vector)\n",
    "\n",
    "print('\\n',np.mean(vector))          # mean of entire vector\n",
    "print('\\n',np.mean(vector[1, :]))    # mean of row 1 from start to end"
   ]
  },
  {
   "cell_type": "markdown",
   "id": "89d5e190",
   "metadata": {},
   "source": [
    "# Copies and Views"
   ]
  },
  {
   "cell_type": "markdown",
   "id": "065ab26e",
   "metadata": {},
   "source": [
    "Slicing"
   ]
  },
  {
   "cell_type": "code",
   "execution_count": null,
   "id": "b55d4333",
   "metadata": {},
   "outputs": [],
   "source": [
    "a = np.arange(11)\n",
    "print(a,'\\n')\n",
    "\n",
    "# slicing\n",
    "b1 = a[ : ]  \n",
    "print(b1,'\\n')   \n",
    "\n",
    "b2 = a[ : : 2]               # b storing all the values of a from 1 to 10, with a gap of 2   # (Here the values of a are not stored in b, but rather the index of a is stored in b) \n",
    "print(b2,'\\n')   \n",
    "\n",
    "b1[0] = 10                  # if you make changes in b1, the values in a will also change, bcoz we have stored the idx of a in b1\n",
    "print(a, '\\n')\n",
    "\n",
    "\"\"\"\n",
    "b1 is not a new independent array.\n",
    "It is a view of a (it points to the same memory).\n",
    "So when you change b1[0], you’re actually modifying the same underlying data in a.\n",
    "\n",
    "THIS IS THE MAJOR DRAWBACKL OF USING SLICING, HENCE WE USE 'COPY' TO AVOID SUCH PROBLEMS\n",
    "\"\"\"\n",
    "print(np.shares_memory(a,b1),'\\n')\n",
    "print(np.shares_memory(a,b2))"
   ]
  },
  {
   "cell_type": "markdown",
   "id": "b41df18a",
   "metadata": {},
   "source": [
    "Copy"
   ]
  },
  {
   "cell_type": "code",
   "execution_count": null,
   "id": "3a687ee4",
   "metadata": {},
   "outputs": [],
   "source": [
    "# copy\n",
    "b3 = a[::2].copy()\n",
    "print(b3, '\\n')\n",
    "\n",
    "\n",
    "b3[0] = 0           # only the value in b3 will change\n",
    "print(a, '\\n')\n",
    "print(b3, '\\n')\n",
    "print(np.shares_memory(a, b3), '\\n')\n",
    "\n",
    "\"\"\"\n",
    "In copying, the idx of a is not stored, rather the values itself of a are getting stored\n",
    "\"\"\""
   ]
  },
  {
   "cell_type": "markdown",
   "id": "2f974e46",
   "metadata": {},
   "source": [
    "Fancy Indexing\n",
    "\n",
    "(NumPy arrays can be indexed with slices, but also with boolean or integer arrays (masks). This method is called fancy indexing. It creates copies not views)"
   ]
  },
  {
   "cell_type": "markdown",
   "id": "c1f0305e",
   "metadata": {},
   "source": [
    "Using boolean mask"
   ]
  },
  {
   "cell_type": "code",
   "execution_count": null,
   "id": "f181ca8f",
   "metadata": {},
   "outputs": [],
   "source": [
    "c = np.random.randint(1,10,18)\n",
    "print(c,'\\n')\n",
    "\n",
    "even = (c % 2 == 0)\n",
    "print(f\"printing evens : {c[even]} \\n\")\n",
    "\n",
    "odd = (c % 2 != 0)\n",
    "print(f\"printing odds : {c[odd]} \\n\")\n",
    "\n",
    "c[odd] = -1                                 # here we have changed all the odd values in c into -1\n",
    "print(f\"the changed values in c are {c}\")\n",
    "\n"
   ]
  },
  {
   "cell_type": "markdown",
   "id": "eaf7ac48",
   "metadata": {},
   "source": [
    "Indexing with an array of integers"
   ]
  },
  {
   "cell_type": "code",
   "execution_count": 42,
   "id": "347dac4f",
   "metadata": {},
   "outputs": [
    {
     "name": "stdout",
     "output_type": "stream",
     "text": [
      "[ 0 10 20 30 40 50 60 70 80 90]\n",
      "\n",
      "[20 30 20 50 20 30]\n",
      "\n",
      "[ 0 10 20 30 40 50 60 70 99 99]\n",
      "[ 3  3  3  3  3  3 60 70 99 99]\n"
     ]
    }
   ],
   "source": [
    "d = np.arange(0, 100, 10)\n",
    "print(f\"{d}\\n\")\n",
    "\n",
    "d1 = d[[2,3,2,5,2,3]]           # here we made an arr from variable d with idxs of 2,3,2,5,3\n",
    "print(f\"{d1}\\n\")\n",
    "\n",
    "d[[8, 9]] = 99                  # changing the values at given idx\n",
    "print(f\"{d}\")\n",
    "\n",
    "# changing the values but storing them into another variable, rather than making changes into the original variable\n",
    "d2 = d.copy()\n",
    "d2[0:6] = 3                      # changing multiple values simultaneously using slicing\n",
    "print(f\"{d2}\")\n"
   ]
  }
 ],
 "metadata": {
  "kernelspec": {
   "display_name": "Python 3",
   "language": "python",
   "name": "python3"
  },
  "language_info": {
   "codemirror_mode": {
    "name": "ipython",
    "version": 3
   },
   "file_extension": ".py",
   "mimetype": "text/x-python",
   "name": "python",
   "nbconvert_exporter": "python",
   "pygments_lexer": "ipython3",
   "version": "3.13.7"
  }
 },
 "nbformat": 4,
 "nbformat_minor": 5
}
