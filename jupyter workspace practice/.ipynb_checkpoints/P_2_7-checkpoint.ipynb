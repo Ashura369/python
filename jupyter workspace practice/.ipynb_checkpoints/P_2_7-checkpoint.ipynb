{
 "cells": [
  {
   "cell_type": "markdown",
   "id": "a71e4796",
   "metadata": {},
   "source": [
    "Reshape"
   ]
  },
  {
   "cell_type": "code",
   "execution_count": 1,
   "id": "04292779",
   "metadata": {},
   "outputs": [
    {
     "name": "stdout",
     "output_type": "stream",
     "text": [
      "[[0.6  0.79 0.76 0.81 0.39 0.63 0.42 0.73 0.77 0.91]\n",
      " [0.07 0.77 0.51 0.62 0.71 0.42 0.71 0.11 0.22 0.27]\n",
      " [0.44 0.86 0.83 0.53 0.87 0.69 0.8  0.53 0.15 0.84]\n",
      " [0.01 0.68 0.88 0.31 0.78 0.49 0.2  0.93 0.6  0.66]\n",
      " [0.06 0.13 0.86 0.35 0.6  0.22 0.9  0.4  0.75 0.74]\n",
      " [0.66 0.5  0.4  0.5  0.57 0.31 0.28 0.56 0.24 0.08]\n",
      " [0.75 0.28 0.66 0.61 0.82 0.91 0.09 0.13 0.44 0.15]\n",
      " [0.85 0.78 0.11 0.48 0.9  0.92 0.88 0.05 0.71 0.18]\n",
      " [0.45 0.53 0.39 0.14 0.04 0.77 0.95 0.71 0.09 0.49]\n",
      " [0.25 0.92 0.39 0.05 0.34 0.39 0.97 0.98 0.91 0.94]]\n",
      "\n",
      "[[1 2 3]\n",
      " [4 5 6]\n",
      " [7 8 9]]\n",
      "\n",
      "[[1 2 3]\n",
      " [4 5 6]\n",
      " [7 8 9]]\n",
      "\n",
      "[1 4 7]\n",
      "\n",
      "[2 5 8]\n",
      "\n",
      "[3 6 9]\n",
      "\n",
      "8\n",
      "\n",
      "6\n",
      "\n"
     ]
    },
    {
     "data": {
      "text/plain": [
       "' \\nfor printing row and columns we use slicing \" : \"\\nfor printing element at specific indexes we use commas \" , \"\\n'"
      ]
     },
     "execution_count": 1,
     "metadata": {},
     "output_type": "execute_result"
    }
   ],
   "source": [
    "import numpy as np\n",
    "\n",
    "g = np.round(np.random.rand(10, 10), 2) \n",
    "h = np.arange(1, 10).reshape(3,3)\n",
    "\n",
    "print(f\"{g}\\n\")\n",
    "print(f\"{h}\\n\")\n",
    "print(f\"{h[0:3]}\\n\")\n",
    "\n",
    "print(f\"{h[:, 0]}\\n\")   # printing columns only\n",
    "print(f\"{h[:, 1]}\\n\")   # printing columns only\n",
    "print(f\"{h[:, 2]}\\n\")   # printing columns only\n",
    "\n",
    "print(f\"{h[2, 1]}\\n\")\n",
    "print(f\"{h[1, 2]}\\n\")\n",
    "\n",
    "\"\"\" \n",
    "for printing row and columns we use slicing \" : \"\n",
    "for printing element at specific indexes we use commas \" , \"\n",
    "\"\"\""
   ]
  },
  {
   "cell_type": "code",
   "execution_count": 2,
   "id": "14c6bcad",
   "metadata": {},
   "outputs": [
    {
     "name": "stdout",
     "output_type": "stream",
     "text": [
      "[ 1  2  3  4  5  6  7  8  9 10 11 12 13 14]\n",
      "\n",
      "7x2 \n",
      " [[ 1  2]\n",
      " [ 3  4]\n",
      " [ 5  6]\n",
      " [ 7  8]\n",
      " [ 9 10]\n",
      " [11 12]\n",
      " [13 14]]\n",
      "\n",
      "2x7 \n",
      " [[ 1  2  3  4  5  6  7]\n",
      " [ 8  9 10 11 12 13 14]]\n",
      "\n",
      "1x14 \n",
      " [[ 1  2  3  4  5  6  7  8  9 10 11 12 13 14]]\n",
      "\n",
      "14x1 \n",
      " [[ 1]\n",
      " [ 2]\n",
      " [ 3]\n",
      " [ 4]\n",
      " [ 5]\n",
      " [ 6]\n",
      " [ 7]\n",
      " [ 8]\n",
      " [ 9]\n",
      " [10]\n",
      " [11]\n",
      " [12]\n",
      " [13]\n",
      " [14]]\n",
      "\n",
      "b : \n",
      " [[1 2 3]\n",
      " [4 5 6]]\n",
      "\n",
      "b Transpose : \n",
      " [[1 4]\n",
      " [2 5]\n",
      " [3 6]]\n",
      "\n"
     ]
    }
   ],
   "source": [
    "a = np.arange(1,15)     # taking 14 elements\n",
    "print(f\"{a}\\n\")\n",
    "a1 = a.reshape(7,2)     # when making 2D matrix, always keep in mind that, you must always take those nums whose multiplication is always equal to the num of elements, or it will throw error [SAME GOES FOR 3D]\n",
    "a2 = a.reshape(2,7)\n",
    "a3 = a.reshape(1,14)\n",
    "a4 = a.reshape(14,1)\n",
    "\n",
    "print(f\"7x2 \\n {a1}\\n\")\n",
    "print(f\"2x7 \\n {a2}\\n\")\n",
    "print(f\"1x14 \\n {a3}\\n\")\n",
    "print(f\"14x1 \\n {a4}\\n\")\n",
    "\n",
    "\n",
    "b = np.arange(1,7).reshape(2,3)\n",
    "print(f\"b : \\n {b}\\n\")\n",
    "print(f\"b Transpose : \\n {b.T}\\n\")\n",
    "\n"
   ]
  },
  {
   "cell_type": "markdown",
   "id": "ecf21288",
   "metadata": {},
   "source": [
    "view, copy"
   ]
  },
  {
   "cell_type": "markdown",
   "id": "a4f2c24d",
   "metadata": {},
   "source": [
    "square, cube"
   ]
  },
  {
   "cell_type": "code",
   "execution_count": 5,
   "id": "440ec97b",
   "metadata": {},
   "outputs": [
    {
     "name": "stdout",
     "output_type": "stream",
     "text": [
      "100\n",
      "2 to the power of 2 : 4\n",
      "2 to the power of 3 : 8\n",
      "2 to the power of 4 : 16\n"
     ]
    }
   ],
   "source": [
    "print(f\"{np.square(10)}\")\n",
    "\n",
    "# there is no specific function do cube, but you cdan do it by using power\n",
    "# you only you can do cube, but also you can do power of any number\n",
    "print(f\"2 to the power of 2 : {np.power(2, 2)}\")\n",
    "print(f\"2 to the power of 3 : {np.power(2, 3)}\")\n",
    "print(f\"2 to the power of 4 : {np.power(2, 4)}\")\n",
    "\n",
    "# do not write any kind of code in jupyter, bcoz it will not run. And eventyally break down\n"
   ]
  }
 ],
 "metadata": {
  "kernelspec": {
   "display_name": "Python 3 (ipykernel)",
   "language": "python",
   "name": "python3"
  },
  "language_info": {
   "codemirror_mode": {
    "name": "ipython",
    "version": 3
   },
   "file_extension": ".py",
   "mimetype": "text/x-python",
   "name": "python",
   "nbconvert_exporter": "python",
   "pygments_lexer": "ipython3",
   "version": "3.13.7"
  }
 },
 "nbformat": 4,
 "nbformat_minor": 5
}
