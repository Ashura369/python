{
 "cells": [
  {
   "cell_type": "markdown",
   "id": "aa1aee73",
   "metadata": {},
   "source": [
    "# **BASIC REDUCTIONS**"
   ]
  },
  {
   "cell_type": "markdown",
   "id": "4b22ed6e",
   "metadata": {},
   "source": [
    "Sums"
   ]
  },
  {
   "cell_type": "code",
   "execution_count": null,
   "id": "602a24c9",
   "metadata": {},
   "outputs": [],
   "source": [
    "import numpy as np\n",
    "x = np.array([1,2,3,4,5])\n",
    "\n",
    "print(f\"sum : {np.sum(x)}\\n\")\n",
    "\n",
    "print('*'*50)\n",
    "y = np.array([[1,2], [3,4]])\n",
    "print(f\"sum : {np.sum(y)}\\n\")                   # 1+2+3+4 = 10\n",
    "print(f\"sum axis 0 : {y.sum(axis = 0)}\\n\")      # culumn wise sum\n",
    "print(f\"sum axis 1 : {y.sum(axis = 1)}\\n\")      # row wise sum\n",
    "\n",
    "\n",
    "\n",
    "print('*'*50)\n",
    "z = np.array([[1, 2, 3],\n",
    "              [4, 5, 6],\n",
    "              [7, 8, 9]])\n",
    "\n",
    "# Total sum\n",
    "print(f\"Sum of all elements: {np.sum(z)}\\n\")  # 1+2+3+4+5+6+7+8+9 = 45\n",
    "\n",
    "# Column-wise sum (axis=0)\n",
    "print(f\"Sum along axis 0 (columns): {z.sum(axis=0)}\\n\")  \n",
    "# [1+4+7, 2+5+8, 3+6+9] → [12, 15, 18]\n",
    "\n",
    "# Row-wise sum (axis=1)\n",
    "print(f\"Sum along axis 1 (rows): {z.sum(axis=1)}\\n\")  \n",
    "# [1+2+3, 4+5+6, 7+8+9] → [6, 15, 24]\n",
    "\n",
    "# print(f\"Sum along axis 1 (rows): {z.sum(axis=2)}\\n\")      [YOU CANT PUT ANY OTHER VALUE OTHER THEN 0 (COLUMN) AND 1(ROW) ]  "
   ]
  }
 ],
 "metadata": {
  "kernelspec": {
   "display_name": "Python 3",
   "language": "python",
   "name": "python3"
  },
  "language_info": {
   "codemirror_mode": {
    "name": "ipython",
    "version": 3
   },
   "file_extension": ".py",
   "mimetype": "text/x-python",
   "name": "python",
   "nbconvert_exporter": "python",
   "pygments_lexer": "ipython3",
   "version": "3.13.7"
  }
 },
 "nbformat": 4,
 "nbformat_minor": 5
}
