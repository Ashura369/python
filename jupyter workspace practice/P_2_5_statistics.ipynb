{
 "cells": [
  {
   "cell_type": "markdown",
   "id": "f54262b0",
   "metadata": {},
   "source": [
    "# Doing Statistics"
   ]
  },
  {
   "cell_type": "code",
   "execution_count": 1,
   "id": "fcc70104",
   "metadata": {},
   "outputs": [
    {
     "name": "stdout",
     "output_type": "stream",
     "text": [
      "[[4 4 4]\n",
      " [1 6 4]] \n",
      "\n",
      "**************************************************\n",
      "mean : 3.8333333333333335\n",
      "\n",
      "standard deviation : 1.462494064565354\n",
      "\n",
      "median : 4.0\n",
      "\n",
      "median of rows : [2.5 5.  4. ]\n",
      "\n",
      "median of 2nd column : 5.0\n",
      "\n"
     ]
    }
   ],
   "source": [
    "import numpy as np\n",
    "\n",
    "a = np.arange(1, 15)\n",
    "b = np.random.randint(1, 8, (2,3))\n",
    "print(b, '\\n')\n",
    "print(\"*\"*50)\n",
    "\n",
    "print(f\"mean : {np.mean(b)}\\n\")\n",
    "print(f\"standard deviation : {np.std(b)}\\n\")\n",
    "print(f\"median : {np.median(b)}\\n\")\n",
    "print(f\"median of rows : {np.median(b, axis=0)}\\n\")\n",
    "print(f\"median of 2nd column : {np.median(b[ : ,1])}\\n\")\n"
   ]
  },
  {
   "cell_type": "markdown",
   "id": "071e9eec",
   "metadata": {},
   "source": [
    "Transpose -- (Storing Column data into Variables)"
   ]
  },
  {
   "cell_type": "code",
   "execution_count": 21,
   "id": "eb1355ee",
   "metadata": {},
   "outputs": [
    {
     "name": "stdout",
     "output_type": "stream",
     "text": [
      "**************************************************\n",
      "data1 : [7079 5042 4223 6935 1971 7801 9472 4790 7829 9798 8752 6103 7686 4962\n",
      " 5102 1980 9656 7532 5103 5169 9735 7847 4537 4061 8635]\n",
      "\n",
      "data2 : [2273 4052 5349 7972 6643 2382 6296 9152 1117 5187 5535 7152 5724 4525\n",
      " 7549 4073 7817 8700 3735 7520 8596 3563 8618 2438 4074]\n",
      "\n",
      "data3 : [8191 3046 1173 4955 2917 7072 2763 3234 8777 8300 2642 4255 3597 2412\n",
      " 9060 4088 1678 9660 1176 9731 3510 5849 2643 7971 7822]\n",
      "\n",
      "data4 : [4270 2231 6900 8732 9684 9520 1432 9790 8937 7116 9838 1125 9884 7519\n",
      " 7034 7672 5201 1406 1270 8993 3369 3865 2205 3693 3999]\n",
      "\n",
      "**************************************************\n",
      "[[2273 8191 4270]\n",
      " [4052 3046 2231]\n",
      " [5349 1173 6900]\n",
      " [7972 4955 8732]\n",
      " [6643 2917 9684]\n",
      " [2382 7072 9520]\n",
      " [6296 2763 1432]\n",
      " [9152 3234 9790]\n",
      " [1117 8777 8937]\n",
      " [5187 8300 7116]\n",
      " [5535 2642 9838]\n",
      " [7152 4255 1125]\n",
      " [5724 3597 9884]\n",
      " [4525 2412 7519]\n",
      " [7549 9060 7034]\n",
      " [4073 4088 7672]\n",
      " [7817 1678 5201]\n",
      " [8700 9660 1406]\n",
      " [3735 1176 1270]\n",
      " [7520 9731 8993]\n",
      " [8596 3510 3369]\n",
      " [3563 5849 3865]\n",
      " [8618 2643 2205]\n",
      " [2438 7971 3693]\n",
      " [4074 7822 3999]]\n",
      "**************************************************\n",
      "[[8191 4270]\n",
      " [3046 2231]\n",
      " [1173 6900]\n",
      " [4955 8732]\n",
      " [2917 9684]\n",
      " [7072 9520]\n",
      " [2763 1432]\n",
      " [3234 9790]\n",
      " [8777 8937]\n",
      " [8300 7116]\n",
      " [2642 9838]\n",
      " [4255 1125]\n",
      " [3597 9884]\n",
      " [2412 7519]\n",
      " [9060 7034]] \n",
      "\n",
      "std dev. of columns : [2326.61 1056.47 2097.32 1417.98 3073.43 2643.29 3138.98 2793.51 3231.01\n",
      " 1686.57 2823.21 2288.7  2328.58 1815.59 1415.08 2046.66 2998.12 3217.85\n",
      " 1669.92 1742.21 2891.61 1722.18 2533.51 2069.84 2115.78]\n",
      "\n",
      "column 1 : [2273 4052 5349 7972 6643 2382 6296 9152 1117 5187 5535 7152 5724 4525\n",
      " 7549 4073 7817 8700 3735 7520 8596 3563 8618 2438 4074]\n",
      "\n",
      "std dev. of column 0 : 2255.61\n",
      "std dev. of column 1 : 2279.75\n",
      "std dev. of column 2 : 2811.45\n",
      "std dev. of column 3 : 3123.0\n"
     ]
    }
   ],
   "source": [
    "# Transpose\n",
    "\n",
    "c = np.random.randint(1111, 10000, (25, 4))\n",
    "# print(c, '\\n')\n",
    "print('*'*50)\n",
    "\n",
    "data1, data2, data3, data4 = c.T        # now rows and columns both are flipped, and all the datas are taking rows now\n",
    "print(f\"data1 : {data1}\\n\")\n",
    "print(f\"data2 : {data2}\\n\")\n",
    "print(f\"data3 : {data3}\\n\")\n",
    "print(f\"data4 : {data4}\\n\")\n",
    "print('*'*50)\n",
    "\n",
    "\n",
    "newData = c[ : , 1: ]          # [row start : row end, 1st idx column: column end]\n",
    "print(newData)\n",
    "print('*'*50)\n",
    "print(c[:15, 2:],'\\n')\n",
    "print(f\"std dev. of columns : {np.round(c.std(axis=1), 2)}\\n\")\n",
    "# print(c)\n",
    "print(f\"column 1 : {np.round( c[:, 1],2)}\\n\")\n",
    "print(f\"std dev. of column 0 : {np.round(np.std(c[:, 0]),2)}\")\n",
    "print(f\"std dev. of column 1 : {np.round(np.std(c[:, 1]),2)}\")\n",
    "print(f\"std dev. of column 2 : {np.round(np.std(c[:, 2]),2)}\")\n",
    "print(f\"std dev. of column 3 : {np.round(np.std(c[:, 3]),2)}\")\n"
   ]
  }
 ],
 "metadata": {
  "kernelspec": {
   "display_name": "Python 3",
   "language": "python",
   "name": "python3"
  },
  "language_info": {
   "codemirror_mode": {
    "name": "ipython",
    "version": 3
   },
   "file_extension": ".py",
   "mimetype": "text/x-python",
   "name": "python",
   "nbconvert_exporter": "python",
   "pygments_lexer": "ipython3",
   "version": "3.13.7"
  }
 },
 "nbformat": 4,
 "nbformat_minor": 5
}
