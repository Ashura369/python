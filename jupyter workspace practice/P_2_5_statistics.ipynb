{
 "cells": [
  {
   "cell_type": "markdown",
   "id": "f54262b0",
   "metadata": {},
   "source": [
    "# Doing Statistics"
   ]
  },
  {
   "cell_type": "code",
   "execution_count": null,
   "id": "fcc70104",
   "metadata": {},
   "outputs": [],
   "source": [
    "import numpy as np\n",
    "\n",
    "a = np.arange(1, 15)\n",
    "b = np.random.randint(1, 8, (2,3))\n",
    "print(b, '\\n')\n",
    "print(\"*\"*50)\n",
    "\n",
    "print(f\"mean : {np.mean(b)}\\n\")\n",
    "print(f\"standard deviation : {np.std(b)}\\n\")\n",
    "print(f\"median : {np.median(b)}\\n\")\n",
    "print(f\"median of rows : {np.median(b, axis=0)}\\n\")\n",
    "print(f\"median of 2nd column : {np.median(b[ : ,1])}\\n\")\n"
   ]
  },
  {
   "cell_type": "markdown",
   "id": "071e9eec",
   "metadata": {},
   "source": [
    "Transpose -- (Storing Column data into Variables)"
   ]
  },
  {
   "cell_type": "code",
   "execution_count": null,
   "id": "eb1355ee",
   "metadata": {},
   "outputs": [],
   "source": [
    "# Transpose\n",
    "import numpy as np\n",
    "\n",
    "c = np.random.randint(1111, 10000, (25, 4))\n",
    "# print(c, '\\n')\n",
    "print('*'*50)\n",
    "\n",
    "data1, data2, data3, data4 = c.T\n",
    "print(f\"data1 : {data1}\\n\")\n",
    "print(f\"data2 : {data2}\\n\")\n",
    "print(f\"data3 : {data3}\\n\")\n",
    "print(f\"data4 : {data4}\\n\")\n",
    "print('*'*50)\n",
    "\n",
    "\n",
    "newData = c[ : , 1: ]          # [row start : row end, 1st idx column: column end]\n",
    "print(newData)\n",
    "print('*'*50)\n",
    "print(c[:15, 2:5],'\\n')\n",
    "print(f\"std dev. of columns : {np.round(c.std(axis=1), 2)}\\n\")\n",
    "\n",
    "\n",
    "\n"
   ]
  }
 ],
 "metadata": {
  "kernelspec": {
   "display_name": "Python 3",
   "language": "python",
   "name": "python3"
  },
  "language_info": {
   "codemirror_mode": {
    "name": "ipython",
    "version": 3
   },
   "file_extension": ".py",
   "mimetype": "text/x-python",
   "name": "python",
   "nbconvert_exporter": "python",
   "pygments_lexer": "ipython3",
   "version": "3.13.7"
  }
 },
 "nbformat": 4,
 "nbformat_minor": 5
}
