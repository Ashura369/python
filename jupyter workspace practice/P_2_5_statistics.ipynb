{
 "cells": [
  {
   "cell_type": "markdown",
   "id": "f54262b0",
   "metadata": {},
   "source": [
    "# Doing Statistics"
   ]
  },
  {
   "cell_type": "code",
   "execution_count": 1,
   "id": "fcc70104",
   "metadata": {},
   "outputs": [
    {
     "name": "stdout",
     "output_type": "stream",
     "text": [
      "[[4 4 4]\n",
      " [1 6 4]] \n",
      "\n",
      "**************************************************\n",
      "mean : 3.8333333333333335\n",
      "\n",
      "standard deviation : 1.462494064565354\n",
      "\n",
      "median : 4.0\n",
      "\n",
      "median of rows : [2.5 5.  4. ]\n",
      "\n",
      "median of 2nd column : 5.0\n",
      "\n"
     ]
    }
   ],
   "source": [
    "import numpy as np\n",
    "\n",
    "a = np.arange(1, 15)\n",
    "b = np.random.randint(1, 8, (2,3))\n",
    "print(b, '\\n')\n",
    "print(\"*\"*50)\n",
    "\n",
    "print(f\"mean : {np.mean(b)}\\n\")\n",
    "print(f\"standard deviation : {np.std(b)}\\n\")\n",
    "print(f\"median : {np.median(b)}\\n\")\n",
    "print(f\"median of rows : {np.median(b, axis=0)}\\n\")\n",
    "print(f\"median of 2nd column : {np.median(b[ : ,1])}\\n\")\n"
   ]
  },
  {
   "cell_type": "markdown",
   "id": "071e9eec",
   "metadata": {},
   "source": [
    "Transpose -- (Storing Column data into Variables)"
   ]
  },
  {
   "cell_type": "code",
   "execution_count": 2,
   "id": "eb1355ee",
   "metadata": {},
   "outputs": [
    {
     "name": "stdout",
     "output_type": "stream",
     "text": [
      "**************************************************\n",
      "data1 : [6188 9359 5112 7165 6250 4629 4361 4694 9043 4455 9344 2751 6240 9769\n",
      " 3227 1334 5075 2264 8143 3906 4952 6361 5126 1498 7589]\n",
      "\n",
      "data2 : [4867 8649 3878 2784 1732 4587 2531 5237 9891 5133 4604 8162 3115 8993\n",
      " 4548 8424 2767 7904 3204 4494 1658 9338 8579 4081 9834]\n",
      "\n",
      "data3 : [6987 2708 3677 4073 1584 2728 2318 5454 7749 8733 5040 5243 3457 3851\n",
      " 5452 9428 8817 8208 4165 2715 3827 9295 7290 6741 6907]\n",
      "\n",
      "data4 : [8600 9436 1555 6618 4346 1249 9436 6005 5344 6016 2165 7924 5735 5914\n",
      " 5245 4918 1757 1489 4665 3039 2589 9967 2782 6663 8670]\n",
      "\n",
      "**************************************************\n",
      "[[4867 6987 8600]\n",
      " [8649 2708 9436]\n",
      " [3878 3677 1555]\n",
      " [2784 4073 6618]\n",
      " [1732 1584 4346]\n",
      " [4587 2728 1249]\n",
      " [2531 2318 9436]\n",
      " [5237 5454 6005]\n",
      " [9891 7749 5344]\n",
      " [5133 8733 6016]\n",
      " [4604 5040 2165]\n",
      " [8162 5243 7924]\n",
      " [3115 3457 5735]\n",
      " [8993 3851 5914]\n",
      " [4548 5452 5245]\n",
      " [8424 9428 4918]\n",
      " [2767 8817 1757]\n",
      " [7904 8208 1489]\n",
      " [3204 4165 4665]\n",
      " [4494 2715 3039]\n",
      " [1658 3827 2589]\n",
      " [9338 9295 9967]\n",
      " [8579 7290 2782]\n",
      " [4081 6741 6663]\n",
      " [9834 6907 8670]]\n",
      "**************************************************\n",
      "[[6987 8600]\n",
      " [2708 9436]\n",
      " [3677 1555]\n",
      " [4073 6618]\n",
      " [1584 4346]\n",
      " [2728 1249]\n",
      " [2318 9436]\n",
      " [5454 6005]\n",
      " [7749 5344]\n",
      " [8733 6016]\n",
      " [5040 2165]\n",
      " [5243 7924]\n",
      " [3457 5735]\n",
      " [3851 5914]\n",
      " [5452 5245]] \n",
      "\n",
      "std dev. of columns : [1351.68 2805.43 1279.01 1800.88 1941.21 1410.35 2868.67  469.82 1716.16\n",
      " 1626.34 2585.23 2208.14 1367.85 2380.42  870.12 3184.59 2713.45 3103.74\n",
      " 1864.52  702.8  1245.09 1399.18 2203.54 2159.09 1109.73]\n",
      "\n"
     ]
    }
   ],
   "source": [
    "# Transpose\n",
    "import numpy as np\n",
    "\n",
    "c = np.random.randint(1111, 10000, (25, 4))\n",
    "# print(c, '\\n')\n",
    "print('*'*50)\n",
    "\n",
    "data1, data2, data3, data4 = c.T\n",
    "print(f\"data1 : {data1}\\n\")\n",
    "print(f\"data2 : {data2}\\n\")\n",
    "print(f\"data3 : {data3}\\n\")\n",
    "print(f\"data4 : {data4}\\n\")\n",
    "print('*'*50)\n",
    "\n",
    "\n",
    "newData = c[ : , 1: ]          # [row start : row end, 1st idx column: column end]\n",
    "print(newData)\n",
    "print('*'*50)\n",
    "print(c[:15, 2:5],'\\n')\n",
    "print(f\"std dev. of columns : {np.round(c.std(axis=1), 2)}\\n\")\n",
    "\n",
    "\n",
    "\n"
   ]
  }
 ],
 "metadata": {
  "kernelspec": {
   "display_name": "Python 3",
   "language": "python",
   "name": "python3"
  },
  "language_info": {
   "codemirror_mode": {
    "name": "ipython",
    "version": 3
   },
   "file_extension": ".py",
   "mimetype": "text/x-python",
   "name": "python",
   "nbconvert_exporter": "python",
   "pygments_lexer": "ipython3",
   "version": "3.13.7"
  }
 },
 "nbformat": 4,
 "nbformat_minor": 5
}
