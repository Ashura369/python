{
 "cells": [
  {
   "cell_type": "markdown",
   "id": "8bf8587f",
   "metadata": {},
   "source": [
    "# 2D and 3D Array"
   ]
  },
  {
   "cell_type": "markdown",
   "id": "dc22e41d",
   "metadata": {},
   "source": [
    "1D, 2D, & 3D array"
   ]
  },
  {
   "cell_type": "code",
   "execution_count": null,
   "id": "24a98cf5",
   "metadata": {},
   "outputs": [],
   "source": [
    "import numpy as np\n",
    "\n",
    "# 1D\n",
    "a = np.array([1,2,3])       # this is a 1D array\n",
    "a.ndim  # will show the dimension of arr\n"
   ]
  },
  {
   "cell_type": "code",
   "execution_count": null,
   "id": "e3b023e5",
   "metadata": {},
   "outputs": [],
   "source": [
    "# 2D\n",
    "b = np.array([[1,2,3], [4,5,6]])\n",
    "print(b)\n",
    "b.ndim"
   ]
  },
  {
   "cell_type": "code",
   "execution_count": 29,
   "id": "5c43a096",
   "metadata": {},
   "outputs": [
    {
     "name": "stdout",
     "output_type": "stream",
     "text": [
      "[[0 1]\n",
      " [2 3]\n",
      " [4 5]\n",
      " [6 7]]\n",
      "****************************************\n"
     ]
    },
    {
     "data": {
      "text/plain": [
       "array([[[0, 1],\n",
       "        [2, 3]],\n",
       "\n",
       "       [[4, 5],\n",
       "        [6, 7]]])"
      ]
     },
     "execution_count": 29,
     "metadata": {},
     "output_type": "execute_result"
    }
   ],
   "source": [
    "# 3D\n",
    "c = np.array([[0,1],[2,3],[4,5],[6,7]])         # this is 2d\n",
    "d = np.array([[[0,1],[2,3]],[[4,5],[6,7]]])     # this is 3d\n",
    "print(c)\n",
    "# c     # if you uncomment this it will not be print, this is bcoz Correct. In Jupyter Notebook / IPython only the last expression in a cell (i.e is 'd') is automatically displayed.\n",
    "print('****************************************')\n",
    "# print(d)\n",
    "d"
   ]
  }
 ],
 "metadata": {
  "kernelspec": {
   "display_name": "Python 3",
   "language": "python",
   "name": "python3"
  },
  "language_info": {
   "codemirror_mode": {
    "name": "ipython",
    "version": 3
   },
   "file_extension": ".py",
   "mimetype": "text/x-python",
   "name": "python",
   "nbconvert_exporter": "python",
   "pygments_lexer": "ipython3",
   "version": "3.13.7"
  }
 },
 "nbformat": 4,
 "nbformat_minor": 5
}
