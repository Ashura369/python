{
 "cells": [
  {
   "cell_type": "code",
   "execution_count": 2,
   "id": "8ba7a122",
   "metadata": {},
   "outputs": [
    {
     "name": "stdout",
     "output_type": "stream",
     "text": [
      "[ 1  2  3  4  5  6  7  8  9 10]\n"
     ]
    }
   ],
   "source": [
    "import numpy as np\n",
    "\n",
    "arr1 = np.arange(1, 6)         # [1,2,3,45]\n",
    "arr2 = np.array([6,7,8,9,10])\n",
    "\n",
    "finalArr = np.concatenate((arr1, arr2))\n",
    "\n",
    "print(finalArr)\n"
   ]
  },
  {
   "cell_type": "code",
   "execution_count": 8,
   "id": "5b8af145",
   "metadata": {},
   "outputs": [
    {
     "data": {
      "text/plain": [
       "array([ 1,  2,  3,  4,  5,  6,  7,  8,  9, 10])"
      ]
     },
     "execution_count": 8,
     "metadata": {},
     "output_type": "execute_result"
    }
   ],
   "source": [
    "a = np.array([1,2,3,4,5])\n",
    "b = np.array([6,7,8,9,10])\n",
    "\n",
    "# c = np.append(a)      [YOU CANT DO THIS, BCOZ TO USE APPEND YOU MUST PUT ATLEAST TWO VALUES]\n",
    "c = np.append(a, b)\n",
    "c\n"
   ]
  }
 ],
 "metadata": {
  "kernelspec": {
   "display_name": "base",
   "language": "python",
   "name": "python3"
  },
  "language_info": {
   "codemirror_mode": {
    "name": "ipython",
    "version": 3
   },
   "file_extension": ".py",
   "mimetype": "text/x-python",
   "name": "python",
   "nbconvert_exporter": "python",
   "pygments_lexer": "ipython3",
   "version": "3.13.5"
  }
 },
 "nbformat": 4,
 "nbformat_minor": 5
}
