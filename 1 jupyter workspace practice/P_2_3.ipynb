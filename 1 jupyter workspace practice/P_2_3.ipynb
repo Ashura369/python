{
 "cells": [
  {
   "cell_type": "markdown",
   "id": "d797da6e",
   "metadata": {},
   "source": [
    "# **ELEMENT WISE OPERATIONS**"
   ]
  },
  {
   "cell_type": "markdown",
   "id": "df65251d",
   "metadata": {},
   "source": [
    "1. Basic operations\n",
    "\n",
    "    with scalars"
   ]
  },
  {
   "cell_type": "code",
   "execution_count": 4,
   "id": "0a0826cc",
   "metadata": {},
   "outputs": [
    {
     "name": "stdout",
     "output_type": "stream",
     "text": [
      "[0 1 2 3 4]\n",
      "\n",
      "[1 2 3 4 5]\n",
      "\n",
      "[ 0  1  4  9 16]\n",
      "\n"
     ]
    }
   ],
   "source": [
    "import numpy as np\n",
    "\n",
    "\n",
    "a = np.arange(5)\n",
    "print(f\"{a}\\n\")                               # will do +1 into all the elements in a\n",
    "print(f\"{a+1}\\n\")                               # will do +1 into all the elements in a\n",
    "print(f\"{a**2}\\n\")"
   ]
  },
  {
   "cell_type": "markdown",
   "id": "ac9f64a6",
   "metadata": {},
   "source": [
    "All arithmatic operations element wise"
   ]
  },
  {
   "cell_type": "code",
   "execution_count": 3,
   "id": "65ea5f80",
   "metadata": {},
   "outputs": [
    {
     "name": "stdout",
     "output_type": "stream",
     "text": [
      "[1. 1. 1. 1. 1.]\n",
      "\n",
      "[2. 2. 2. 2. 2.]\n",
      "\n",
      "[-1.  0.  1.  2.  3.]\n",
      "\n",
      "[0. 1. 2. 3. 4.]\n",
      "\n",
      "**************************************************\n",
      "c\n",
      " [[1 0 0 0]\n",
      " [0 2 0 0]\n",
      " [0 0 3 0]\n",
      " [0 0 0 4]]\n",
      "\n",
      "c*2\n",
      " [[2 0 0 0]\n",
      " [0 4 0 0]\n",
      " [0 0 6 0]\n",
      " [0 0 0 8]]\n",
      "\n",
      "c+1\n",
      " [[2 1 1 1]\n",
      " [1 3 1 1]\n",
      " [1 1 4 1]\n",
      " [1 1 1 5]]\n",
      "\n",
      "c*c\n",
      " [[ 1  0  0  0]\n",
      " [ 0  4  0  0]\n",
      " [ 0  0  9  0]\n",
      " [ 0  0  0 16]]\n",
      "\n"
     ]
    }
   ],
   "source": [
    "b = np.ones((5))\n",
    "print(f\"{b}\\n\")\n",
    "print(f\"{b+1}\\n\")\n",
    "print(f\"{a-b}\\n\")       # make sure that the element numbers in a is same as element numbers in b\n",
    "print(f\"{a*b}\\n\")\n",
    "\n",
    "\n",
    "# doing the same in matrix\n",
    "print('*'*50)\n",
    "c = np.diag([1,2,3,4])\n",
    "print(f\"c\\n {c}\\n\")\n",
    "print(f\"c*2\\n {c*2}\\n\")\n",
    "print(f\"c+1\\n {c+1}\\n\")\n",
    "print(f\"c*c\\n {c*c}\\n\")\n",
    "    # print(f\"c.dot(c)\\n {c.dot(c)}\\n\")     [you can also do this for c*c]"
   ]
  },
  {
   "cell_type": "markdown",
   "id": "3162e954",
   "metadata": {},
   "source": [
    "Comparisions"
   ]
  },
  {
   "cell_type": "code",
   "execution_count": null,
   "id": "d267f5f4",
   "metadata": {},
   "outputs": [
    {
     "name": "stdout",
     "output_type": "stream",
     "text": [
      "[False  True False  True  True] \n",
      "\n",
      "False \n",
      "\n",
      "[ True False False False False] \n",
      "\n",
      "[False False  True False False] \n",
      "\n",
      "True \n",
      "\n",
      "False \n",
      "\n",
      "Array wise comparison : False\n",
      "Array wise comparison : True\n"
     ]
    }
   ],
   "source": [
    "d = np.array([1,2,3,4,5])\n",
    "e = np.array([0,2,6,4,5])\n",
    "\n",
    "print(d == e,'\\n')       # this will make the element wise comparison\n",
    "\n",
    "d1 = ([1,2,3,4,5])      # this is a list\n",
    "e1 = ([0,2,6,4,5])\n",
    "print(d1 == e1,'\\n')         # this will make the list wise comparison\n",
    "\n",
    "\n",
    "print(d > e,'\\n')\n",
    "print(d < e,'\\n')\n",
    "\n",
    "print(d1 > e1,'\\n')\n",
    "print(d1 < e1,'\\n')\n",
    "\n",
    "\"\"\" \n",
    "Python compares lists lexicographically (like words in a dictionary).\n",
    "First elements are compared:\n",
    "    1 vs 0 → since 1 > 0, Python stops there.   [it only compares the first element, and then it stops]\n",
    "    So d1 > e1 → True\n",
    "    And d1 < e1 → False\n",
    "\"\"\"\n",
    "\n",
    "\n",
    "# making array wise comparison -- checks wheather two arrays are equal or not\n",
    "f = e.copy()\n",
    "print(f\"Array wise comparison : {np.array_equal(d, e)}\")\n",
    "print(f\"Array wise comparison : {np.array_equal(e, f)}\")\n"
   ]
  },
  {
   "cell_type": "markdown",
   "id": "19adfc5b",
   "metadata": {},
   "source": [
    "Logical Operation"
   ]
  },
  {
   "cell_type": "code",
   "execution_count": null,
   "id": "fdead018",
   "metadata": {},
   "outputs": [
    {
     "name": "stdout",
     "output_type": "stream",
     "text": [
      "LOGICAL OR      : [ True  True  True False]\n",
      "LOGICAL AND     : [ True False False False]\n",
      "LOGICAL NOT     : [False False  True  True]\n",
      "LOGICAL XOR     : [False  True  True False]\n"
     ]
    }
   ],
   "source": [
    "g = np.array([1, 1, 0, 0], dtype=bool)  # if you dont mention the data type as bool then they will be taken as nums\n",
    "h = np.array([1, 0, 1, 0], dtype=bool)\n",
    "\n",
    "print(f\"LOGICAL OR      : {np.logical_or(g,h)}\")       # if any one in idx 0 of both in g and h is 1(true) then true will be printed, as idx 0 in both g and h is 1, hence it printed True in idx 0, SAME GOES FOR OTHER INDEXES\n",
    "print(f\"LOGICAL AND     : {np.logical_and(g,h)}\")\n",
    "print(f\"LOGICAL NOT     : {np.logical_not(g)}\")        # takes only one array (1 = false, 0 = true)\n",
    "print(f\"LOGICAL XOR     : {np.logical_xor(g,h)}\")      # if only one of the two is True then only true will be printed, but not both."
   ]
  }
 ],
 "metadata": {
  "kernelspec": {
   "display_name": "base",
   "language": "python",
   "name": "python3"
  },
  "language_info": {
   "codemirror_mode": {
    "name": "ipython",
    "version": 3
   },
   "file_extension": ".py",
   "mimetype": "text/x-python",
   "name": "python",
   "nbconvert_exporter": "python",
   "pygments_lexer": "ipython3",
   "version": "3.13.5"
  }
 },
 "nbformat": 4,
 "nbformat_minor": 5
}
