{
 "cells": [
  {
   "cell_type": "markdown",
   "id": "f54262b0",
   "metadata": {},
   "source": [
    "# Doing Statistics"
   ]
  },
  {
   "cell_type": "code",
   "execution_count": 2,
   "id": "fcc70104",
   "metadata": {},
   "outputs": [
    {
     "name": "stdout",
     "output_type": "stream",
     "text": [
      "[[6 1 1]\n",
      " [6 7 2]] \n",
      "\n",
      "**************************************************\n",
      "mean : 3.8333333333333335\n",
      "\n",
      "standard deviation : 2.544056253745625\n",
      "\n",
      "median : 4.0\n",
      "\n",
      "median of rows : [6.  4.  1.5]\n",
      "\n",
      "median of 2nd column : 4.0\n",
      "\n"
     ]
    }
   ],
   "source": [
    "import numpy as np\n",
    "\n",
    "a = np.arange(1, 15)\n",
    "b = np.random.randint(1, 8, (2,3))\n",
    "print(b, '\\n')\n",
    "print(\"*\"*50)\n",
    "\n",
    "print(f\"mean : {np.mean(b)}\\n\")\n",
    "print(f\"standard deviation : {np.std(b)}\\n\")\n",
    "print(f\"median : {np.median(b)}\\n\")\n",
    "print(f\"median of rows : {np.median(b, axis=0)}\\n\")\n",
    "print(f\"median of 2nd column : {np.median(b[ : ,1])}\\n\")\n"
   ]
  },
  {
   "cell_type": "markdown",
   "id": "071e9eec",
   "metadata": {},
   "source": [
    "Transpose -- (Storing Column data into Variables)"
   ]
  },
  {
   "cell_type": "code",
   "execution_count": 3,
   "id": "eb1355ee",
   "metadata": {},
   "outputs": [
    {
     "name": "stdout",
     "output_type": "stream",
     "text": [
      "**************************************************\n",
      "data1 : [5935 6151 6449 1546 9937 3171 5869 6963 2854 1566 2291 4020 8403 4958\n",
      " 5593 6152 1428 3966 8298 7971 4401 6152 8413 8601 2900]\n",
      "\n",
      "data2 : [2150 3214 7604 3397 1781 8810 3290 1235 3038 1748 8863 6493 5260 3898\n",
      " 9839 1310 5494 4401 9995 7953 2579 2141 7992 7264 3099]\n",
      "\n",
      "data3 : [3133 1369 2572 9450 2903 6809 6323 7178 9317 6878 3659 9601 4871 4881\n",
      " 3281 3634 1988 6952 7103 4279 1290 9275 1615 2753 4410]\n",
      "\n",
      "data4 : [1928 8297 2869 8220 7727 3065 1557 8220 1939 7036 6143 9880 9880 2589\n",
      " 7153 3469 8843 7956 2331 6436 2328 3411 5439 1329 4415]\n",
      "\n",
      "**************************************************\n",
      "[[2150 3133 1928]\n",
      " [3214 1369 8297]\n",
      " [7604 2572 2869]\n",
      " [3397 9450 8220]\n",
      " [1781 2903 7727]\n",
      " [8810 6809 3065]\n",
      " [3290 6323 1557]\n",
      " [1235 7178 8220]\n",
      " [3038 9317 1939]\n",
      " [1748 6878 7036]\n",
      " [8863 3659 6143]\n",
      " [6493 9601 9880]\n",
      " [5260 4871 9880]\n",
      " [3898 4881 2589]\n",
      " [9839 3281 7153]\n",
      " [1310 3634 3469]\n",
      " [5494 1988 8843]\n",
      " [4401 6952 7956]\n",
      " [9995 7103 2331]\n",
      " [7953 4279 6436]\n",
      " [2579 1290 2328]\n",
      " [2141 9275 3411]\n",
      " [7992 1615 5439]\n",
      " [7264 2753 1329]\n",
      " [3099 4410 4415]]\n",
      "**************************************************\n",
      "[[3133 1928]\n",
      " [1369 8297]\n",
      " [2572 2869]\n",
      " [9450 8220]\n",
      " [2903 7727]\n",
      " [6809 3065]\n",
      " [6323 1557]\n",
      " [7178 8220]\n",
      " [9317 1939]\n",
      " [6878 7036]\n",
      " [3659 6143]\n",
      " [9601 9880]\n",
      " [4871 9880]\n",
      " [4881 2589]\n",
      " [3281 7153]] \n",
      "\n",
      "std dev. of columns : [1594.93 2661.5  2193.9  3277.33 3361.23 2450.4  1942.42 2734.4  2933.75\n",
      " 2651.37 2506.88 2408.48 2108.33  957.69 2385.13 1715.25 2982.52 1680.39\n",
      " 2848.09 1509.13 1120.75 2741.44 2704.64 3025.62  710.  ]\n",
      "\n",
      "column 1 : [2150 3214 7604 3397 1781 8810 3290 1235 3038 1748 8863 6493 5260 3898\n",
      " 9839 1310 5494 4401 9995 7953 2579 2141 7992 7264 3099]\n",
      "\n",
      "std dev. of column 0 : 2429.21\n",
      "std dev. of column 1 : 2816.7\n",
      "std dev. of column 2 : 2632.28\n",
      "std dev. of column 3 : 2814.28\n"
     ]
    }
   ],
   "source": [
    "# Transpose\n",
    "\n",
    "c = np.random.randint(1111, 10000, (25, 4))\n",
    "# print(c, '\\n')\n",
    "print('*'*50)\n",
    "\n",
    "data1, data2, data3, data4 = c.T        # now rows and columns both are flipped, and all the datas are taking rows now\n",
    "print(f\"data1 : {data1}\\n\")\n",
    "print(f\"data2 : {data2}\\n\")\n",
    "print(f\"data3 : {data3}\\n\")\n",
    "print(f\"data4 : {data4}\\n\")\n",
    "print('*'*50)\n",
    "\n",
    "\n",
    "newData = c[ : , 1: ]          # [row start : row end, 1st idx column: column end]\n",
    "print(newData)\n",
    "print('*'*50)\n",
    "print(c[:15, 2:],'\\n')\n",
    "print(f\"std dev. of columns : {np.round(c.std(axis=1), 2)}\\n\")\n",
    "# print(c)\n",
    "print(f\"column 1 : {np.round( c[:, 1],2)}\\n\")\n",
    "print(f\"std dev. of column 0 : {np.round(np.std(c[:, 0]),2)}\")\n",
    "print(f\"std dev. of column 1 : {np.round(np.std(c[:, 1]),2)}\")\n",
    "print(f\"std dev. of column 2 : {np.round(np.std(c[:, 2]),2)}\")\n",
    "print(f\"std dev. of column 3 : {np.round(np.std(c[:, 3]),2)}\")\n"
   ]
  }
 ],
 "metadata": {
  "kernelspec": {
   "display_name": "base",
   "language": "python",
   "name": "python3"
  },
  "language_info": {
   "codemirror_mode": {
    "name": "ipython",
    "version": 3
   },
   "file_extension": ".py",
   "mimetype": "text/x-python",
   "name": "python",
   "nbconvert_exporter": "python",
   "pygments_lexer": "ipython3",
   "version": "3.13.5"
  }
 },
 "nbformat": 4,
 "nbformat_minor": 5
}
