{
 "cells": [
  {
   "cell_type": "markdown",
   "id": "aa1aee73",
   "metadata": {},
   "source": [
    "# **BASIC REDUCTIONS**"
   ]
  },
  {
   "cell_type": "markdown",
   "id": "4b22ed6e",
   "metadata": {},
   "source": [
    "Sums"
   ]
  },
  {
   "cell_type": "code",
   "execution_count": 1,
   "id": "602a24c9",
   "metadata": {},
   "outputs": [
    {
     "name": "stdout",
     "output_type": "stream",
     "text": [
      "sum : 15\n",
      "\n",
      "**************************************************\n",
      "sum : 10\n",
      "\n",
      "sum axis 0 : [4 6]\n",
      "\n",
      "sum axis 1 : [3 7]\n",
      "\n",
      "**************************************************\n",
      "Sum of all elements: 45\n",
      "\n",
      "Sum along axis 0 (columns): [12 15 18]\n",
      "\n",
      "Sum along axis 1 (rows): [ 6 15 24]\n",
      "\n"
     ]
    }
   ],
   "source": [
    "import numpy as np\n",
    "x = np.array([1,2,3,4,5])\n",
    "\n",
    "print(f\"sum : {np.sum(x)}\\n\")\n",
    "\n",
    "print('*'*50)\n",
    "y = np.array([[1,2], [3,4]])\n",
    "print(f\"sum : {np.sum(y)}\\n\")                   # 1+2+3+4 = 10\n",
    "print(f\"sum axis 0 : {y.sum(axis = 0)}\\n\")      # culumn wise sum\n",
    "print(f\"sum axis 1 : {y.sum(axis = 1)}\\n\")      # row wise sum\n",
    "\n",
    "\n",
    "\n",
    "print('*'*50)\n",
    "z = np.array([[1, 2, 3],\n",
    "              [4, 5, 6],\n",
    "              [7, 8, 9]])\n",
    "\n",
    "# Total sum\n",
    "print(f\"Sum of all elements: {np.sum(z)}\\n\")  # 1+2+3+4+5+6+7+8+9 = 45\n",
    "\n",
    "# Column-wise sum (axis=0)\n",
    "print(f\"Sum along axis 0 (columns): {z.sum(axis=0)}\\n\")  \n",
    "# [1+4+7, 2+5+8, 3+6+9] → [12, 15, 18]\n",
    "\n",
    "# Row-wise sum (axis=1)\n",
    "print(f\"Sum along axis 1 (rows): {z.sum(axis=1)}\\n\")  \n",
    "# [1+2+3, 4+5+6, 7+8+9] → [6, 15, 24]\n",
    "\n",
    "# print(f\"Sum along axis 1 (rows): {z.sum(axis=2)}\\n\")      [YOU CANT PUT ANY OTHER VALUE OTHER THEN 0 (COLUMN) AND 1(ROW) ]  "
   ]
  },
  {
   "cell_type": "code",
   "execution_count": null,
   "id": "54355288",
   "metadata": {},
   "outputs": [
    {
     "name": "stdout",
     "output_type": "stream",
     "text": [
      "1\n",
      "\n",
      "0\n",
      "\n",
      "14\n",
      "\n",
      "13\n",
      "\n"
     ]
    }
   ],
   "source": [
    "a = np.arange(1, 15)\n",
    "print(f\"{a.min()}\\n\")          # 1\n",
    "print(f\"{a.argmin()}\\n\")       # 0     returns index of the min element\n",
    "print(f\"{a.max()}\\n\")          # 14\n",
    "print(f\"{a.argmax()}\\n\")       # 14    returns index of the max element\n"
   ]
  },
  {
   "cell_type": "markdown",
   "id": "d2397ea1",
   "metadata": {},
   "source": [
    "Logical Operations"
   ]
  },
  {
   "cell_type": "code",
   "execution_count": 3,
   "id": "3005440b",
   "metadata": {},
   "outputs": [
    {
     "name": "stdout",
     "output_type": "stream",
     "text": [
      "All : False\n",
      "Any : True\n",
      "\n",
      "[[0. 0. 0. 0. 0.]\n",
      " [0. 0. 0. 0. 0.]\n",
      " [0. 0. 0. 0. 0.]\n",
      " [0. 0. 0. 0. 0.]\n",
      " [0. 0. 0. 0. 0.]]\n",
      "\n",
      "Any != 0 : False\n",
      "\n",
      "Any == 0 : True\n",
      "\n",
      "True \n",
      "\n",
      "True \n",
      "\n",
      "True \n",
      "\n"
     ]
    },
    {
     "data": {
      "text/plain": [
       "'\\nnp.all(x) → calls the NumPy function.\\nx.all() → calls the array’s own method.\\n'"
      ]
     },
     "execution_count": 3,
     "metadata": {},
     "output_type": "execute_result"
    }
   ],
   "source": [
    "b = np.array([1,0,1,1], dtype = bool)\n",
    "\n",
    "print(f\"All : {np.all(b)}\")     # if all of them are true, then its true\n",
    "print(f\"Any : {np.any(b)}\\n\")     # if any one of them is true, then its true\n",
    "\n",
    "\n",
    "# can be used for array comparisons\n",
    "c  = np.zeros((5,5))\n",
    "print(f\"{c}\\n\")\n",
    "print(f\"Any != 0 : {np.any(c != 0)}\\n\")     # checks if any of them is not 0\n",
    "print(f\"Any == 0 : {np.all(c == 0)}\\n\")     # checks if all of them are 0\n",
    "\n",
    "\n",
    "d1 = np.array([1,2,3,2])\n",
    "d2 = np.array([2,2,3,2])\n",
    "d3 = np.array([6,4,4,5])\n",
    "print(np.all((d1 <= d2) & (d2 <= d3)), '\\n')\n",
    "print(((d1 <= d2) & (d2 <= d3)).all(), '\\n')\n",
    "print(np.any((d1 <= d2) & (d2 <= d3)), '\\n')\n",
    "\n",
    "\"\"\"\n",
    "np.all(x) → calls the NumPy function.\n",
    "x.all() → calls the array’s own method.\n",
    "\"\"\"\n"
   ]
  }
 ],
 "metadata": {
  "kernelspec": {
   "display_name": "base",
   "language": "python",
   "name": "python3"
  },
  "language_info": {
   "codemirror_mode": {
    "name": "ipython",
    "version": 3
   },
   "file_extension": ".py",
   "mimetype": "text/x-python",
   "name": "python",
   "nbconvert_exporter": "python",
   "pygments_lexer": "ipython3",
   "version": "3.13.5"
  }
 },
 "nbformat": 4,
 "nbformat_minor": 5
}
