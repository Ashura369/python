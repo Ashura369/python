{
 "cells": [
  {
   "cell_type": "markdown",
   "id": "b8373ae0",
   "metadata": {},
   "source": [
    "#### Importing few columns from another file"
   ]
  },
  {
   "cell_type": "code",
   "execution_count": null,
   "id": "5d73d2e6",
   "metadata": {},
   "outputs": [],
   "source": []
  }
 ],
 "metadata": {
  "kernelspec": {
   "display_name": "base",
   "language": "python",
   "name": "python3"
  },
  "language_info": {
   "codemirror_mode": {
    "name": "ipython",
    "version": 3
   },
   "file_extension": ".py",
   "mimetype": "text/x-python",
   "name": "python",
   "nbconvert_exporter": "python",
   "pygments_lexer": "ipython3",
   "version": "3.13.5"
  }
 },
 "nbformat": 4,
 "nbformat_minor": 5
}
