{
 "cells": [
  {
   "cell_type": "markdown",
   "id": "b8373ae0",
   "metadata": {},
   "source": [
    "# EDA (exploratory data analysis)"
   ]
  },
  {
   "cell_type": "code",
   "execution_count": 37,
   "id": "5d73d2e6",
   "metadata": {},
   "outputs": [
    {
     "data": {
      "text/plain": [
       "'        \\nThere are 3 methods to do EDA;\\n\\n1/ Univariate analysis\\n2/ Bivariate analysis\\n3/ Multivariate analysis\\n\\n'"
      ]
     },
     "execution_count": 37,
     "metadata": {},
     "output_type": "execute_result"
    }
   ],
   "source": [
    "\"\"\"        \n",
    "There are 3 methods to do EDA;\n",
    "\n",
    "1/ Univariate analysis\n",
    "2/ Bivariate analysis\n",
    "3/ Multivariate analysis\n",
    "\n",
    "\"\"\""
   ]
  },
  {
   "cell_type": "markdown",
   "id": "07eefc8c",
   "metadata": {},
   "source": [
    "###  Univariate analysis"
   ]
  },
  {
   "cell_type": "code",
   "execution_count": 38,
   "id": "9e934cfb",
   "metadata": {},
   "outputs": [
    {
     "data": {
      "text/plain": [
       "'       \\nsuppose  you have a dataset of 10 coulumns,\\n\\nyou are doing analysis of any one column, is univariate analysis\\nyou are doing analysis of any two columns, is bivarite analysis\\nyou are doing analysis of more than two columns, is multivariate analysis\\n\\n'"
      ]
     },
     "execution_count": 38,
     "metadata": {},
     "output_type": "execute_result"
    }
   ],
   "source": [
    "\"\"\"       \n",
    "suppose  you have a dataset of 10 coulumns,\n",
    "\n",
    "you are doing analysis of any one column, is univariate analysis\n",
    "you are doing analysis of any two columns, is bivarite analysis\n",
    "you are doing analysis of more than two columns, is multivariate analysis\n",
    "\n",
    "\"\"\""
   ]
  },
  {
   "cell_type": "code",
   "execution_count": 39,
   "id": "6080b2ff",
   "metadata": {},
   "outputs": [],
   "source": [
    "import pandas as pd\n",
    "import matplotlib.pyplot as plt\n",
    "import seaborn as sns"
   ]
  },
  {
   "cell_type": "code",
   "execution_count": 40,
   "id": "86e75a21",
   "metadata": {},
   "outputs": [
    {
     "data": {
      "text/html": [
       "<div>\n",
       "<style scoped>\n",
       "    .dataframe tbody tr th:only-of-type {\n",
       "        vertical-align: middle;\n",
       "    }\n",
       "\n",
       "    .dataframe tbody tr th {\n",
       "        vertical-align: top;\n",
       "    }\n",
       "\n",
       "    .dataframe thead th {\n",
       "        text-align: right;\n",
       "    }\n",
       "</style>\n",
       "<table border=\"1\" class=\"dataframe\">\n",
       "  <thead>\n",
       "    <tr style=\"text-align: right;\">\n",
       "      <th></th>\n",
       "      <th>PassengerId</th>\n",
       "      <th>Survived</th>\n",
       "      <th>Pclass</th>\n",
       "      <th>Name</th>\n",
       "      <th>Sex</th>\n",
       "      <th>Age</th>\n",
       "      <th>SibSp</th>\n",
       "      <th>Parch</th>\n",
       "      <th>Ticket</th>\n",
       "      <th>Fare</th>\n",
       "      <th>Cabin</th>\n",
       "      <th>Embarked</th>\n",
       "    </tr>\n",
       "  </thead>\n",
       "  <tbody>\n",
       "    <tr>\n",
       "      <th>0</th>\n",
       "      <td>1</td>\n",
       "      <td>0</td>\n",
       "      <td>3</td>\n",
       "      <td>Braund, Mr. Owen Harris</td>\n",
       "      <td>male</td>\n",
       "      <td>22.0</td>\n",
       "      <td>1</td>\n",
       "      <td>0</td>\n",
       "      <td>A/5 21171</td>\n",
       "      <td>7.2500</td>\n",
       "      <td>NaN</td>\n",
       "      <td>S</td>\n",
       "    </tr>\n",
       "    <tr>\n",
       "      <th>1</th>\n",
       "      <td>2</td>\n",
       "      <td>1</td>\n",
       "      <td>1</td>\n",
       "      <td>Cumings, Mrs. John Bradley (Florence Briggs Th...</td>\n",
       "      <td>female</td>\n",
       "      <td>38.0</td>\n",
       "      <td>1</td>\n",
       "      <td>0</td>\n",
       "      <td>PC 17599</td>\n",
       "      <td>71.2833</td>\n",
       "      <td>C85</td>\n",
       "      <td>C</td>\n",
       "    </tr>\n",
       "    <tr>\n",
       "      <th>2</th>\n",
       "      <td>3</td>\n",
       "      <td>1</td>\n",
       "      <td>3</td>\n",
       "      <td>Heikkinen, Miss. Laina</td>\n",
       "      <td>female</td>\n",
       "      <td>26.0</td>\n",
       "      <td>0</td>\n",
       "      <td>0</td>\n",
       "      <td>STON/O2. 3101282</td>\n",
       "      <td>7.9250</td>\n",
       "      <td>NaN</td>\n",
       "      <td>S</td>\n",
       "    </tr>\n",
       "    <tr>\n",
       "      <th>3</th>\n",
       "      <td>4</td>\n",
       "      <td>1</td>\n",
       "      <td>1</td>\n",
       "      <td>Futrelle, Mrs. Jacques Heath (Lily May Peel)</td>\n",
       "      <td>female</td>\n",
       "      <td>35.0</td>\n",
       "      <td>1</td>\n",
       "      <td>0</td>\n",
       "      <td>113803</td>\n",
       "      <td>53.1000</td>\n",
       "      <td>C123</td>\n",
       "      <td>S</td>\n",
       "    </tr>\n",
       "    <tr>\n",
       "      <th>4</th>\n",
       "      <td>5</td>\n",
       "      <td>0</td>\n",
       "      <td>3</td>\n",
       "      <td>Allen, Mr. William Henry</td>\n",
       "      <td>male</td>\n",
       "      <td>35.0</td>\n",
       "      <td>0</td>\n",
       "      <td>0</td>\n",
       "      <td>373450</td>\n",
       "      <td>8.0500</td>\n",
       "      <td>NaN</td>\n",
       "      <td>S</td>\n",
       "    </tr>\n",
       "    <tr>\n",
       "      <th>...</th>\n",
       "      <td>...</td>\n",
       "      <td>...</td>\n",
       "      <td>...</td>\n",
       "      <td>...</td>\n",
       "      <td>...</td>\n",
       "      <td>...</td>\n",
       "      <td>...</td>\n",
       "      <td>...</td>\n",
       "      <td>...</td>\n",
       "      <td>...</td>\n",
       "      <td>...</td>\n",
       "      <td>...</td>\n",
       "    </tr>\n",
       "    <tr>\n",
       "      <th>886</th>\n",
       "      <td>887</td>\n",
       "      <td>0</td>\n",
       "      <td>2</td>\n",
       "      <td>Montvila, Rev. Juozas</td>\n",
       "      <td>male</td>\n",
       "      <td>27.0</td>\n",
       "      <td>0</td>\n",
       "      <td>0</td>\n",
       "      <td>211536</td>\n",
       "      <td>13.0000</td>\n",
       "      <td>NaN</td>\n",
       "      <td>S</td>\n",
       "    </tr>\n",
       "    <tr>\n",
       "      <th>887</th>\n",
       "      <td>888</td>\n",
       "      <td>1</td>\n",
       "      <td>1</td>\n",
       "      <td>Graham, Miss. Margaret Edith</td>\n",
       "      <td>female</td>\n",
       "      <td>19.0</td>\n",
       "      <td>0</td>\n",
       "      <td>0</td>\n",
       "      <td>112053</td>\n",
       "      <td>30.0000</td>\n",
       "      <td>B42</td>\n",
       "      <td>S</td>\n",
       "    </tr>\n",
       "    <tr>\n",
       "      <th>888</th>\n",
       "      <td>889</td>\n",
       "      <td>0</td>\n",
       "      <td>3</td>\n",
       "      <td>Johnston, Miss. Catherine Helen \"Carrie\"</td>\n",
       "      <td>female</td>\n",
       "      <td>NaN</td>\n",
       "      <td>1</td>\n",
       "      <td>2</td>\n",
       "      <td>W./C. 6607</td>\n",
       "      <td>23.4500</td>\n",
       "      <td>NaN</td>\n",
       "      <td>S</td>\n",
       "    </tr>\n",
       "    <tr>\n",
       "      <th>889</th>\n",
       "      <td>890</td>\n",
       "      <td>1</td>\n",
       "      <td>1</td>\n",
       "      <td>Behr, Mr. Karl Howell</td>\n",
       "      <td>male</td>\n",
       "      <td>26.0</td>\n",
       "      <td>0</td>\n",
       "      <td>0</td>\n",
       "      <td>111369</td>\n",
       "      <td>30.0000</td>\n",
       "      <td>C148</td>\n",
       "      <td>C</td>\n",
       "    </tr>\n",
       "    <tr>\n",
       "      <th>890</th>\n",
       "      <td>891</td>\n",
       "      <td>0</td>\n",
       "      <td>3</td>\n",
       "      <td>Dooley, Mr. Patrick</td>\n",
       "      <td>male</td>\n",
       "      <td>32.0</td>\n",
       "      <td>0</td>\n",
       "      <td>0</td>\n",
       "      <td>370376</td>\n",
       "      <td>7.7500</td>\n",
       "      <td>NaN</td>\n",
       "      <td>Q</td>\n",
       "    </tr>\n",
       "  </tbody>\n",
       "</table>\n",
       "<p>891 rows × 12 columns</p>\n",
       "</div>"
      ],
      "text/plain": [
       "     PassengerId  Survived  Pclass  \\\n",
       "0              1         0       3   \n",
       "1              2         1       1   \n",
       "2              3         1       3   \n",
       "3              4         1       1   \n",
       "4              5         0       3   \n",
       "..           ...       ...     ...   \n",
       "886          887         0       2   \n",
       "887          888         1       1   \n",
       "888          889         0       3   \n",
       "889          890         1       1   \n",
       "890          891         0       3   \n",
       "\n",
       "                                                  Name     Sex   Age  SibSp  \\\n",
       "0                              Braund, Mr. Owen Harris    male  22.0      1   \n",
       "1    Cumings, Mrs. John Bradley (Florence Briggs Th...  female  38.0      1   \n",
       "2                               Heikkinen, Miss. Laina  female  26.0      0   \n",
       "3         Futrelle, Mrs. Jacques Heath (Lily May Peel)  female  35.0      1   \n",
       "4                             Allen, Mr. William Henry    male  35.0      0   \n",
       "..                                                 ...     ...   ...    ...   \n",
       "886                              Montvila, Rev. Juozas    male  27.0      0   \n",
       "887                       Graham, Miss. Margaret Edith  female  19.0      0   \n",
       "888           Johnston, Miss. Catherine Helen \"Carrie\"  female   NaN      1   \n",
       "889                              Behr, Mr. Karl Howell    male  26.0      0   \n",
       "890                                Dooley, Mr. Patrick    male  32.0      0   \n",
       "\n",
       "     Parch            Ticket     Fare Cabin Embarked  \n",
       "0        0         A/5 21171   7.2500   NaN        S  \n",
       "1        0          PC 17599  71.2833   C85        C  \n",
       "2        0  STON/O2. 3101282   7.9250   NaN        S  \n",
       "3        0            113803  53.1000  C123        S  \n",
       "4        0            373450   8.0500   NaN        S  \n",
       "..     ...               ...      ...   ...      ...  \n",
       "886      0            211536  13.0000   NaN        S  \n",
       "887      0            112053  30.0000   B42        S  \n",
       "888      2        W./C. 6607  23.4500   NaN        S  \n",
       "889      0            111369  30.0000  C148        C  \n",
       "890      0            370376   7.7500   NaN        Q  \n",
       "\n",
       "[891 rows x 12 columns]"
      ]
     },
     "execution_count": 40,
     "metadata": {},
     "output_type": "execute_result"
    }
   ],
   "source": [
    "df = pd.read_csv(\"titanic.csv\")\n",
    "df"
   ]
  },
  {
   "cell_type": "code",
   "execution_count": 41,
   "id": "633fdf3e",
   "metadata": {},
   "outputs": [],
   "source": [
    "# datas in columns can be of two types such as numerical data and another is categorical data\n",
    "# first we will be working on categorical data\n",
    "# in the data categorical data columns are survived, Pclass (like first class or second class traveller), sex, SibSp (sibling / spouce), Parch (parent / child), Embarked (from the stations the passengers deported, each letter in this column represents the first initial of the station name)\n"
   ]
  },
  {
   "cell_type": "markdown",
   "id": "1e44caca",
   "metadata": {},
   "source": [
    "## Categorical Data\n",
    "\n",
    "### 1 - Countplot"
   ]
  },
  {
   "cell_type": "code",
   "execution_count": 42,
   "id": "5cd2f5ed",
   "metadata": {},
   "outputs": [
    {
     "name": "stdout",
     "output_type": "stream",
     "text": [
      "Shape of the data : (891, 12) \n",
      "\n",
      "People died (0) vs People survived (1) : \n",
      "Survived\n",
      "0    549\n",
      "1    342\n",
      "Name: count, dtype: int64 \n",
      "\n",
      "Axes(0.125,0.11;0.775x0.77)\n"
     ]
    },
    {
     "data": {
      "image/png": "[encoded data removed]",
      "text/plain": [
       "<Figure size 640x480 with 1 Axes>"
      ]
     },
     "metadata": {},
     "output_type": "display_data"
    }
   ],
   "source": [
    "# we are going to work on \"survived\" column\n",
    "\n",
    "# 1/ to do so we need to know total how many ppl were on the ship. total rows = total people\n",
    "print(f\"Shape of the data : {df.shape} \\n\") # total 891 ppl were on that ship\n",
    "\n",
    "# 2/ counting how many ppl died and how many survived\n",
    "print(f\"People died (0) vs People survived (1) : \\n{df[\"Survived\"].value_counts()} \\n\") \n",
    "\n",
    "# 3/ plotting oif how many ppl suvived and how many didnt, for this we have to use \"countplot\" from \"seaborn\"\n",
    "print(sns.countplot(data=df, x='Survived', hue='Survived', palette='coolwarm')) # palette and hue are for color grading\n",
    "\n"
   ]
  },
  {
   "cell_type": "markdown",
   "id": "ab102710",
   "metadata": {},
   "source": [
    "### 2 - Piechart"
   ]
  },
  {
   "cell_type": "code",
   "execution_count": 43,
   "id": "e74d74ea",
   "metadata": {},
   "outputs": [
    {
     "name": "stdout",
     "output_type": "stream",
     "text": [
      "Axes(0.22375,0.11;0.5775x0.77)\n"
     ]
    },
    {
     "data": {
      "image/png": "[encoded data removed]",
      "text/plain": [
       "<Figure size 640x480 with 1 Axes>"
      ]
     },
     "metadata": {},
     "output_type": "display_data"
    }
   ],
   "source": [
    "# printing the dead and alive in percentage, for this you have to use pie chart\n",
    "\n",
    "print(df['Survived'].value_counts().plot(kind = 'pie', autopct='%.2f'))\n",
    "# print(df['Embarked'].value_counts().plot(kind = 'pie', autopct='%.2f'))       # uncomment this and you will see the percentage pie chart for \"Embarked\", you can do the same with other categorical data columns\n"
   ]
  },
  {
   "cell_type": "code",
   "execution_count": 44,
   "id": "6c151802",
   "metadata": {},
   "outputs": [
    {
     "data": {
      "text/plain": [
       "Text(0.5, 1.0, 'Survival Distribution')"
      ]
     },
     "execution_count": 44,
     "metadata": {},
     "output_type": "execute_result"
    },
    {
     "data": {
      "image/png": "[encoded data removed]",
      "text/plain": [
       "<Figure size 640x480 with 1 Axes>"
      ]
     },
     "metadata": {},
     "output_type": "display_data"
    }
   ],
   "source": [
    "# printing the pie chart again using matplotlib\n",
    "\n",
    "# Count values\n",
    "survival_counts = df['Survived'].value_counts()\n",
    "\n",
    "# Pie chart\n",
    "plt.pie(\n",
    "    survival_counts,\n",
    "    labels=survival_counts.index,\n",
    "    autopct='%.2f',\n",
    "    colors=['#ff6666', '#66b3ff'],\n",
    "    startangle=90\n",
    ")\n",
    "plt.title('Survival Distribution')"
   ]
  },
  {
   "cell_type": "markdown",
   "id": "b5d07364",
   "metadata": {},
   "source": [
    "# Numerical Data\n",
    "\n",
    "### 1 - Histogram"
   ]
  },
  {
   "cell_type": "code",
   "execution_count": 45,
   "id": "1f38462b",
   "metadata": {},
   "outputs": [
    {
     "data": {
      "text/plain": [
       "'         \\nIf Age ranges from 0 to 80 and you set bins = 8,\\n    then each bar covers a 10-year range (0-10, 10-20, …).\\n    More bins → finer detail (more bars).\\n    Fewer bins → broader grouping (less detail).\\n\\n'"
      ]
     },
     "execution_count": 45,
     "metadata": {},
     "output_type": "execute_result"
    },
    {
     "data": {
      "image/png": "[encoded data removed]",
      "text/plain": [
       "<Figure size 640x480 with 1 Axes>"
      ]
     },
     "metadata": {},
     "output_type": "display_data"
    }
   ],
   "source": [
    "# we use numerical data in the columns that holds numerical data only\n",
    "\n",
    "# plt.hist(df[\"Age\"], bins=40, color='skyblue', edgecolor='black')\n",
    "# bins defines how many intervals (bars) your data range is divided into in a histogram.\n",
    "\n",
    "plt.hist(df[\"Age\"], bins=range(0, 81, 2), color='skyblue', edgecolor='black')          # instead of assigning a single number to bins we have used \"range\" here range is from 0 to 81 (81 being exclusive), and each bin convers 5 years [write 1 in place of 5 and you will have more precise detail]\n",
    "\n",
    "\"\"\"         \n",
    "If Age ranges from 0 to 80 and you set bins = 8,\n",
    "    then each bar covers a 10-year range (0-10, 10-20, …).\n",
    "    More bins → finer detail (more bars).\n",
    "    Fewer bins → broader grouping (less detail).\n",
    "\n",
    "\"\"\""
   ]
  },
  {
   "cell_type": "markdown",
   "id": "9f10f2b0",
   "metadata": {},
   "source": [
    "### 2 - kdeplot"
   ]
  },
  {
   "cell_type": "code",
   "execution_count": null,
   "id": "45bc7ced",
   "metadata": {},
   "outputs": [
    {
     "data": {
      "text/plain": [
       "<Axes: xlabel='Age', ylabel='Density'>"
      ]
     },
     "execution_count": 52,
     "metadata": {},
     "output_type": "execute_result"
    },
    {
     "data": {
      "image/png": "[encoded data removed]",
      "text/plain": [
       "<Figure size 640x480 with 1 Axes>"
      ]
     },
     "metadata": {},
     "output_type": "display_data"
    }
   ],
   "source": [
    "# plotting kdeplot [kde -- kernal density estimation]\n",
    "sns.kdeplot(df['Age'], color='red')\n",
    "\n",
    "\"\"\"         \n",
    "In earlier example of using histogram, we were able to see the data in bar graph format, now while using\n",
    "\"kdeplot\" we can have a clear vision of data that the people who were travelling in Titanic were mostly \n",
    "btwn the age gap of 18 - 50\n",
    "\n",
    "This kdeplot also shows, if we want to know wheather someone is from age group of 40 or not, the probability \n",
    "of him being the age 40 is 15% (as shown in y axis). SAME GOES FOR OTHER AGE GROUPS\n",
    "\n",
    "It also shows the skewness in the data\n",
    "\n",
    "THE HISTOGRAM SHOWS THE PROBABILITY OF SOMETHING.\n",
    "HENCE ITS CALLED -- PDF (PROBABILITY DENSITY FUNCTION)\n",
    "\"\"\""
   ]
  },
  {
   "cell_type": "code",
   "execution_count": null,
   "id": "5ab6c512",
   "metadata": {},
   "outputs": [
    {
     "data": {
      "text/plain": [
       "np.float64(0.38910778230082704)"
      ]
     },
     "execution_count": 74,
     "metadata": {},
     "output_type": "execute_result"
    }
   ],
   "source": [
    "# printing skewness\n",
    "# if the ans you get is in +ve, than the data is positively skewed to the right side\n",
    "# if the ans you get is in -ve, than the data is negatively skewed to the left side\n",
    "\n",
    "\n",
    "df[\"Age\"].skew()  # the ans you will get is positively skewed to the right side"
   ]
  },
  {
   "cell_type": "code",
   "execution_count": 61,
   "id": "37775674",
   "metadata": {},
   "outputs": [
    {
     "data": {
      "text/plain": [
       "'          \\nWhen using histplot we can plot both histogram and kdeplot at the same time\\n\\n'"
      ]
     },
     "execution_count": 61,
     "metadata": {},
     "output_type": "execute_result"
    },
    {
     "data": {
      "image/png": "[encoded data removed]",
      "text/plain": [
       "<Figure size 640x480 with 1 Axes>"
      ]
     },
     "metadata": {},
     "output_type": "display_data"
    }
   ],
   "source": [
    "# plotting kdeplot with histplot\n",
    "sns.histplot(df['Age'], kde=True, color='red', bins=40)\n",
    "\n",
    "\"\"\"          \n",
    "When using histplot we can plot both histogram and kdeplot at the same time\n",
    "\n",
    "\"\"\""
   ]
  },
  {
   "cell_type": "markdown",
   "id": "300408e9",
   "metadata": {},
   "source": [
    "### 3 - Boxplot"
   ]
  },
  {
   "cell_type": "code",
   "execution_count": null,
   "id": "73a7e202",
   "metadata": {},
   "outputs": [
    {
     "data": {
      "text/plain": [
       "\"          \\nAs you can see from the diagram below, that It shows the data's spread and outliers.\\n\\nThe box represents the interquartile range (IQR) — the middle 50% of age group.\\nThe horizontal line inside the box is the median age group ppl.\\nThe “whiskers” (lines extending from the box) show the range of most data values.\\nThe dots above the whiskers are outliers — unusually high age group ppl far from the majority   (the dot which is way far than other ones).\\n\\n\\nMost high age group ppl are low and tightly grouped.\\n\\nY-axis → the ages (numeric scale showing what age group ppl belonged to)   [AGE GROUP].\\nX-axis → no variable, since you plotted only one column. It's just a placeholder.\\n\\n\\nWhiskers -->\\nThe whiskers are the lines that extend from the top and bottom of the box.\\nThey represent the range of the data excluding outliers. \\n\\nSpecifically:\\n    The lower whisker extends to the smallest value within 1.5 x IQR (Interquartile Range) below Q1.\\n    The upper whisker extends to the largest value within 1.5 x IQR above Q3.\\n\\nAny points beyond the whiskers are considered outliers and are shown as individual circles.\\nIn your plot, the whiskers show the general spread of ticket fares, while the circles above the upper whisker are the unusually high fares.\\n\\n\\nYOU CAN DO THE SAME WITH '' column\\n\\n\""
      ]
     },
     "execution_count": 66,
     "metadata": {},
     "output_type": "execute_result"
    },
    {
     "data": {
      "image/png": "[encoded data removed]",
      "text/plain": [
       "<Figure size 640x480 with 1 Axes>"
      ]
     },
     "metadata": {},
     "output_type": "display_data"
    }
   ],
   "source": [
    "# we use boxplot when generally there is noise and outliers in the data you are working with\n",
    "\n",
    "sns.boxplot(df[\"Age\"])\n",
    "\n",
    "\"\"\"          \n",
    "As you can see from the diagram below, that It shows the data's spread and outliers.\n",
    "\n",
    "- The box represents the interquartile range (IQR) — the middle 50% of age group.\n",
    "- The horizontal line inside the box is the median age group ppl (which is somewhere around 28 as per the diagram).\n",
    "- The “whiskers” (lines extending from the box) show the range of most data values.\n",
    "    Max age group 65  (age group which is useful)\n",
    "    Min age group 20  (age group which is useful)\n",
    "- The dots above the whiskers are outliers — unusually high age group ppl far from the majority   (the dot which is way far than other ones).\n",
    "\n",
    "\n",
    "Most high age group ppl are low and tightly grouped.\n",
    "\n",
    "Y-axis → the ages (numeric scale showing what age group ppl belonged to)   [AGE GROUP].\n",
    "X-axis → no variable, since you plotted only one column. It's just a placeholder.\n",
    "\n",
    "\n",
    "Whiskers -->\n",
    "The whiskers are the lines that extend from the top and bottom of the box.\n",
    "They represent the range of the data excluding outliers. \n",
    "\n",
    "Specifically:\n",
    "    The lower whisker extends to the smallest value within 1.5 x IQR (Interquartile Range) below Q1.\n",
    "    The upper whisker extends to the largest value within 1.5 x IQR above Q3.\n",
    "\n",
    "Any points beyond the whiskers are considered outliers and are shown as individual circles.\n",
    "In your plot, the whiskers show the general spread of ticket fares, while the circles above the upper whisker are the unusually high fares.\n",
    "\n",
    "\n",
    "YOU CAN DO THE SAME WITH 'Fares' and other columns\n",
    "\n",
    "\"\"\""
   ]
  },
  {
   "cell_type": "code",
   "execution_count": 68,
   "id": "0daf4297",
   "metadata": {},
   "outputs": [
    {
     "data": {
      "text/plain": [
       "<Axes: ylabel='Fare'>"
      ]
     },
     "execution_count": 68,
     "metadata": {},
     "output_type": "execute_result"
    },
    {
     "data": {
      "image/png": "[encoded data removed]",
      "text/plain": [
       "<Figure size 640x480 with 1 Axes>"
      ]
     },
     "metadata": {},
     "output_type": "display_data"
    }
   ],
   "source": [
    "sns.boxplot(df['Fare'])"
   ]
  },
  {
   "cell_type": "code",
   "execution_count": 73,
   "id": "5cf8cc53",
   "metadata": {},
   "outputs": [
    {
     "name": "stdout",
     "output_type": "stream",
     "text": [
      "Min age : 0.42\n",
      "Max age : 80.0\n",
      "Mean age : 29.69911764705882\n"
     ]
    }
   ],
   "source": [
    "# finding the min and max age ppl\n",
    "\n",
    "print(f\"Min age : {df['Age'].min()}\")\n",
    "print(f\"Max age : {df['Age'].max()}\")\n",
    "print(f\"Mean age : {df['Age'].mean()}\")"
   ]
  }
 ],
 "metadata": {
  "kernelspec": {
   "display_name": "base",
   "language": "python",
   "name": "python3"
  },
  "language_info": {
   "codemirror_mode": {
    "name": "ipython",
    "version": 3
   },
   "file_extension": ".py",
   "mimetype": "text/x-python",
   "name": "python",
   "nbconvert_exporter": "python",
   "pygments_lexer": "ipython3",
   "version": "3.13.5"
  }
 },
 "nbformat": 4,
 "nbformat_minor": 5
}
