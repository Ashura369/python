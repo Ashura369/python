{
 "cells": [
  {
   "cell_type": "code",
   "execution_count": 15,
   "id": "e0c8d297-f006-44cb-9c1c-f1dee3ef614b",
   "metadata": {},
   "outputs": [
    {
     "data": {
      "text/html": [
       "<div>\n",
       "<style scoped>\n",
       "    .dataframe tbody tr th:only-of-type {\n",
       "        vertical-align: middle;\n",
       "    }\n",
       "\n",
       "    .dataframe tbody tr th {\n",
       "        vertical-align: top;\n",
       "    }\n",
       "\n",
       "    .dataframe thead th {\n",
       "        text-align: right;\n",
       "    }\n",
       "</style>\n",
       "<table border=\"1\" class=\"dataframe\">\n",
       "  <thead>\n",
       "    <tr style=\"text-align: right;\">\n",
       "      <th></th>\n",
       "      <th>CGPA</th>\n",
       "      <th>IQ</th>\n",
       "      <th>Placement</th>\n",
       "    </tr>\n",
       "  </thead>\n",
       "  <tbody>\n",
       "    <tr>\n",
       "      <th>0</th>\n",
       "      <td>7.66</td>\n",
       "      <td>122</td>\n",
       "      <td>1</td>\n",
       "    </tr>\n",
       "    <tr>\n",
       "      <th>1</th>\n",
       "      <td>6.82</td>\n",
       "      <td>105</td>\n",
       "      <td>0</td>\n",
       "    </tr>\n",
       "    <tr>\n",
       "      <th>2</th>\n",
       "      <td>7.29</td>\n",
       "      <td>97</td>\n",
       "      <td>0</td>\n",
       "    </tr>\n",
       "    <tr>\n",
       "      <th>3</th>\n",
       "      <td>-2.00</td>\n",
       "      <td>112</td>\n",
       "      <td>1</td>\n",
       "    </tr>\n",
       "    <tr>\n",
       "      <th>4</th>\n",
       "      <td>7.41</td>\n",
       "      <td>109</td>\n",
       "      <td>1</td>\n",
       "    </tr>\n",
       "    <tr>\n",
       "      <th>...</th>\n",
       "      <td>...</td>\n",
       "      <td>...</td>\n",
       "      <td>...</td>\n",
       "    </tr>\n",
       "    <tr>\n",
       "      <th>95</th>\n",
       "      <td>8.48</td>\n",
       "      <td>134</td>\n",
       "      <td>1</td>\n",
       "    </tr>\n",
       "    <tr>\n",
       "      <th>96</th>\n",
       "      <td>6.95</td>\n",
       "      <td>105</td>\n",
       "      <td>0</td>\n",
       "    </tr>\n",
       "    <tr>\n",
       "      <th>97</th>\n",
       "      <td>6.49</td>\n",
       "      <td>250</td>\n",
       "      <td>0</td>\n",
       "    </tr>\n",
       "    <tr>\n",
       "      <th>98</th>\n",
       "      <td>6.97</td>\n",
       "      <td>108</td>\n",
       "      <td>0</td>\n",
       "    </tr>\n",
       "    <tr>\n",
       "      <th>99</th>\n",
       "      <td>7.37</td>\n",
       "      <td>100</td>\n",
       "      <td>0</td>\n",
       "    </tr>\n",
       "  </tbody>\n",
       "</table>\n",
       "<p>100 rows × 3 columns</p>\n",
       "</div>"
      ],
      "text/plain": [
       "    CGPA   IQ  Placement\n",
       "0   7.66  122          1\n",
       "1   6.82  105          0\n",
       "2   7.29   97          0\n",
       "3  -2.00  112          1\n",
       "4   7.41  109          1\n",
       "..   ...  ...        ...\n",
       "95  8.48  134          1\n",
       "96  6.95  105          0\n",
       "97  6.49  250          0\n",
       "98  6.97  108          0\n",
       "99  7.37  100          0\n",
       "\n",
       "[100 rows x 3 columns]"
      ]
     },
     "execution_count": 15,
     "metadata": {},
     "output_type": "execute_result"
    }
   ],
   "source": [
    "import numpy as np\n",
    "import pandas as pd\n",
    "\n",
    "a = pd.read_csv(\"student_placement_data.csv\")\n",
    "df = a.copy().iloc[:, 1:]\n",
    "df "
   ]
  },
  {
   "cell_type": "code",
   "execution_count": 13,
   "id": "1c32d563-fc5b-4368-823e-a990ed0b2bb4",
   "metadata": {},
   "outputs": [],
   "source": [
    "cgpa = df.iloc[:, 0].values.reshape(-1,1)           # converting the given array in an 1D array\n",
    "iq = df.iloc[:, 1].values.reshape(-1,1)\n",
    "placement = df.iloc[:, 2].values.reshape(-1,1)\n",
    "\n",
    "data = np.hstack((cgpa, iq, placement))\n",
    "data_df = pd.DataFrame(data, columns=['cgpa', 'iq', 'placement'])\n",
    "# print(f\"DESCRIBE : \\n{data_df.describe()}\")"
   ]
  },
  {
   "cell_type": "code",
   "execution_count": 19,
   "id": "666d7a0c-179f-4f31-b6ed-bef00c52bf9d",
   "metadata": {},
   "outputs": [
    {
     "data": {
      "text/plain": [
       "<matplotlib.colorbar.Colorbar at 0x2db7408f610>"
      ]
     },
     "execution_count": 19,
     "metadata": {},
     "output_type": "execute_result"
    },
    {
     "data": {
      "image/png": "[encoded data removed]",
      "text/plain": [
       "<Figure size 640x480 with 2 Axes>"
      ]
     },
     "metadata": {},
     "output_type": "display_data"
    }
   ],
   "source": [
    "# PLOTTING THE DATA INTO A GRAPH\n",
    "\n",
    "import matplotlib.pyplot as plt\n",
    "\n",
    "plt.scatter(cgpa, iq, c=placement, cmap='bwr')  # color by placement\n",
    "plt.title('TESTING GRAPH')\n",
    "plt.xlabel('CGPA')\n",
    "plt.ylabel('IQ')\n",
    "plt.colorbar(label='Placement')\n",
    "# plt.show()"
   ]
  },
  {
   "cell_type": "code",
   "execution_count": 6,
   "id": "38c4535c-ef0e-4e36-8d58-a72a260e7ae4",
   "metadata": {},
   "outputs": [
    {
     "data": {
      "text/html": [
       "<div>\n",
       "<style scoped>\n",
       "    .dataframe tbody tr th:only-of-type {\n",
       "        vertical-align: middle;\n",
       "    }\n",
       "\n",
       "    .dataframe tbody tr th {\n",
       "        vertical-align: top;\n",
       "    }\n",
       "\n",
       "    .dataframe thead th {\n",
       "        text-align: right;\n",
       "    }\n",
       "</style>\n",
       "<table border=\"1\" class=\"dataframe\">\n",
       "  <thead>\n",
       "    <tr style=\"text-align: right;\">\n",
       "      <th></th>\n",
       "      <th>ACTUAL OUTPUT OF y_test</th>\n",
       "      <th>ACQUIRED OUTPUT OF x_test</th>\n",
       "    </tr>\n",
       "  </thead>\n",
       "  <tbody>\n",
       "    <tr>\n",
       "      <th>91</th>\n",
       "      <td>1.0</td>\n",
       "      <td>0.5</td>\n",
       "    </tr>\n",
       "    <tr>\n",
       "      <th>2</th>\n",
       "      <td>0.0</td>\n",
       "      <td>0.5</td>\n",
       "    </tr>\n",
       "    <tr>\n",
       "      <th>74</th>\n",
       "      <td>1.0</td>\n",
       "      <td>0.6</td>\n",
       "    </tr>\n",
       "    <tr>\n",
       "      <th>29</th>\n",
       "      <td>1.0</td>\n",
       "      <td>0.6</td>\n",
       "    </tr>\n",
       "    <tr>\n",
       "      <th>48</th>\n",
       "      <td>0.0</td>\n",
       "      <td>0.5</td>\n",
       "    </tr>\n",
       "    <tr>\n",
       "      <th>73</th>\n",
       "      <td>0.0</td>\n",
       "      <td>0.5</td>\n",
       "    </tr>\n",
       "    <tr>\n",
       "      <th>81</th>\n",
       "      <td>0.0</td>\n",
       "      <td>0.5</td>\n",
       "    </tr>\n",
       "    <tr>\n",
       "      <th>80</th>\n",
       "      <td>0.0</td>\n",
       "      <td>0.5</td>\n",
       "    </tr>\n",
       "    <tr>\n",
       "      <th>49</th>\n",
       "      <td>1.0</td>\n",
       "      <td>0.6</td>\n",
       "    </tr>\n",
       "    <tr>\n",
       "      <th>71</th>\n",
       "      <td>0.0</td>\n",
       "      <td>0.6</td>\n",
       "    </tr>\n",
       "    <tr>\n",
       "      <th>34</th>\n",
       "      <td>1.0</td>\n",
       "      <td>0.5</td>\n",
       "    </tr>\n",
       "    <tr>\n",
       "      <th>42</th>\n",
       "      <td>1.0</td>\n",
       "      <td>0.6</td>\n",
       "    </tr>\n",
       "    <tr>\n",
       "      <th>78</th>\n",
       "      <td>1.0</td>\n",
       "      <td>0.5</td>\n",
       "    </tr>\n",
       "    <tr>\n",
       "      <th>6</th>\n",
       "      <td>1.0</td>\n",
       "      <td>0.5</td>\n",
       "    </tr>\n",
       "    <tr>\n",
       "      <th>19</th>\n",
       "      <td>1.0</td>\n",
       "      <td>0.5</td>\n",
       "    </tr>\n",
       "    <tr>\n",
       "      <th>44</th>\n",
       "      <td>0.0</td>\n",
       "      <td>0.5</td>\n",
       "    </tr>\n",
       "    <tr>\n",
       "      <th>79</th>\n",
       "      <td>1.0</td>\n",
       "      <td>0.5</td>\n",
       "    </tr>\n",
       "    <tr>\n",
       "      <th>52</th>\n",
       "      <td>1.0</td>\n",
       "      <td>0.5</td>\n",
       "    </tr>\n",
       "    <tr>\n",
       "      <th>99</th>\n",
       "      <td>0.0</td>\n",
       "      <td>0.5</td>\n",
       "    </tr>\n",
       "    <tr>\n",
       "      <th>75</th>\n",
       "      <td>1.0</td>\n",
       "      <td>0.6</td>\n",
       "    </tr>\n",
       "  </tbody>\n",
       "</table>\n",
       "</div>"
      ],
      "text/plain": [
       "    ACTUAL OUTPUT OF y_test  ACQUIRED OUTPUT OF x_test\n",
       "91                      1.0                        0.5\n",
       "2                       0.0                        0.5\n",
       "74                      1.0                        0.6\n",
       "29                      1.0                        0.6\n",
       "48                      0.0                        0.5\n",
       "73                      0.0                        0.5\n",
       "81                      0.0                        0.5\n",
       "80                      0.0                        0.5\n",
       "49                      1.0                        0.6\n",
       "71                      0.0                        0.6\n",
       "34                      1.0                        0.5\n",
       "42                      1.0                        0.6\n",
       "78                      1.0                        0.5\n",
       "6                       1.0                        0.5\n",
       "19                      1.0                        0.5\n",
       "44                      0.0                        0.5\n",
       "79                      1.0                        0.5\n",
       "52                      1.0                        0.5\n",
       "99                      0.0                        0.5\n",
       "75                      1.0                        0.6"
      ]
     },
     "execution_count": 6,
     "metadata": {},
     "output_type": "execute_result"
    }
   ],
   "source": [
    "from sklearn.model_selection import train_test_split\n",
    "from sklearn.linear_model import LinearRegression\n",
    "\n",
    "\n",
    "\n",
    "x = data_df[['cgpa', 'iq']]\n",
    "y = data_df[['placement']]\n",
    "\n",
    "\n",
    "x_train, x_test, y_train, y_test = train_test_split(x, y, test_size=0.2)\n",
    "regressor = LinearRegression()\n",
    "regressor.fit(x_train, y_train)\n",
    "y_pred_ans = regressor.predict(x_test)\n",
    "\n",
    "y_pred_ans = np.round(y_pred_ans, 1)\n",
    "\n",
    "pd.DataFrame({\"ACTUAL OUTPUT OF y_test\" : y_test.squeeze(), \"ACQUIRED OUTPUT OF x_test\" : y_pred_ans.squeeze()})\n",
    "\n"
   ]
  },
  {
   "cell_type": "markdown",
   "id": "dd53a8f8-600e-4ed3-9dd8-688dbe60553b",
   "metadata": {},
   "source": [
    "As you can see in the above two columns the variance not nearly as close as y_test, its not that predictions are not “wrong” in the Linear Regression sense — it’s just that Linear Regression is not designed for 0/1 classification. To avoid this you have to use \"Logistic Regression\""
   ]
  },
  {
   "cell_type": "code",
   "execution_count": 7,
   "id": "9c79926d-d383-413a-bebf-3a87d9888698",
   "metadata": {},
   "outputs": [
    {
     "name": "stdout",
     "output_type": "stream",
     "text": [
      "MAE : 0.48\n",
      "MSE : 0.233\n",
      "RMSE : 0.4827007354458868\n",
      "ACCURACT SCORE : 0.029166666666666785\n"
     ]
    }
   ],
   "source": [
    "from sklearn.metrics import mean_absolute_error, mean_squared_error, r2_score\n",
    "mae = mean_absolute_error(y_test, y_pred_ans)\n",
    "mse = mean_squared_error(y_test, y_pred_ans)\n",
    "accuracy = r2_score(y_test, y_pred_ans)\n",
    "rmse = np.sqrt(mse)\n",
    "\n",
    "print(f\"MAE : {mae}\")     \n",
    "print(f\"MSE : {mse}\")   \n",
    "print(f\"RMSE : {rmse}\")    \n",
    "print(f\"ACCURACT SCORE : {accuracy}\")       # closer to 1 = better fit"
   ]
  },
  {
   "cell_type": "markdown",
   "id": "1f888365-299e-4656-b296-ebd62c5bce1b",
   "metadata": {},
   "source": [
    "USING LOGISTIC REGRESSION"
   ]
  },
  {
   "cell_type": "code",
   "execution_count": 8,
   "id": "ca724323-d0fe-42b5-aa6d-112864d3a38c",
   "metadata": {},
   "outputs": [
    {
     "data": {
      "text/html": [
       "<div>\n",
       "<style scoped>\n",
       "    .dataframe tbody tr th:only-of-type {\n",
       "        vertical-align: middle;\n",
       "    }\n",
       "\n",
       "    .dataframe tbody tr th {\n",
       "        vertical-align: top;\n",
       "    }\n",
       "\n",
       "    .dataframe thead th {\n",
       "        text-align: right;\n",
       "    }\n",
       "</style>\n",
       "<table border=\"1\" class=\"dataframe\">\n",
       "  <thead>\n",
       "    <tr style=\"text-align: right;\">\n",
       "      <th></th>\n",
       "      <th>ACTUAL OUTPUT OF y_test</th>\n",
       "      <th>ACQUIRED OUTPUT OF x_test</th>\n",
       "    </tr>\n",
       "  </thead>\n",
       "  <tbody>\n",
       "    <tr>\n",
       "      <th>0</th>\n",
       "      <td>1.0</td>\n",
       "      <td>1.0</td>\n",
       "    </tr>\n",
       "    <tr>\n",
       "      <th>1</th>\n",
       "      <td>0.0</td>\n",
       "      <td>0.0</td>\n",
       "    </tr>\n",
       "    <tr>\n",
       "      <th>2</th>\n",
       "      <td>0.0</td>\n",
       "      <td>1.0</td>\n",
       "    </tr>\n",
       "    <tr>\n",
       "      <th>3</th>\n",
       "      <td>1.0</td>\n",
       "      <td>1.0</td>\n",
       "    </tr>\n",
       "    <tr>\n",
       "      <th>4</th>\n",
       "      <td>0.0</td>\n",
       "      <td>1.0</td>\n",
       "    </tr>\n",
       "    <tr>\n",
       "      <th>5</th>\n",
       "      <td>0.0</td>\n",
       "      <td>1.0</td>\n",
       "    </tr>\n",
       "    <tr>\n",
       "      <th>6</th>\n",
       "      <td>0.0</td>\n",
       "      <td>0.0</td>\n",
       "    </tr>\n",
       "    <tr>\n",
       "      <th>7</th>\n",
       "      <td>0.0</td>\n",
       "      <td>1.0</td>\n",
       "    </tr>\n",
       "    <tr>\n",
       "      <th>8</th>\n",
       "      <td>1.0</td>\n",
       "      <td>1.0</td>\n",
       "    </tr>\n",
       "    <tr>\n",
       "      <th>9</th>\n",
       "      <td>1.0</td>\n",
       "      <td>1.0</td>\n",
       "    </tr>\n",
       "    <tr>\n",
       "      <th>10</th>\n",
       "      <td>0.0</td>\n",
       "      <td>1.0</td>\n",
       "    </tr>\n",
       "    <tr>\n",
       "      <th>11</th>\n",
       "      <td>1.0</td>\n",
       "      <td>1.0</td>\n",
       "    </tr>\n",
       "    <tr>\n",
       "      <th>12</th>\n",
       "      <td>0.0</td>\n",
       "      <td>1.0</td>\n",
       "    </tr>\n",
       "    <tr>\n",
       "      <th>13</th>\n",
       "      <td>0.0</td>\n",
       "      <td>0.0</td>\n",
       "    </tr>\n",
       "    <tr>\n",
       "      <th>14</th>\n",
       "      <td>1.0</td>\n",
       "      <td>1.0</td>\n",
       "    </tr>\n",
       "    <tr>\n",
       "      <th>15</th>\n",
       "      <td>1.0</td>\n",
       "      <td>1.0</td>\n",
       "    </tr>\n",
       "    <tr>\n",
       "      <th>16</th>\n",
       "      <td>1.0</td>\n",
       "      <td>1.0</td>\n",
       "    </tr>\n",
       "    <tr>\n",
       "      <th>17</th>\n",
       "      <td>1.0</td>\n",
       "      <td>1.0</td>\n",
       "    </tr>\n",
       "    <tr>\n",
       "      <th>18</th>\n",
       "      <td>1.0</td>\n",
       "      <td>1.0</td>\n",
       "    </tr>\n",
       "    <tr>\n",
       "      <th>19</th>\n",
       "      <td>0.0</td>\n",
       "      <td>1.0</td>\n",
       "    </tr>\n",
       "  </tbody>\n",
       "</table>\n",
       "</div>"
      ],
      "text/plain": [
       "    ACTUAL OUTPUT OF y_test  ACQUIRED OUTPUT OF x_test\n",
       "0                       1.0                        1.0\n",
       "1                       0.0                        0.0\n",
       "2                       0.0                        1.0\n",
       "3                       1.0                        1.0\n",
       "4                       0.0                        1.0\n",
       "5                       0.0                        1.0\n",
       "6                       0.0                        0.0\n",
       "7                       0.0                        1.0\n",
       "8                       1.0                        1.0\n",
       "9                       1.0                        1.0\n",
       "10                      0.0                        1.0\n",
       "11                      1.0                        1.0\n",
       "12                      0.0                        1.0\n",
       "13                      0.0                        0.0\n",
       "14                      1.0                        1.0\n",
       "15                      1.0                        1.0\n",
       "16                      1.0                        1.0\n",
       "17                      1.0                        1.0\n",
       "18                      1.0                        1.0\n",
       "19                      0.0                        1.0"
      ]
     },
     "execution_count": 8,
     "metadata": {},
     "output_type": "execute_result"
    }
   ],
   "source": [
    "from sklearn.linear_model import LogisticRegression\n",
    "\n",
    "\n",
    "# Features and target\n",
    "x = data_df[['cgpa', 'iq']].values\n",
    "y = data_df['placement'].values  # 1D array is preferred for LogisticRegression\n",
    "\n",
    "# Split the data\n",
    "x_train, x_test, y_train, y_test = train_test_split(x, y, test_size=0.2, random_state=42)\n",
    "\n",
    "# Create and train Logistic Regression model\n",
    "clf = LogisticRegression()\n",
    "clf.fit(x_train, y_train)\n",
    "\n",
    "# Predict on test data\n",
    "y_pred = clf.predict(x_test)  # predictions will be 0 or 1 automatically\n",
    "\n",
    "# Compare actual vs predicted\n",
    "result_df = pd.DataFrame({\n",
    "    \"ACTUAL OUTPUT OF y_test\": y_test.squeeze(),\n",
    "    \"ACQUIRED OUTPUT OF x_test\": y_pred.squeeze()\n",
    "})\n",
    "\n",
    "\n",
    "result_df"
   ]
  },
  {
   "cell_type": "code",
   "execution_count": 9,
   "id": "8bc227fa-0d12-4fca-85d7-c2abf1c9234f",
   "metadata": {},
   "outputs": [
    {
     "name": "stdout",
     "output_type": "stream",
     "text": [
      "MAE : 0.35\n",
      "MSE : 0.35\n",
      "RMSE : 0.5916079783099616\n",
      "ACCURACY SCORE : 0.65\n"
     ]
    }
   ],
   "source": [
    "from sklearn.metrics import accuracy_score\n",
    "mae2 = mean_absolute_error(y_test, y_pred)\n",
    "mse2 = mean_squared_error(y_test, y_pred)\n",
    "accuracy2 = accuracy_score(y_test, y_pred)\n",
    "rmse2 = np.sqrt(mse2)\n",
    "print(f\"MAE : {mae2}\")     \n",
    "print(f\"MSE : {mse2}\")   \n",
    "print(f\"RMSE : {rmse2}\")  \n",
    "print(f\"ACCURACY SCORE : {accuracy2}\")      # closer to 1 = better fit"
   ]
  },
  {
   "cell_type": "markdown",
   "id": "b71e7e08",
   "metadata": {},
   "source": [
    "### Learning the pattern for which the machine was trained"
   ]
  },
  {
   "cell_type": "code",
   "execution_count": 10,
   "id": "6f4e408c",
   "metadata": {},
   "outputs": [
    {
     "data": {
      "text/plain": [
       "<Axes: >"
      ]
     },
     "execution_count": 10,
     "metadata": {},
     "output_type": "execute_result"
    },
    {
     "data": {
      "image/png": "[encoded data removed]",
      "text/plain": [
       "<Figure size 640x480 with 1 Axes>"
      ]
     },
     "metadata": {},
     "output_type": "display_data"
    }
   ],
   "source": [
    "from mlxtend.plotting import plot_decision_regions\n",
    "y_train = y_train.astype(int)       # as float values will not work on the below code, hence changing its types to integer\n",
    "\n",
    "# logistic regression line\n",
    "plot_decision_regions(x_train, y_train, clf=clf, legend=2)\n"
   ]
  },
  {
   "cell_type": "markdown",
   "id": "d8da858b",
   "metadata": {},
   "source": [
    "The line btwn blue color and yellow color, the line made by logicstic regression"
   ]
  },
  {
   "cell_type": "code",
   "execution_count": 11,
   "id": "64409bb0",
   "metadata": {},
   "outputs": [
    {
     "name": "stderr",
     "output_type": "stream",
     "text": [
      "C:\\Users\\biswa\\AppData\\Roaming\\Python\\Python313\\site-packages\\sklearn\\utils\\validation.py:2749: UserWarning: X does not have valid feature names, but LinearRegression was fitted with feature names\n",
      "  warnings.warn(\n"
     ]
    },
    {
     "data": {
      "text/plain": [
       "<Axes: >"
      ]
     },
     "execution_count": 11,
     "metadata": {},
     "output_type": "execute_result"
    },
    {
     "data": {
      "image/png": "[encoded data removed]",
      "text/plain": [
       "<Figure size 640x480 with 1 Axes>"
      ]
     },
     "metadata": {},
     "output_type": "display_data"
    }
   ],
   "source": [
    "# linear regression line\n",
    "plot_decision_regions(x_train, y_train, clf=regressor, legend=2)"
   ]
  },
  {
   "cell_type": "markdown",
   "id": "69b03ee8",
   "metadata": {},
   "source": [
    "### The above line that the model learned, converting it into a file, so that you can deploy the model into the server"
   ]
  },
  {
   "cell_type": "code",
   "execution_count": 12,
   "id": "6f8ae004",
   "metadata": {},
   "outputs": [],
   "source": [
    "import pickle\n",
    "pickle.dump(clf, open('model.pkl', 'wb'))"
   ]
  }
 ],
 "metadata": {
  "kernelspec": {
   "display_name": "base",
   "language": "python",
   "name": "python3"
  },
  "language_info": {
   "codemirror_mode": {
    "name": "ipython",
    "version": 3
   },
   "file_extension": ".py",
   "mimetype": "text/x-python",
   "name": "python",
   "nbconvert_exporter": "python",
   "pygments_lexer": "ipython3",
   "version": "3.13.5"
  }
 },
 "nbformat": 4,
 "nbformat_minor": 5
}
