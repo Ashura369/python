{
 "cells": [
  {
   "cell_type": "markdown",
   "id": "a84b5fe4",
   "metadata": {},
   "source": [
    "# Web Scrapping for an entire website and storing in csv file and uploading it in kaggle"
   ]
  },
  {
   "cell_type": "code",
   "execution_count": 5,
   "id": "57b194c9",
   "metadata": {},
   "outputs": [
    {
     "name": "stdout",
     "output_type": "stream",
     "text": [
      "🚀 Starting scrape...\n"
     ]
    },
    {
     "name": "stderr",
     "output_type": "stream",
     "text": [
      "Scraping pages: 100%|██████████| 500/500 [06:17<00:00,  1.32it/s]"
     ]
    },
    {
     "name": "stdout",
     "output_type": "stream",
     "text": [
      "\n",
      "📊 Data Summary:\n",
      "<class 'pandas.core.frame.DataFrame'>\n",
      "RangeIndex: 0 entries\n",
      "Empty DataFrame\n",
      "None\n",
      "✅ Total records scraped: 0\n",
      "💾 Data saved to 'ambitionbox_companies_data.csv'\n"
     ]
    },
    {
     "name": "stderr",
     "output_type": "stream",
     "text": [
      "\n"
     ]
    }
   ],
   "source": [
    "import requests\n",
    "from bs4 import BeautifulSoup\n",
    "import pandas as pd\n",
    "from tqdm import tqdm  # progress bar\n",
    "\n",
    "headers = {\n",
    "    \"User-Agent\": \"Mozilla/5.0 (Windows NT 10.0; Win64; x64) \"\n",
    "                  \"AppleWebKit/537.36 (KHTML, like Gecko) \"\n",
    "                  \"Chrome/127.0.0.0 Safari/537.36\",\n",
    "    \"Accept-Language\": \"en-US,en;q=0.9\",\n",
    "}\n",
    "\n",
    "print(\"🚀 Starting scrape...\")\n",
    "\n",
    "all_data = []\n",
    "\n",
    "for page in tqdm(range(1, 501), desc=\"Scraping pages\"):\n",
    "    url = f\"https://www.ambitionbox.com/list-of-companies?campaign=desktop_nav&page={page}\"\n",
    "    response = requests.get(url, headers=headers)\n",
    "    soup = BeautifulSoup(response.content, 'lxml')\n",
    "\n",
    "    # Extract all cards at once\n",
    "    cards = soup.find_all(\"div\", class_=\"companyCardWrapper__companyCard\")\n",
    "\n",
    "    for card in cards:\n",
    "        try:\n",
    "            name = card.find('h2', class_=\"companyCardWrapper__companyName\")\n",
    "            name = name.text.strip() if name else None\n",
    "\n",
    "            rating_block = card.find('div', class_=\"rating_text rating_text--md\")\n",
    "            rating = None\n",
    "            if rating_block:\n",
    "                inner = rating_block.find('div', style=\"height:auto;padding-bottom:1px;\")\n",
    "                rating = inner.text.strip() if inner else None\n",
    "\n",
    "            reviews = card.find('span', class_=\"companyCardWrapper__companyRatingCount\")\n",
    "            reviews = reviews.text.strip() if reviews else None\n",
    "\n",
    "            desc = card.find_all('span', class_=\"companyCardWrapper__interLinking\")\n",
    "            if len(desc) > 0:\n",
    "                desc_text = \" | \".join([d.text.strip() for d in desc])\n",
    "            else:\n",
    "                desc_text = None\n",
    "\n",
    "            industry, hq, branches = None, None, None\n",
    "            if desc_text:\n",
    "                parts = desc_text.split('|')\n",
    "                industry = parts[0].strip() if len(parts) > 0 else None\n",
    "                if len(parts) > 1:\n",
    "                    sub = parts[1].split('+')\n",
    "                    hq = sub[0].strip() if len(sub) > 0 else None\n",
    "                    branches = sub[1].strip() if len(sub) > 1 else None\n",
    "\n",
    "            tertiary = card.find('div', class_=\"companyCardWrapper__tertiaryInformation\")\n",
    "            salary = None\n",
    "            if tertiary:\n",
    "                actions = tertiary.find_all('a', class_=\"companyCardWrapper__ActionWrapper\")\n",
    "                if len(actions) > 1:\n",
    "                    span = actions[1].find('span', class_=\"companyCardWrapper__ActionCount\")\n",
    "                    salary = span.text.strip() if span else None\n",
    "\n",
    "            all_data.append({\n",
    "                'COMPANY NAME': name,\n",
    "                'RATING': rating,\n",
    "                'REVIEWS': reviews,\n",
    "                'INDUSTRY': industry,\n",
    "                'INDIA HQ': hq,\n",
    "                'BRANCHES': branches,\n",
    "                'PACKAGE': salary\n",
    "            })\n",
    "\n",
    "        except Exception as e:\n",
    "            print(f\"⚠️ Error parsing a card on page {page}: {e}\")\n",
    "\n",
    "# Build DataFrame safely\n",
    "data = pd.DataFrame(all_data)\n",
    "\n",
    "# Quick check for missing values or inconsistent lengths\n",
    "print(\"\\n📊 Data Summary:\")\n",
    "print(data.info())\n",
    "print(f\"✅ Total records scraped: {len(data)}\")\n",
    "\n",
    "# Save CSV\n",
    "data.to_csv(\"ambitionbox_companies_data.csv\", index=False, encoding='utf-8-sig')\n",
    "print(\"💾 Data saved to 'ambitionbox_companies_data.csv'\")\n"
   ]
  },
  {
   "cell_type": "code",
   "execution_count": 7,
   "id": "a8aa182d",
   "metadata": {},
   "outputs": [
    {
     "data": {
      "text/html": [
       "<div>\n",
       "<style scoped>\n",
       "    .dataframe tbody tr th:only-of-type {\n",
       "        vertical-align: middle;\n",
       "    }\n",
       "\n",
       "    .dataframe tbody tr th {\n",
       "        vertical-align: top;\n",
       "    }\n",
       "\n",
       "    .dataframe thead th {\n",
       "        text-align: right;\n",
       "    }\n",
       "</style>\n",
       "<table border=\"1\" class=\"dataframe\">\n",
       "  <thead>\n",
       "    <tr style=\"text-align: right;\">\n",
       "      <th></th>\n",
       "    </tr>\n",
       "  </thead>\n",
       "  <tbody>\n",
       "  </tbody>\n",
       "</table>\n",
       "</div>"
      ],
      "text/plain": [
       "Empty DataFrame\n",
       "Columns: []\n",
       "Index: []"
      ]
     },
     "execution_count": 7,
     "metadata": {},
     "output_type": "execute_result"
    }
   ],
   "source": [
    "data.head(10)"
   ]
  }
 ],
 "metadata": {
  "kernelspec": {
   "display_name": "base",
   "language": "python",
   "name": "python3"
  },
  "language_info": {
   "codemirror_mode": {
    "name": "ipython",
    "version": 3
   },
   "file_extension": ".py",
   "mimetype": "text/x-python",
   "name": "python",
   "nbconvert_exporter": "python",
   "pygments_lexer": "ipython3",
   "version": "3.13.5"
  }
 },
 "nbformat": 4,
 "nbformat_minor": 5
}
