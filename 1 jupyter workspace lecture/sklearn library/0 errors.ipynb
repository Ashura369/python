{
 "cells": [
  {
   "cell_type": "code",
   "execution_count": 43,
   "id": "6a54a7ce",
   "metadata": {},
   "outputs": [
    {
     "name": "stdout",
     "output_type": "stream",
     "text": [
      "[[1 1 6 7]\n",
      " [2 1 6 7]\n",
      " [4 3 2 7]\n",
      " [7 7 3 1]\n",
      " [1 6 5 7]]\n",
      "[1 2 4 7 1]\n",
      "[1 1 3 7 6]\n",
      "[6 6 2 3 5]\n",
      "[7 7 7 1 7]\n"
     ]
    }
   ],
   "source": [
    "import numpy as np\n",
    "\n",
    "x = np.random.randint(1,10, (5,4))\n",
    "\n",
    "a,b,c,d = x.T\n",
    "\n",
    "print(x)\n",
    "print(a)\n",
    "print(b)\n",
    "print(c)\n",
    "print(d)\n"
   ]
  }
 ],
 "metadata": {
  "kernelspec": {
   "display_name": "base",
   "language": "python",
   "name": "python3"
  },
  "language_info": {
   "codemirror_mode": {
    "name": "ipython",
    "version": 3
   },
   "file_extension": ".py",
   "mimetype": "text/x-python",
   "name": "python",
   "nbconvert_exporter": "python",
   "pygments_lexer": "ipython3",
   "version": "3.13.5"
  }
 },
 "nbformat": 4,
 "nbformat_minor": 5
}
