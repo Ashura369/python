{
 "cells": [
  {
   "cell_type": "code",
   "execution_count": 31,
   "id": "8e6f9176",
   "metadata": {},
   "outputs": [
    {
     "name": "stdout",
     "output_type": "stream",
     "text": [
      "Shape: (2, 3)\n",
      "Rank: 2\n",
      "Sum along axis 0 (columns): [5 7 9]\n",
      "Sum along axis 1 (rows): [ 6 15]\n",
      "Shape : (2, 3)\n",
      "Size : 6\n"
     ]
    }
   ],
   "source": [
    "import numpy as np\n",
    "\n",
    "# Create a 2D array\n",
    "a = np.array([[1, 2, 3],\n",
    "              [4, 5, 6]])\n",
    "\n",
    "# Shape of the array\n",
    "print(\"Shape:\", a.shape)   # (2, 3)\n",
    "\n",
    "# Rank (number of dimensions)\n",
    "print(\"Rank:\", a.ndim)     # 2\n",
    "\n",
    "# Sum along axis 0 (columns)\n",
    "print(f\"Sum along axis 0 (columns): {np.sum(a, axis=0)}\")\n",
    "\n",
    "# Sum along axis 1 (rows)\n",
    "print(f\"Sum along axis 1 (rows): {np.sum(a, axis=1)}\")\n",
    "\n",
    "print(f\"Shape : {np.shape(a)}\")\n",
    "print(f\"Size : {np.size(a)}\")\n",
    "\n"
   ]
  }
 ],
 "metadata": {
  "kernelspec": {
   "display_name": "base",
   "language": "python",
   "name": "python3"
  },
  "language_info": {
   "codemirror_mode": {
    "name": "ipython",
    "version": 3
   },
   "file_extension": ".py",
   "mimetype": "text/x-python",
   "name": "python",
   "nbconvert_exporter": "python",
   "pygments_lexer": "ipython3",
   "version": "3.13.5"
  }
 },
 "nbformat": 4,
 "nbformat_minor": 5
}
