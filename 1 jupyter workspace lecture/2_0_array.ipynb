{
 "cells": [
  {
   "cell_type": "markdown",
   "id": "b8cde579",
   "metadata": {},
   "source": [
    "Learning array"
   ]
  },
  {
   "cell_type": "code",
   "execution_count": 1,
   "id": "3276aee3",
   "metadata": {},
   "outputs": [
    {
     "name": "stdout",
     "output_type": "stream",
     "text": [
      "[1 2 3 4 5 6 7]\n",
      "[ 0  1  2  3  4  5  6  7  8  9 10]\n"
     ]
    }
   ],
   "source": [
    "import numpy as np              # you can use any name in place of 'np'\n",
    "a = np.array([1,2,3,4,5,6,7])   # manual writing of an array\n",
    "print(a)\n",
    "\n",
    "b = np.arange(11)               # making an array by using 'arange'\n",
    "print(b)\n"
   ]
  }
 ],
 "metadata": {
  "kernelspec": {
   "display_name": "base",
   "language": "python",
   "name": "python3"
  },
  "language_info": {
   "codemirror_mode": {
    "name": "ipython",
    "version": 3
   },
   "file_extension": ".py",
   "mimetype": "text/x-python",
   "name": "python",
   "nbconvert_exporter": "python",
   "pygments_lexer": "ipython3",
   "version": "3.13.5"
  }
 },
 "nbformat": 4,
 "nbformat_minor": 5
}
