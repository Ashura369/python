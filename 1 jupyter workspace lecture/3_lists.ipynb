{
 "cells": [
  {
   "cell_type": "markdown",
   "id": "0e6160ec",
   "metadata": {},
   "source": [
    "# THIS IS LIST"
   ]
  },
  {
   "cell_type": "code",
   "execution_count": 5,
   "id": "3de4c395",
   "metadata": {},
   "outputs": [
    {
     "name": "stdout",
     "output_type": "stream",
     "text": [
      "range(5, 20)\n",
      "[5, 6, 7, 8, 9, 10, 11, 12, 13, 14, 15, 16, 17, 18, 19]\n",
      "\n",
      "[5 6 7 8 9]\n"
     ]
    }
   ],
   "source": [
    "import numpy as np\n",
    "\n",
    "# making of a list\n",
    "\n",
    "l = range(5, 20)        # range in numpy works the same as in py\n",
    "print(l)\n",
    "resualt = [i for i in l]        \n",
    "print(resualt)\n",
    "print()\n",
    "\n",
    "\n",
    "j = np.arange(5, 10)\n",
    "print(j)"
   ]
  },
  {
   "cell_type": "code",
   "execution_count": 6,
   "id": "17796b40",
   "metadata": {},
   "outputs": [
    {
     "name": "stdout",
     "output_type": "stream",
     "text": [
      "[5, 6, 7, 8, 9, 10, 11, 12, 13, 14, 15, 16, 17, 18, 19]\n"
     ]
    }
   ],
   "source": [
    "l = range(5, 20) \n",
    "l2 = []\n",
    "for i in l:\n",
    "    l2.append(i)\n",
    "\n",
    "print(l2)"
   ]
  },
  {
   "cell_type": "markdown",
   "id": "bf2e60ab",
   "metadata": {},
   "source": [
    "Converting range directly to a list"
   ]
  },
  {
   "cell_type": "code",
   "execution_count": 7,
   "id": "abaa3d9f",
   "metadata": {},
   "outputs": [
    {
     "name": "stdout",
     "output_type": "stream",
     "text": [
      "[1, 2, 3, 4, 5, 6, 7, 8, 9, 10]\n"
     ]
    }
   ],
   "source": [
    "res = list(range(1,11))\n",
    "print(res)"
   ]
  },
  {
   "cell_type": "markdown",
   "id": "4d814601",
   "metadata": {},
   "source": [
    "Conditional in list statement"
   ]
  },
  {
   "cell_type": "code",
   "execution_count": 8,
   "id": "844342b6",
   "metadata": {},
   "outputs": [
    {
     "name": "stdout",
     "output_type": "stream",
     "text": [
      "[6, 8, 10, 12, 14, 16, 18]\n",
      "13.5 ns ± 0.835 ns per loop (mean ± std. dev. of 7 runs, 100,000,000 loops each)\n",
      "1.02 μs ± 116 ns per loop (mean ± std. dev. of 7 runs, 1,000,000 loops each)\n"
     ]
    }
   ],
   "source": [
    "evens = [i for i in range(5, 20) if i % 2 == 0]\n",
    "print(evens)  # only even numbers\n",
    "\n",
    "\n",
    "# %timeit -- calculates the time that a codes takes to execute \n",
    "%timeit evens                                           # Incorrect usage. %timeit expects a statement to execute, not just a variable.\n",
    "%timeit [i for i in range(5, 20) if i % 2 == 0]"
   ]
  }
 ],
 "metadata": {
  "kernelspec": {
   "display_name": "base",
   "language": "python",
   "name": "python3"
  },
  "language_info": {
   "codemirror_mode": {
    "name": "ipython",
    "version": 3
   },
   "file_extension": ".py",
   "mimetype": "text/x-python",
   "name": "python",
   "nbconvert_exporter": "python",
   "pygments_lexer": "ipython3",
   "version": "3.13.5"
  }
 },
 "nbformat": 4,
 "nbformat_minor": 5
}
