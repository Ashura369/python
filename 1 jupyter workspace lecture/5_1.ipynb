{
 "cells": [
  {
   "cell_type": "markdown",
   "id": "8e62c287",
   "metadata": {},
   "source": [
    "# LEARNING PANDAS 2"
   ]
  },
  {
   "cell_type": "markdown",
   "id": "28e02fb9",
   "metadata": {},
   "source": [
    "When there is no heading"
   ]
  },
  {
   "cell_type": "code",
   "execution_count": 2,
   "id": "97d5c8a7",
   "metadata": {},
   "outputs": [
    {
     "data": {
      "text/html": [
       "<div>\n",
       "<style scoped>\n",
       "    .dataframe tbody tr th:only-of-type {\n",
       "        vertical-align: middle;\n",
       "    }\n",
       "\n",
       "    .dataframe tbody tr th {\n",
       "        vertical-align: top;\n",
       "    }\n",
       "\n",
       "    .dataframe thead th {\n",
       "        text-align: right;\n",
       "    }\n",
       "</style>\n",
       "<table border=\"1\" class=\"dataframe\">\n",
       "  <thead>\n",
       "    <tr style=\"text-align: right;\">\n",
       "      <th></th>\n",
       "      <th>jeet</th>\n",
       "      <th>25</th>\n",
       "      <th>Masters</th>\n",
       "      <th>Naikenpali</th>\n",
       "      <th>BBSR</th>\n",
       "      <th>SHADOW</th>\n",
       "    </tr>\n",
       "  </thead>\n",
       "  <tbody>\n",
       "    <tr>\n",
       "      <th>0</th>\n",
       "      <td>aman</td>\n",
       "      <td>22</td>\n",
       "      <td>Graduation</td>\n",
       "      <td>Naikenpali</td>\n",
       "      <td>Naikenpali</td>\n",
       "      <td>CARELESS</td>\n",
       "    </tr>\n",
       "    <tr>\n",
       "      <th>1</th>\n",
       "      <td>utkalika</td>\n",
       "      <td>19</td>\n",
       "      <td>Graduation</td>\n",
       "      <td>Naikenpali</td>\n",
       "      <td>Naikenpali</td>\n",
       "      <td>CARELESS</td>\n",
       "    </tr>\n",
       "    <tr>\n",
       "      <th>2</th>\n",
       "      <td>shruti</td>\n",
       "      <td>22</td>\n",
       "      <td>Graduation</td>\n",
       "      <td>Dungripali</td>\n",
       "      <td>SBP</td>\n",
       "      <td>INTELLIGENT</td>\n",
       "    </tr>\n",
       "    <tr>\n",
       "      <th>3</th>\n",
       "      <td>Anil</td>\n",
       "      <td>29</td>\n",
       "      <td>Graduation</td>\n",
       "      <td>Bhagitikra</td>\n",
       "      <td>Bhagitikra</td>\n",
       "      <td>PERSUASIVE</td>\n",
       "    </tr>\n",
       "  </tbody>\n",
       "</table>\n",
       "</div>"
      ],
      "text/plain": [
       "       jeet  25     Masters  Naikenpali        BBSR       SHADOW\n",
       "0      aman  22  Graduation  Naikenpali  Naikenpali     CARELESS\n",
       "1  utkalika  19  Graduation  Naikenpali  Naikenpali     CARELESS\n",
       "2    shruti  22  Graduation  Dungripali         SBP  INTELLIGENT\n",
       "3      Anil  29  Graduation  Bhagitikra  Bhagitikra   PERSUASIVE"
      ]
     },
     "execution_count": 2,
     "metadata": {},
     "output_type": "execute_result"
    }
   ],
   "source": [
    "import pandas as pd\n",
    "\n",
    "a = pd.read_excel(\"titanic.xls\", sheet_name=\"no heading\")\n",
    "a   # pd automatically takes the first row as heading, to avoid this refer to the code mentioned below"
   ]
  },
  {
   "cell_type": "code",
   "execution_count": null,
   "id": "274a5480",
   "metadata": {},
   "outputs": [
    {
     "data": {
      "text/html": [
       "<div>\n",
       "<style scoped>\n",
       "    .dataframe tbody tr th:only-of-type {\n",
       "        vertical-align: middle;\n",
       "    }\n",
       "\n",
       "    .dataframe tbody tr th {\n",
       "        vertical-align: top;\n",
       "    }\n",
       "\n",
       "    .dataframe thead th {\n",
       "        text-align: right;\n",
       "    }\n",
       "</style>\n",
       "<table border=\"1\" class=\"dataframe\">\n",
       "  <thead>\n",
       "    <tr style=\"text-align: right;\">\n",
       "      <th></th>\n",
       "      <th>0</th>\n",
       "      <th>1</th>\n",
       "      <th>2</th>\n",
       "      <th>3</th>\n",
       "      <th>4</th>\n",
       "      <th>5</th>\n",
       "    </tr>\n",
       "  </thead>\n",
       "  <tbody>\n",
       "    <tr>\n",
       "      <th>0</th>\n",
       "      <td>jeet</td>\n",
       "      <td>25</td>\n",
       "      <td>Masters</td>\n",
       "      <td>Naikenpali</td>\n",
       "      <td>BBSR</td>\n",
       "      <td>SHADOW</td>\n",
       "    </tr>\n",
       "    <tr>\n",
       "      <th>1</th>\n",
       "      <td>aman</td>\n",
       "      <td>22</td>\n",
       "      <td>Graduation</td>\n",
       "      <td>Naikenpali</td>\n",
       "      <td>Naikenpali</td>\n",
       "      <td>CARELESS</td>\n",
       "    </tr>\n",
       "    <tr>\n",
       "      <th>2</th>\n",
       "      <td>utkalika</td>\n",
       "      <td>19</td>\n",
       "      <td>Graduation</td>\n",
       "      <td>Naikenpali</td>\n",
       "      <td>Naikenpali</td>\n",
       "      <td>CARELESS</td>\n",
       "    </tr>\n",
       "    <tr>\n",
       "      <th>3</th>\n",
       "      <td>shruti</td>\n",
       "      <td>22</td>\n",
       "      <td>Graduation</td>\n",
       "      <td>Dungripali</td>\n",
       "      <td>SBP</td>\n",
       "      <td>INTELLIGENT</td>\n",
       "    </tr>\n",
       "    <tr>\n",
       "      <th>4</th>\n",
       "      <td>Anil</td>\n",
       "      <td>29</td>\n",
       "      <td>Graduation</td>\n",
       "      <td>Bhagitikra</td>\n",
       "      <td>Bhagitikra</td>\n",
       "      <td>PERSUASIVE</td>\n",
       "    </tr>\n",
       "  </tbody>\n",
       "</table>\n",
       "</div>"
      ],
      "text/plain": [
       "          0   1           2           3           4            5\n",
       "0      jeet  25     Masters  Naikenpali        BBSR       SHADOW\n",
       "1      aman  22  Graduation  Naikenpali  Naikenpali     CARELESS\n",
       "2  utkalika  19  Graduation  Naikenpali  Naikenpali     CARELESS\n",
       "3    shruti  22  Graduation  Dungripali         SBP  INTELLIGENT\n",
       "4      Anil  29  Graduation  Bhagitikra  Bhagitikra   PERSUASIVE"
      ]
     },
     "execution_count": 4,
     "metadata": {},
     "output_type": "execute_result"
    }
   ],
   "source": [
    "a = pd.read_excel(\"titanic.xls\", sheet_name=\"no heading\", header=None)\n",
    "a "
   ]
  },
  {
   "cell_type": "markdown",
   "id": "bc1eed91",
   "metadata": {},
   "source": [
    "How you can add names to existing columns"
   ]
  },
  {
   "cell_type": "code",
   "execution_count": null,
   "id": "1479b026",
   "metadata": {},
   "outputs": [
    {
     "data": {
      "text/html": [
       "<div>\n",
       "<style scoped>\n",
       "    .dataframe tbody tr th:only-of-type {\n",
       "        vertical-align: middle;\n",
       "    }\n",
       "\n",
       "    .dataframe tbody tr th {\n",
       "        vertical-align: top;\n",
       "    }\n",
       "\n",
       "    .dataframe thead th {\n",
       "        text-align: right;\n",
       "    }\n",
       "</style>\n",
       "<table border=\"1\" class=\"dataframe\">\n",
       "  <thead>\n",
       "    <tr style=\"text-align: right;\">\n",
       "      <th></th>\n",
       "      <th></th>\n",
       "      <th>Siksha</th>\n",
       "      <th>Pata</th>\n",
       "      <th>Current Address</th>\n",
       "      <th>Charitra</th>\n",
       "    </tr>\n",
       "  </thead>\n",
       "  <tbody>\n",
       "    <tr>\n",
       "      <th>aman</th>\n",
       "      <th>22</th>\n",
       "      <td>Graduation</td>\n",
       "      <td>Naikenpali</td>\n",
       "      <td>Naikenpali</td>\n",
       "      <td>CARELESS</td>\n",
       "    </tr>\n",
       "    <tr>\n",
       "      <th>utkalika</th>\n",
       "      <th>19</th>\n",
       "      <td>Graduation</td>\n",
       "      <td>Naikenpali</td>\n",
       "      <td>Naikenpali</td>\n",
       "      <td>CARELESS</td>\n",
       "    </tr>\n",
       "    <tr>\n",
       "      <th>shruti</th>\n",
       "      <th>22</th>\n",
       "      <td>Graduation</td>\n",
       "      <td>Dungripali</td>\n",
       "      <td>SBP</td>\n",
       "      <td>INTELLIGENT</td>\n",
       "    </tr>\n",
       "    <tr>\n",
       "      <th>Anil</th>\n",
       "      <th>29</th>\n",
       "      <td>Graduation</td>\n",
       "      <td>Bhagitikra</td>\n",
       "      <td>Bhagitikra</td>\n",
       "      <td>PERSUASIVE</td>\n",
       "    </tr>\n",
       "  </tbody>\n",
       "</table>\n",
       "</div>"
      ],
      "text/plain": [
       "                 Siksha        Pata Current Address     Charitra\n",
       "aman     22  Graduation  Naikenpali      Naikenpali     CARELESS\n",
       "utkalika 19  Graduation  Naikenpali      Naikenpali     CARELESS\n",
       "shruti   22  Graduation  Dungripali             SBP  INTELLIGENT\n",
       "Anil     29  Graduation  Bhagitikra      Bhagitikra   PERSUASIVE"
      ]
     },
     "execution_count": 5,
     "metadata": {},
     "output_type": "execute_result"
    }
   ],
   "source": [
    "a = pd.read_excel(\"titanic.xls\", sheet_name=\"no heading\", names=[\"Siksha\", \"Pata\", \"Current Address\", \"Charitra\"])\n",
    "a   # if you dont put enough names for the columns then the names from the top left will remain empty\n",
    "\n",
    "# the heading names are being put from top right to the top left\n",
    "# just remove one from the back and you will see the changes\n",
    "# also when doing this, it removes the first row and then put the heading over there"
   ]
  },
  {
   "cell_type": "code",
   "execution_count": 6,
   "id": "5336a16d",
   "metadata": {},
   "outputs": [
    {
     "data": {
      "text/html": [
       "<div>\n",
       "<style scoped>\n",
       "    .dataframe tbody tr th:only-of-type {\n",
       "        vertical-align: middle;\n",
       "    }\n",
       "\n",
       "    .dataframe tbody tr th {\n",
       "        vertical-align: top;\n",
       "    }\n",
       "\n",
       "    .dataframe thead th {\n",
       "        text-align: right;\n",
       "    }\n",
       "</style>\n",
       "<table border=\"1\" class=\"dataframe\">\n",
       "  <thead>\n",
       "    <tr style=\"text-align: right;\">\n",
       "      <th></th>\n",
       "      <th>Naam</th>\n",
       "      <th>Umar</th>\n",
       "      <th>Siksha</th>\n",
       "      <th>Pata</th>\n",
       "      <th>Current Address</th>\n",
       "      <th>Charitra</th>\n",
       "    </tr>\n",
       "  </thead>\n",
       "  <tbody>\n",
       "    <tr>\n",
       "      <th>0</th>\n",
       "      <td>aman</td>\n",
       "      <td>22</td>\n",
       "      <td>Graduation</td>\n",
       "      <td>Naikenpali</td>\n",
       "      <td>Naikenpali</td>\n",
       "      <td>CARELESS</td>\n",
       "    </tr>\n",
       "    <tr>\n",
       "      <th>1</th>\n",
       "      <td>utkalika</td>\n",
       "      <td>19</td>\n",
       "      <td>Graduation</td>\n",
       "      <td>Naikenpali</td>\n",
       "      <td>Naikenpali</td>\n",
       "      <td>CARELESS</td>\n",
       "    </tr>\n",
       "    <tr>\n",
       "      <th>2</th>\n",
       "      <td>shruti</td>\n",
       "      <td>22</td>\n",
       "      <td>Graduation</td>\n",
       "      <td>Dungripali</td>\n",
       "      <td>SBP</td>\n",
       "      <td>INTELLIGENT</td>\n",
       "    </tr>\n",
       "    <tr>\n",
       "      <th>3</th>\n",
       "      <td>Anil</td>\n",
       "      <td>29</td>\n",
       "      <td>Graduation</td>\n",
       "      <td>Bhagitikra</td>\n",
       "      <td>Bhagitikra</td>\n",
       "      <td>PERSUASIVE</td>\n",
       "    </tr>\n",
       "  </tbody>\n",
       "</table>\n",
       "</div>"
      ],
      "text/plain": [
       "       Naam  Umar      Siksha        Pata Current Address     Charitra\n",
       "0      aman    22  Graduation  Naikenpali      Naikenpali     CARELESS\n",
       "1  utkalika    19  Graduation  Naikenpali      Naikenpali     CARELESS\n",
       "2    shruti    22  Graduation  Dungripali             SBP  INTELLIGENT\n",
       "3      Anil    29  Graduation  Bhagitikra      Bhagitikra   PERSUASIVE"
      ]
     },
     "execution_count": 6,
     "metadata": {},
     "output_type": "execute_result"
    }
   ],
   "source": [
    "a = pd.read_excel(\"titanic.xls\", sheet_name=\"no heading\", names=[\"Naam\", \"Umar\", \"Siksha\", \"Pata\", \"Current Address\", \"Charitra\"])\n",
    "a      # it doesnot make any changes in the excel sheet, [if you add extra names whose columns dont exist it will throw error]"
   ]
  },
  {
   "cell_type": "markdown",
   "id": "9d74f567",
   "metadata": {},
   "source": [
    "How to deal with the file who values are separated by '@' or any other symbol"
   ]
  },
  {
   "cell_type": "code",
   "execution_count": 3,
   "id": "7c400a7c",
   "metadata": {},
   "outputs": [
    {
     "data": {
      "text/html": [
       "<div>\n",
       "<style scoped>\n",
       "    .dataframe tbody tr th:only-of-type {\n",
       "        vertical-align: middle;\n",
       "    }\n",
       "\n",
       "    .dataframe tbody tr th {\n",
       "        vertical-align: top;\n",
       "    }\n",
       "\n",
       "    .dataframe thead th {\n",
       "        text-align: right;\n",
       "    }\n",
       "</style>\n",
       "<table border=\"1\" class=\"dataframe\">\n",
       "  <thead>\n",
       "    <tr style=\"text-align: right;\">\n",
       "      <th></th>\n",
       "      <th>sepal length (cm)</th>\n",
       "      <th>sepal width (cm)</th>\n",
       "      <th>petal length (cm)</th>\n",
       "      <th>petal width (cm)</th>\n",
       "      <th>target</th>\n",
       "    </tr>\n",
       "  </thead>\n",
       "  <tbody>\n",
       "    <tr>\n",
       "      <th>0</th>\n",
       "      <td>5.1</td>\n",
       "      <td>3.5</td>\n",
       "      <td>1.4</td>\n",
       "      <td>0.2</td>\n",
       "      <td>0</td>\n",
       "    </tr>\n",
       "    <tr>\n",
       "      <th>1</th>\n",
       "      <td>4.9</td>\n",
       "      <td>3.0</td>\n",
       "      <td>1.4</td>\n",
       "      <td>0.2</td>\n",
       "      <td>0</td>\n",
       "    </tr>\n",
       "    <tr>\n",
       "      <th>2</th>\n",
       "      <td>4.7</td>\n",
       "      <td>3.2</td>\n",
       "      <td>1.3</td>\n",
       "      <td>0.2</td>\n",
       "      <td>0</td>\n",
       "    </tr>\n",
       "    <tr>\n",
       "      <th>3</th>\n",
       "      <td>4.6</td>\n",
       "      <td>3.1</td>\n",
       "      <td>1.5</td>\n",
       "      <td>0.2</td>\n",
       "      <td>0</td>\n",
       "    </tr>\n",
       "    <tr>\n",
       "      <th>4</th>\n",
       "      <td>5.0</td>\n",
       "      <td>3.6</td>\n",
       "      <td>1.4</td>\n",
       "      <td>0.2</td>\n",
       "      <td>0</td>\n",
       "    </tr>\n",
       "  </tbody>\n",
       "</table>\n",
       "</div>"
      ],
      "text/plain": [
       "   sepal length (cm)  sepal width (cm)  petal length (cm)  petal width (cm)  \\\n",
       "0                5.1               3.5                1.4               0.2   \n",
       "1                4.9               3.0                1.4               0.2   \n",
       "2                4.7               3.2                1.3               0.2   \n",
       "3                4.6               3.1                1.5               0.2   \n",
       "4                5.0               3.6                1.4               0.2   \n",
       "\n",
       "   target  \n",
       "0       0  \n",
       "1       0  \n",
       "2       0  \n",
       "3       0  \n",
       "4       0  "
      ]
     },
     "execution_count": 3,
     "metadata": {},
     "output_type": "execute_result"
    }
   ],
   "source": [
    "# sep\n",
    "\n",
    "b = pd.read_csv(\"iris_at.csv\", sep=\"@\")\n",
    "b.head()"
   ]
  },
  {
   "cell_type": "code",
   "execution_count": 16,
   "id": "fabd748d",
   "metadata": {},
   "outputs": [
    {
     "data": {
      "text/plain": [
       "0    5.1\n",
       "1    4.9\n",
       "2    4.7\n",
       "3    4.6\n",
       "4    5.0\n",
       "Name: sepal length (cm), dtype: float64"
      ]
     },
     "execution_count": 16,
     "metadata": {},
     "output_type": "execute_result"
    }
   ],
   "source": [
    "b[\"sepal length (cm)\"].head(5)"
   ]
  },
  {
   "cell_type": "markdown",
   "id": "4190bdec",
   "metadata": {},
   "source": [
    "How to skip rows"
   ]
  },
  {
   "cell_type": "code",
   "execution_count": 8,
   "id": "dc759a6b",
   "metadata": {},
   "outputs": [
    {
     "data": {
      "text/html": [
       "<div>\n",
       "<style scoped>\n",
       "    .dataframe tbody tr th:only-of-type {\n",
       "        vertical-align: middle;\n",
       "    }\n",
       "\n",
       "    .dataframe tbody tr th {\n",
       "        vertical-align: top;\n",
       "    }\n",
       "\n",
       "    .dataframe thead th {\n",
       "        text-align: right;\n",
       "    }\n",
       "</style>\n",
       "<table border=\"1\" class=\"dataframe\">\n",
       "  <thead>\n",
       "    <tr style=\"text-align: right;\">\n",
       "      <th></th>\n",
       "      <th>utkalika</th>\n",
       "      <th>19</th>\n",
       "      <th>Graduation</th>\n",
       "      <th>Naikenpali</th>\n",
       "      <th>Naikenpali.1</th>\n",
       "      <th>CARELESS</th>\n",
       "    </tr>\n",
       "  </thead>\n",
       "  <tbody>\n",
       "    <tr>\n",
       "      <th>0</th>\n",
       "      <td>shruti</td>\n",
       "      <td>22</td>\n",
       "      <td>Graduation</td>\n",
       "      <td>Dungripali</td>\n",
       "      <td>SBP</td>\n",
       "      <td>INTELLIGENT</td>\n",
       "    </tr>\n",
       "    <tr>\n",
       "      <th>1</th>\n",
       "      <td>Anil</td>\n",
       "      <td>29</td>\n",
       "      <td>Graduation</td>\n",
       "      <td>Bhagitikra</td>\n",
       "      <td>Bhagitikra</td>\n",
       "      <td>PERSUASIVE</td>\n",
       "    </tr>\n",
       "  </tbody>\n",
       "</table>\n",
       "</div>"
      ],
      "text/plain": [
       "  utkalika  19  Graduation  Naikenpali Naikenpali.1     CARELESS\n",
       "0   shruti  22  Graduation  Dungripali          SBP  INTELLIGENT\n",
       "1     Anil  29  Graduation  Bhagitikra   Bhagitikra   PERSUASIVE"
      ]
     },
     "execution_count": 8,
     "metadata": {},
     "output_type": "execute_result"
    }
   ],
   "source": [
    "# skip\n",
    "\n",
    "c = pd.read_excel(\"titanic.xls\", sheet_name=\"no heading\", skiprows=[0,1])\n",
    "c\n",
    "\n",
    "# here the next line after 1st index row, became the new heading\n",
    "\n"
   ]
  },
  {
   "cell_type": "markdown",
   "id": "a747322a",
   "metadata": {},
   "source": [
    "How to find data types of every column"
   ]
  },
  {
   "cell_type": "code",
   "execution_count": 9,
   "id": "0bb1b544",
   "metadata": {},
   "outputs": [
    {
     "data": {
      "text/plain": [
       "Naam               object\n",
       "Umar                int64\n",
       "Siksha             object\n",
       "Pata               object\n",
       "Current Address    object\n",
       "Charitra           object\n",
       "dtype: object"
      ]
     },
     "execution_count": 9,
     "metadata": {},
     "output_type": "execute_result"
    }
   ],
   "source": [
    "a.dtypes"
   ]
  },
  {
   "cell_type": "code",
   "execution_count": 11,
   "id": "2a3f0243",
   "metadata": {},
   "outputs": [
    {
     "data": {
      "text/plain": [
       "Index(['jeet', 25, 'Masters', 'Naikenpali', 'BBSR', 'SHADOW'], dtype='object')"
      ]
     },
     "execution_count": 11,
     "metadata": {},
     "output_type": "execute_result"
    }
   ],
   "source": [
    "# will print names of all columns\n",
    "a.columns"
   ]
  },
  {
   "cell_type": "code",
   "execution_count": null,
   "id": "4ab28953",
   "metadata": {},
   "outputs": [
    {
     "name": "stdout",
     "output_type": "stream",
     "text": [
      "<class 'pandas.core.series.Series'> \n",
      "\n",
      "<class 'pandas.core.frame.DataFrame'> \n",
      "\n",
      "0        aman\n",
      "1    utkalika\n",
      "2      shruti\n",
      "3        Anil\n",
      "Name: Naam, dtype: object \n",
      "\n",
      "0        aman\n",
      "1    utkalika\n",
      "2      shruti\n",
      "Name: Naam, dtype: object \n",
      "\n",
      "       Naam      Siksha  Umar\n",
      "0      aman  Graduation    22\n",
      "1  utkalika  Graduation    19\n",
      "2    shruti  Graduation    22 \n",
      "\n",
      "       Naam      Siksha  Umar\n",
      "0      aman  Graduation    22\n",
      "1  utkalika  Graduation    19\n",
      "2    shruti  Graduation    22\n",
      "3      Anil  Graduation    29 \n",
      "\n",
      "<class 'pandas.core.frame.DataFrame'> \n",
      "\n",
      "       Naam      Siksha  Umar\n",
      "0      aman  Graduation    22\n",
      "1  utkalika  Graduation    19 \n",
      "\n"
     ]
    }
   ],
   "source": [
    "a = pd.read_excel(\"titanic.xls\", sheet_name=\"no heading\", names=[\"Naam\", \"Umar\", \"Siksha\", \"Pata\", \"Current Address\", \"Charitra\"])\n",
    "\n",
    "data = a[\"Naam\"]            # printing all entire \"Naam\" column\n",
    "print(type(data),'\\n')      # its type is 'series'\n",
    "print(type(a),'\\n')         # its type is dataframe\n",
    "print(data,'\\n')\n",
    "\n",
    "data2 = a[\"Naam\"][:3]       # printing data in \"Naam\" column from start to row 2 (3 is exclusive)\n",
    "print(data2,'\\n')\n",
    "\n",
    "# printing btwn the specific rows\n",
    "data3 = a[[\"Naam\", \"Siksha\", \"Umar\"]].iloc[0:3, :]     # REMEMBER YOU HAVE TO USE DOUBLE [[]] WHILE PRINTING MULTIPLE COLUMNS\n",
    "print(data3,'\\n')\n",
    "\n",
    "\"\"\" \n",
    "    0:2 → take row indices 0 and 1 (2 is exclusive).\n",
    "    : → take all columns of the already filtered DataFrame (here, \"Naam\", \"Siksha\", \"Umar\").\n",
    "\n",
    "\"\"\"\n",
    "\n"
   ]
  },
  {
   "cell_type": "markdown",
   "id": "c99baf69",
   "metadata": {},
   "source": [
    "loc vs iloc"
   ]
  },
  {
   "cell_type": "code",
   "execution_count": 18,
   "id": "cbc55951",
   "metadata": {},
   "outputs": [
    {
     "name": "stdout",
     "output_type": "stream",
     "text": [
      "       Naam  Umar      Siksha        Pata Current Address  Charitra\n",
      "0      aman    22  Graduation  Naikenpali      Naikenpali  CARELESS\n",
      "1  utkalika    19  Graduation  Naikenpali      Naikenpali  CARELESS \n",
      "\n",
      "       Naam      Siksha  Umar\n",
      "0      aman  Graduation    22\n",
      "1  utkalika  Graduation    19\n",
      "2    shruti  Graduation    22\n",
      "3      Anil  Graduation    29 \n",
      "\n",
      "[['aman' 'Graduation' 22]\n",
      " ['utkalika' 'Graduation' 19]\n",
      " ['shruti' 'Graduation' 22]\n",
      " ['Anil' 'Graduation' 29]] \n",
      "\n",
      "       Naam  Umar      Siksha        Pata Current Address     Charitra\n",
      "0      aman    22  Graduation  Naikenpali      Naikenpali     CARELESS\n",
      "1  utkalika    19  Graduation  Naikenpali      Naikenpali     CARELESS\n",
      "2    shruti    22  Graduation  Dungripali             SBP  INTELLIGENT\n",
      "3      Anil    29  Graduation  Bhagitikra      Bhagitikra   PERSUASIVE \n",
      "\n",
      "       Naam  Umar      Siksha        Pata Current Address\n",
      "0      aman    22  Graduation  Naikenpali      Naikenpali\n",
      "1  utkalika    19  Graduation  Naikenpali      Naikenpali\n",
      "2    shruti    22  Graduation  Dungripali             SBP\n",
      "3      Anil    29  Graduation  Bhagitikra      Bhagitikra \n",
      "\n",
      "       Naam      Siksha  Umar\n",
      "0      aman  Graduation    22\n",
      "1  utkalika  Graduation    19\n",
      "2    shruti  Graduation    22 \n",
      "\n",
      "<class 'pandas.core.frame.DataFrame'> \n",
      "\n"
     ]
    }
   ],
   "source": [
    "\n",
    "#-----------------------------------------------------------------------------------------------------------------------------------------\n",
    "\n",
    "data5 = a.loc[0:1, :]             # a.loc[start row : end row, start col : end col]\n",
    "print(data5,'\\n')\n",
    "\n",
    "data6 = a.loc[:, [\"Naam\", \"Siksha\", \"Umar\"]]\n",
    "print(data6,'\\n')\n",
    "\n",
    "# converting loc data into numpy array\n",
    "data7 = a.loc[:, [\"Naam\", \"Siksha\", \"Umar\"]].values\n",
    "print(data7,'\\n')\n",
    "\n",
    "data8 = a.loc[:, \"Naam\" : \"Charitra\"]           # will print from \"Naam\" to \"Charitra\"\n",
    "print(data8,'\\n') \n",
    "# if you dont know the column name and just want to print the columns using the index, in  that case you can just use iloc\n",
    "#-----------------------------------------------------------------------------------------------------------------------------------------\n",
    "\n",
    "\n",
    "data9 = a.iloc[:, :5]\n",
    "print(data9, '\\n')\n",
    "\n",
    "\n",
    "data10 = a[[\"Naam\", \"Siksha\", \"Umar\"]].iloc[0:3]\n",
    "# data4 = a[[\"Naam\", \"Siksha\", \"Umar\"]].head(4)            # or you can also do this to keep it simple\n",
    "print(data10,'\\n')  \n",
    "print(type(data10),'\\n')      # its type is 'object'\n",
    "\n",
    "\n",
    "\n",
    "\n"
   ]
  }
 ],
 "metadata": {
  "kernelspec": {
   "display_name": "base",
   "language": "python",
   "name": "python3"
  },
  "language_info": {
   "codemirror_mode": {
    "name": "ipython",
    "version": 3
   },
   "file_extension": ".py",
   "mimetype": "text/x-python",
   "name": "python",
   "nbconvert_exporter": "python",
   "pygments_lexer": "ipython3",
   "version": "3.13.5"
  }
 },
 "nbformat": 4,
 "nbformat_minor": 5
}
