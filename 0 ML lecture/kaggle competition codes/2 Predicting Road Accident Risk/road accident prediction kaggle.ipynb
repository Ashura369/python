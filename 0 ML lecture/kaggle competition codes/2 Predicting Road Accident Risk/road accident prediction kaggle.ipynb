{
 "cells": [
  {
   "cell_type": "code",
   "execution_count": 7,
   "id": "e0593b93-287a-4ab0-8cda-c2684adc94cd",
   "metadata": {},
   "outputs": [
    {
     "name": "stdout",
     "output_type": "stream",
     "text": [
      "Training R²: 0.7084 (70.84%)\n",
      "Training RMSE: 0.0899\n",
      "✅ Submission file 'sample_submission_2.csv' created successfully!\n"
     ]
    }
   ],
   "source": [
    "import numpy as np\n",
    "import pandas as pd\n",
    "from sklearn.linear_model import LinearRegression\n",
    "from sklearn.metrics import r2_score, mean_squared_error\n",
    "from sklearn.preprocessing import LabelEncoder\n",
    "\n",
    "# loading the data\n",
    "train = pd.read_csv(\"train.csv\")\n",
    "test = pd.read_csv(\"test.csv\")\n",
    "\n",
    "# Selecting the features for training data\n",
    "features = [\n",
    "    'road_type', 'num_lanes', 'curvature', 'speed_limit', \n",
    "    'lighting', 'weather', 'road_signs_present', \n",
    "    'public_road', 'time_of_day', 'holiday', 'school_season'\n",
    "]\n",
    "\n",
    "x_train = train[features].copy()\n",
    "y_train = train[['accident_risk']].copy()\n",
    "x_test = test[features].copy()\n",
    "\n",
    "\n",
    "# Selecting the categorical data to convert them into numerical labels\n",
    "categorical_cols = [\n",
    "    'road_type', 'lighting', 'weather', 'road_signs_present', \n",
    "    'public_road', 'time_of_day', 'holiday', 'school_season'\n",
    "]\n",
    "\n",
    "encoders = {}\n",
    "\n",
    "for col in categorical_cols:\n",
    "    le = LabelEncoder()\n",
    "    x_train[col] = le.fit_transform(x_train[col])\n",
    "    x_test[col] = le.transform(x_test[col])  # ✅ use transform (not fit_transform)\n",
    "    encoders[col] = le\n",
    "\n",
    "\n",
    "# training linear regression model\n",
    "reg = LinearRegression()\n",
    "reg.fit(x_train, y_train)\n",
    "\n",
    "y_train_pred = reg.predict(x_train)\n",
    "\n",
    "# checking for accuracy\n",
    "r2 = r2_score(y_train, y_train_pred)\n",
    "print(f\"Training R²: {r2:.4f} ({r2*100:.2f}%)\")\n",
    "rmse = np.sqrt(mean_squared_error(y_train, y_train_pred))\n",
    "print(f\"Training RMSE: {rmse:.4f}\")\n",
    "\n",
    "\n",
    "# makign predictions on the test data\n",
    "y_test_pred = reg.predict(x_test)\n",
    "\n",
    "# making of a kaggle submission file\n",
    "submission = pd.DataFrame({\n",
    "    'id': test['id'],\n",
    "    'accident_risk': np.round(y_test_pred.ravel(), 3)\n",
    "})\n",
    "\n",
    "submission.to_csv(\"sample_submission_2.csv\", index=False)\n",
    "print(\"✅ Submission file 'sample_submission_2.csv' created successfully!\")\n"
   ]
  },
  {
   "cell_type": "code",
   "execution_count": null,
   "id": "6588aacc-a425-40ad-b5e6-691c6a54dfae",
   "metadata": {},
   "outputs": [],
   "source": []
  }
 ],
 "metadata": {
  "kernelspec": {
   "display_name": "base",
   "language": "python",
   "name": "python3"
  },
  "language_info": {
   "codemirror_mode": {
    "name": "ipython",
    "version": 3
   },
   "file_extension": ".py",
   "mimetype": "text/x-python",
   "name": "python",
   "nbconvert_exporter": "python",
   "pygments_lexer": "ipython3",
   "version": "3.13.5"
  },
  "panel-cell-order": [
   "8d6caf41-84c8-45fa-9715-5b09f1c5cb16"
  ]
 },
 "nbformat": 4,
 "nbformat_minor": 5
}
