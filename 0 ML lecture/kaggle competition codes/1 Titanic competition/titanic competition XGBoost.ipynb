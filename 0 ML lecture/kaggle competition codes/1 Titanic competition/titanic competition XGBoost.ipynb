{
 "cells": [
  {
   "cell_type": "code",
   "execution_count": 35,
   "id": "014c91bc",
   "metadata": {},
   "outputs": [],
   "source": [
    "import pandas as pd\n",
    "import numpy as np\n",
    "from sklearn.model_selection import train_test_split\n",
    "from sklearn.preprocessing import StandardScaler  \n",
    "from xgboost import XGBRegressor\n",
    "from sklearn.metrics import (\n",
    "    accuracy_score,      # Measures how many predictions were correct\n",
    "    precision_score,     # Of the ones predicted '1' (survived), how many were actually '1'\n",
    "    recall_score,        # Of all the actual '1' (survived), how many did we correctly predict\n",
    "    f1_score,            # Harmonic mean of precision and recall (balances both)\n",
    "    confusion_matrix,    # Gives a 2x2 matrix showing TP, FP, FN, TN\n",
    "    classification_report, # Gives a nice summary of precision, recall, f1 for each class\n",
    "    roc_auc_score         # Measures model’s ability to separate classes (0–1 range)\n",
    ")"
   ]
  },
  {
   "cell_type": "code",
   "execution_count": 36,
   "id": "b2a3bc5b",
   "metadata": {},
   "outputs": [],
   "source": [
    "train = pd.read_csv(\"train.csv\")\n",
    "test = pd.read_csv(\"test.csv\")"
   ]
  },
  {
   "cell_type": "code",
   "execution_count": 37,
   "id": "2c2abc94",
   "metadata": {},
   "outputs": [
    {
     "name": "stdout",
     "output_type": "stream",
     "text": [
      "(891, 12)\n",
      "(418, 11)\n"
     ]
    }
   ],
   "source": [
    "print(train.shape)\n",
    "print(test.shape)"
   ]
  },
  {
   "cell_type": "code",
   "execution_count": 39,
   "id": "b2e337f0",
   "metadata": {},
   "outputs": [
    {
     "name": "stdout",
     "output_type": "stream",
     "text": [
      "📊 MODEL PERFORMANCE METRICS (Training Data)\n",
      "------------------------------------------------\n",
      "✅ Accuracy  : 0.9529  # Overall correctness\n",
      "🎯 Precision : 0.9630  # How many predicted '1' were right\n",
      "🔍 Recall    : 0.9123  # How many actual '1' were caught\n",
      "⚖️  F1-Score  : 0.9369  # Balance between precision & recall\n",
      "🚀 ROC-AUC   : 0.9452  # Overall class separability\n",
      "\n",
      "📦 Confusion Matrix:\n",
      "[[537  12]\n",
      " [ 30 312]]\n",
      "\n",
      "🧾 Classification Report:\n",
      "              precision    recall  f1-score   support\n",
      "\n",
      "           0       0.95      0.98      0.96       549\n",
      "           1       0.96      0.91      0.94       342\n",
      "\n",
      "    accuracy                           0.95       891\n",
      "   macro avg       0.96      0.95      0.95       891\n",
      "weighted avg       0.95      0.95      0.95       891\n",
      "\n"
     ]
    }
   ],
   "source": [
    "features = ['Sex', 'Age', 'SibSp', 'Parch', 'Pclass', 'Fare']\n",
    "\n",
    "x_train = train[features].copy()\n",
    "y_train = train['Survived']\n",
    "x_test = test[features].copy()\n",
    "\n",
    "\n",
    "# ONE-HOT ENCODING (for categorical variables)\n",
    "x_train = pd.get_dummies(x_train, drop_first=True)\n",
    "x_test = pd.get_dummies(x_test, drop_first=True)\n",
    "\n",
    "# Align columns between train and test (important!)\n",
    "x_test = x_test.reindex(columns=x_train.columns, fill_value=0)\n",
    "\n",
    "\n",
    "scaler = StandardScaler()\n",
    "x_train = scaler.fit_transform(x_train)\n",
    "x_test = scaler.transform(x_test)\n",
    "\n",
    "# model training using XGBoost\n",
    "model = XGBClassifier(\n",
    "    n_estimators=300,        # Number of trees\n",
    "    learning_rate=0.05,      # How much model learns in each iteration\n",
    "    max_depth=8,             # Tree depth\n",
    "    subsample=0.8,           # Fraction of samples used for each tree\n",
    "    colsample_bytree=0.8,    # Fraction of features used per tree\n",
    "    random_state=42,\n",
    "    n_jobs=-1\n",
    ")\n",
    "\n",
    "model.fit(x_train, y_train)\n",
    "\n",
    "# making predictions\n",
    "y_train_pred = model.predict(x_train)\n",
    "y_test_pred = model.predict(x_test)\n",
    "\n",
    "\n",
    "print(\"📊 MODEL PERFORMANCE METRICS (Training Data)\")\n",
    "print(\"------------------------------------------------\")\n",
    "print(f\"✅ Accuracy  : {accuracy_score(y_train, y_train_pred):.4f}  # Overall correctness\")\n",
    "print(f\"🎯 Precision : {precision_score(y_train, y_train_pred):.4f}  # How many predicted '1' were right\")\n",
    "print(f\"🔍 Recall    : {recall_score(y_train, y_train_pred):.4f}  # How many actual '1' were caught\")\n",
    "print(f\"⚖️  F1-Score  : {f1_score(y_train, y_train_pred):.4f}  # Balance between precision & recall\")\n",
    "print(f\"🚀 ROC-AUC   : {roc_auc_score(y_train, y_train_pred):.4f}  # Overall class separability\")\n",
    "\n",
    "\n",
    "print(\"\\n📦 Confusion Matrix:\")\n",
    "print(confusion_matrix(y_train, y_train_pred))\n",
    "\n",
    "print(\"\\n🧾 Classification Report:\")\n",
    "print(classification_report(y_train, y_train_pred))\n"
   ]
  }
 ],
 "metadata": {
  "kernelspec": {
   "display_name": "base",
   "language": "python",
   "name": "python3"
  },
  "language_info": {
   "codemirror_mode": {
    "name": "ipython",
    "version": 3
   },
   "file_extension": ".py",
   "mimetype": "text/x-python",
   "name": "python",
   "nbconvert_exporter": "python",
   "pygments_lexer": "ipython3",
   "version": "3.13.5"
  }
 },
 "nbformat": 4,
 "nbformat_minor": 5
}
