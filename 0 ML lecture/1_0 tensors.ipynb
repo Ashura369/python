{
 "cells": [
  {
   "cell_type": "markdown",
   "id": "7a088fc4",
   "metadata": {},
   "source": [
    "1D tensor"
   ]
  },
  {
   "cell_type": "code",
   "execution_count": 7,
   "id": "408c650b",
   "metadata": {},
   "outputs": [
    {
     "data": {
      "text/plain": [
       "array([1, 2, 3, 4, 5])"
      ]
     },
     "execution_count": 7,
     "metadata": {},
     "output_type": "execute_result"
    }
   ],
   "source": [
    "import numpy as np\n",
    "\n",
    "# 1D tensor\n",
    "a = np.array([1,2,3,4,5])\n",
    "a"
   ]
  },
  {
   "cell_type": "code",
   "execution_count": 8,
   "id": "3208d64d",
   "metadata": {},
   "outputs": [
    {
     "name": "stdout",
     "output_type": "stream",
     "text": [
      "PERSON 1 : CGPA = 9.1, IQ = 120, STATE = 120\n",
      "PERSON 2 : CGPA = 8.5, IQ = 110, STATE = 110\n",
      "PERSON 3 : CGPA = 7.8, IQ = 130, STATE = 130\n",
      "PERSON 4 : CGPA = 9.0, IQ = 125, STATE = 125\n",
      "PERSON 5 : CGPA = 8.2, IQ = 115, STATE = 115\n"
     ]
    }
   ],
   "source": [
    "# this below is an example of 1D tensor\n",
    "\n",
    "cgpa = np.array([9.1, 8.5, 7.8, 9.0, 8.2])  # cgpa is 1D array but a 5D vector, same goes with others\n",
    "iq = np.array([120, 110, 130, 125, 115])\n",
    "state = np.array(['California', 'Texas', 'Florida', 'New York', 'Illinois'])\n",
    "\n",
    "dict2 = {\n",
    "    \"CGPA\" : cgpa,\n",
    "    \"IQ\" : iq,\n",
    "    \"STATE\" : state \n",
    "}\n",
    "\n",
    "for i in range(len(cgpa)):\n",
    "    print(f\"PERSON {i+1} : CGPA = {dict2[\"CGPA\"][i]}, IQ = {dict2[\"IQ\"][i]}, STATE = {dict2[\"IQ\"][i]}\")\n",
    "\n",
    "# EVERY PERSON SHOWN BELOW FROM 1 TO 5 IS A 1D TENSOR, AS WELL AS A 3D VECTOR\n"
   ]
  },
  {
   "cell_type": "markdown",
   "id": "638d7b78",
   "metadata": {},
   "source": [
    "2D tensor"
   ]
  },
  {
   "cell_type": "code",
   "execution_count": 26,
   "id": "c4c7661c",
   "metadata": {},
   "outputs": [
    {
     "name": "stdout",
     "output_type": "stream",
     "text": [
      "{'CGPA': [9.1, 8.5, 7.8, 9.0, 8.2], 'IQ': [120, 110, 130, 125, 115], 'State': ['California', 'Texas', 'Florida', 'New York', 'Illinois']}\n"
     ]
    }
   ],
   "source": [
    "# 2D array (tensor) of 5 people\n",
    "people = np.array([\n",
    "    [9.1, 120, 'California'],\n",
    "    [8.5, 110, 'Texas'],\n",
    "    [7.8, 130, 'Florida'],\n",
    "    [9.0, 125, 'New York'],\n",
    "    [8.2, 115, 'Illinois']\n",
    "], dtype=object)\n",
    "\n",
    "# Create dictionary\n",
    "people_dict = {\n",
    "    \"CGPA\": [i[0] for i in people],     # will store first column\n",
    "    \"IQ\": [i[1] for i in people],       # will store second column\n",
    "    \"State\": [i[2] for i in people]     # will store third column\n",
    "}\n",
    "\n",
    "print(people_dict)"
   ]
  },
  {
   "cell_type": "code",
   "execution_count": null,
   "id": "bf772ab5",
   "metadata": {},
   "outputs": [
    {
     "name": "stdout",
     "output_type": "stream",
     "text": [
      "PERSON 1 : CGPA = 9.1, IQ = 120, STATE = California\n",
      "PERSON 2 : CGPA = 8.5, IQ = 110, STATE = Texas\n",
      "PERSON 3 : CGPA = 7.8, IQ = 130, STATE = Florida\n",
      "PERSON 4 : CGPA = 9.0, IQ = 125, STATE = New York\n",
      "PERSON 5 : CGPA = 8.2, IQ = 115, STATE = Illinois\n"
     ]
    }
   ],
   "source": [
    "students = np.array([\n",
    "    [9.1, 120, 'California'],\n",
    "    [8.5, 110, 'Texas'],\n",
    "    [7.8, 130, 'Florida'],\n",
    "    [9.0, 125, 'New York'],\n",
    "    [8.2, 115, 'Illinois']\n",
    "], dtype=object)\n",
    "\n",
    "\n",
    "for i in range(len(students)):\n",
    "    print(f\"PERSON {i+1} : CGPA = {people[i][0]}, IQ = {people[i][1]}, STATE = {people[i][2]}\")\n"
   ]
  },
  {
   "cell_type": "markdown",
   "id": "c9a69034",
   "metadata": {},
   "source": [
    "3D tensor"
   ]
  },
  {
   "cell_type": "code",
   "execution_count": null,
   "id": "5834387e",
   "metadata": {},
   "outputs": [
    {
     "name": "stdout",
     "output_type": "stream",
     "text": [
      "[[9.1 120 'California']\n",
      " [8.5 110 'Texas']\n",
      " [7.8 130 'Florida']\n",
      " [9.0 125 'New York']\n",
      " [8.2 115 'Illinois']]\n",
      "[[8.9 118 'Nevada']\n",
      " [7.5 108 'Ohio']\n",
      " [9.3 132 'Oregon']\n",
      " [8.7 122 'Utah']\n",
      " [8.0 119 'Arizona']]\n",
      "\n",
      "\n",
      "PERSON 1: CGPA=9.1, IQ=120, STATE=California\n",
      "PERSON 1: CGPA=8.5, IQ=110, STATE=Texas\n",
      "PERSON 1: CGPA=7.8, IQ=130, STATE=Florida\n",
      "PERSON 1: CGPA=9.0, IQ=125, STATE=New York\n",
      "PERSON 1: CGPA=8.2, IQ=115, STATE=Illinois\n",
      "PERSON 2: CGPA=8.9, IQ=118, STATE=Nevada\n",
      "PERSON 2: CGPA=7.5, IQ=108, STATE=Ohio\n",
      "PERSON 2: CGPA=9.3, IQ=132, STATE=Oregon\n",
      "PERSON 2: CGPA=8.7, IQ=122, STATE=Utah\n",
      "PERSON 2: CGPA=8.0, IQ=119, STATE=Arizona\n"
     ]
    }
   ],
   "source": [
    "# 3D tensor\n",
    "\n",
    "people_3d = np.array([\n",
    "    [   # i 1\n",
    "        [9.1, 120, 'California'],\n",
    "        [8.5, 110, 'Texas'],\n",
    "        [7.8, 130, 'Florida'],\n",
    "        [9.0, 125, 'New York'],\n",
    "        [8.2, 115, 'Illinois']\n",
    "    ],\n",
    "    [   # i 2\n",
    "        [8.9, 118, 'Nevada'],\n",
    "        [7.5, 108, 'Ohio'],\n",
    "        [9.3, 132, 'Oregon'],\n",
    "        [8.7, 122, 'Utah'],\n",
    "        [8.0, 119, 'Arizona']\n",
    "    ]\n",
    "], dtype=object)\n",
    "\n",
    "\n",
    "for i in people_3d:\n",
    "    print(i)\n",
    "\n",
    "print()\n",
    "print()\n",
    "\n",
    "for i in range(len(people_3d)):\n",
    "    for j in range(len(people_3d[i])):\n",
    "        print(f\"PERSON {i+1}: CGPA={people_3d[i][j][0]}, IQ={people_3d[i][j][1]}, STATE={people_3d[i][j][2]}\")\n",
    "\n",
    "\n",
    "# this code is a 3D tensor, and 2D vector where each one holds 5 1D vectors"
   ]
  },
  {
   "cell_type": "markdown",
   "id": "a3cd667f",
   "metadata": {},
   "source": [
    "#### REMEMBER WHENEVER YOU ARE WORKING ON DEEP LEARNNIG OR A BIGGER DATA, ALWAYS USE GOOGLE COLLAB. BCOZ YOU YOUR COMPUTER GPU MIGHT NOT BE POWERFUL ENOUGH TO RUN THE CODE, WHILE GOOGLE COLLAB CAN DO SUCH AT EASE"
   ]
  }
 ],
 "metadata": {
  "kernelspec": {
   "display_name": "base",
   "language": "python",
   "name": "python3"
  },
  "language_info": {
   "codemirror_mode": {
    "name": "ipython",
    "version": 3
   },
   "file_extension": ".py",
   "mimetype": "text/x-python",
   "name": "python",
   "nbconvert_exporter": "python",
   "pygments_lexer": "ipython3",
   "version": "3.13.5"
  }
 },
 "nbformat": 4,
 "nbformat_minor": 5
}
