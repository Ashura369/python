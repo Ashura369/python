{
 "cells": [
  {
   "cell_type": "code",
   "execution_count": null,
   "id": "970a778a",
   "metadata": {},
   "outputs": [
    {
     "name": "stdout",
     "output_type": "stream",
     "text": [
      "✅ Page 1 scraped successfully.\n",
      "✅ Page 2 scraped successfully.\n",
      "✅ Page 3 scraped successfully.\n",
      "✅ Page 4 scraped successfully.\n",
      "✅ Page 5 scraped successfully.\n",
      "✅ Page 6 scraped successfully.\n",
      "✅ Page 7 scraped successfully.\n",
      "✅ Page 8 scraped successfully.\n",
      "✅ Page 9 scraped successfully.\n",
      "✅ Page 10 scraped successfully.\n",
      "✅ Page 11 scraped successfully.\n",
      "✅ Page 12 scraped successfully.\n",
      "✅ Page 13 scraped successfully.\n",
      "✅ Page 14 scraped successfully.\n",
      "✅ Page 15 scraped successfully.\n"
     ]
    },
    {
     "ename": "KeyboardInterrupt",
     "evalue": "",
     "output_type": "error",
     "traceback": [
      "\u001b[31m---------------------------------------------------------------------------\u001b[39m",
      "\u001b[31mKeyboardInterrupt\u001b[39m                         Traceback (most recent call last)",
      "\u001b[36mCell\u001b[39m\u001b[36m \u001b[39m\u001b[32mIn[1]\u001b[39m\u001b[32m, line 36\u001b[39m\n\u001b[32m     28\u001b[39m         all_data.append({\n\u001b[32m     29\u001b[39m             \u001b[33m\"\u001b[39m\u001b[33mCompany Name\u001b[39m\u001b[33m\"\u001b[39m: name,\n\u001b[32m     30\u001b[39m             \u001b[33m\"\u001b[39m\u001b[33mRating\u001b[39m\u001b[33m\"\u001b[39m: rating,\n\u001b[32m     31\u001b[39m             \u001b[33m\"\u001b[39m\u001b[33mTotal Reviews\u001b[39m\u001b[33m\"\u001b[39m: review,\n\u001b[32m     32\u001b[39m             \u001b[33m\"\u001b[39m\u001b[33mDescription\u001b[39m\u001b[33m\"\u001b[39m: info\n\u001b[32m     33\u001b[39m         })\n\u001b[32m     35\u001b[39m     \u001b[38;5;28mprint\u001b[39m(\u001b[33mf\u001b[39m\u001b[33m\"\u001b[39m\u001b[33m✅ Page \u001b[39m\u001b[38;5;132;01m{\u001b[39;00mpage\u001b[38;5;132;01m}\u001b[39;00m\u001b[33m scraped successfully.\u001b[39m\u001b[33m\"\u001b[39m)\n\u001b[32m---> \u001b[39m\u001b[32m36\u001b[39m     \u001b[43mtime\u001b[49m\u001b[43m.\u001b[49m\u001b[43msleep\u001b[49m\u001b[43m(\u001b[49m\u001b[32;43m1\u001b[39;49m\u001b[43m)\u001b[49m   \u001b[38;5;66;03m# polite delay (1 sec) to avoid getting blocked\u001b[39;00m\n\u001b[32m     38\u001b[39m \u001b[38;5;66;03m# Convert all data into a DataFrame\u001b[39;00m\n\u001b[32m     39\u001b[39m df = pd.DataFrame(all_data)\n",
      "\u001b[31mKeyboardInterrupt\u001b[39m: "
     ]
    }
   ],
   "source": [
    "import requests\n",
    "from bs4 import BeautifulSoup\n",
    "import pandas as pd\n",
    "import time  # to pause between requests\n",
    "\n",
    "headers = {\n",
    "    \"User-Agent\": \"Mozilla/5.0 (Windows NT 10.0; Win64; x64) \"\n",
    "                  \"AppleWebKit/537.36 (KHTML, like Gecko) \"\n",
    "                  \"Chrome/127.0.0.0 Safari/537.36\",\n",
    "    \"Accept-Language\": \"en-US,en;q=0.9\",\n",
    "}\n",
    "\n",
    "all_data = []   # list to hold all company data\n",
    "\n",
    "for page in range(1, 501):  # 1 to 500\n",
    "    url = f\"https://www.ambitionbox.com/list-of-companies?campaign=desktop_nav&page={page}\"\n",
    "    response = requests.get(url, headers=headers)\n",
    "    soup = BeautifulSoup(response.content, \"lxml\")\n",
    "\n",
    "    # Extract data from each page\n",
    "    companies = [tag.text.strip() for tag in soup.find_all('h2', class_=\"companyCardWrapper__companyName\")]\n",
    "    ratings = [tag.text.strip() for tag in soup.find_all('div', class_=\"rating_text rating_text--md\")]\n",
    "    reviews = [tag.text.strip() for tag in soup.find_all('span', class_=\"companyCardWrapper__companyRatingCount\")]\n",
    "    desc = [tag.text.strip() for tag in soup.find_all('span', class_=\"companyCardWrapper__interLinking\")]\n",
    "\n",
    "    # Combine into rows\n",
    "    for name, rating, review, info in zip(companies, ratings, reviews, desc):\n",
    "        all_data.append({\n",
    "            \"Company Name\": name,\n",
    "            \"Rating\": rating,\n",
    "            \"Total Reviews\": review,\n",
    "            \"Description\": info\n",
    "        })\n",
    "\n",
    "    print(f\"✅ Page {page} scraped successfully.\")\n",
    "    time.sleep(1)   # polite delay (1 sec) to avoid getting blocked\n",
    "\n",
    "# Convert all data into a DataFrame\n",
    "df = pd.DataFrame(all_data)\n",
    "print(\"✅ All pages scraped successfully!\")\n",
    "print(df.head())\n",
    "\n"
   ]
  }
 ],
 "metadata": {
  "kernelspec": {
   "display_name": "base",
   "language": "python",
   "name": "python3"
  },
  "language_info": {
   "codemirror_mode": {
    "name": "ipython",
    "version": 3
   },
   "file_extension": ".py",
   "mimetype": "text/x-python",
   "name": "python",
   "nbconvert_exporter": "python",
   "pygments_lexer": "ipython3",
   "version": "3.13.5"
  }
 },
 "nbformat": 4,
 "nbformat_minor": 5
}
