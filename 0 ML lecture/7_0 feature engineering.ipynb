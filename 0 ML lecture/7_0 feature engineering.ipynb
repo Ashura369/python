{
 "cells": [
  {
   "cell_type": "markdown",
   "id": "615ba285",
   "metadata": {},
   "source": [
    "# Feature Engineering"
   ]
  },
  {
   "cell_type": "code",
   "execution_count": null,
   "id": "afa578f0",
   "metadata": {},
   "outputs": [],
   "source": [
    "# Feature engineering is the process of transforming raw data into meaningful input features that improve a machine learning model’s performance. It involves creating, selecting, or modifying variables to help the model better capture underlying patterns in the data."
   ]
  },
  {
   "attachments": {
    "Untitled.jpeg": {
     "image/jpeg": "[encoded data removed]"
    }
   },
   "cell_type": "markdown",
   "id": "002a254c",
   "metadata": {},
   "source": [
    "![Untitled.jpeg](attachment:Untitled.jpeg)"
   ]
  },
  {
   "cell_type": "code",
   "execution_count": null,
   "id": "4c204781",
   "metadata": {},
   "outputs": [],
   "source": [
    "\"\"\" \n",
    "Feature engineerng has 4 types\n",
    "\n",
    "1/ feature transformation\n",
    "    i/ missing value imputation \n",
    "        If the missing values are low, you can delete the row\n",
    "        If ihe missing values are high, you have to fill the data\n",
    "\n",
    "    ii/ handling categorical features\n",
    "        Converting text categorical data into numerical data (ONE HOT ENCODING)\n",
    "        Sometimes you have to convert numerical data into a range (like converting a lot of numerical age data into a range of age like child, adult, old.)\n",
    "\n",
    "    iii/ outlier detection\n",
    "        Removing the ourlier data, that affects the output\n",
    "\n",
    "    iv/ feature scaling\n",
    "        Suppose you are working on two columns like age and salary, here age can be of 2 digits and salary can be in 5 or 6 digits.\n",
    "        So the issue here is while plotting the data in graph or making some calculations, salary will dominate the age.\n",
    "        Hence, to prevent this we scale all the data btwn -1 to 1. To properly represent them.\n",
    "\n",
    "2/ feature construction\n",
    "    Making of a new feature, by mixing up two other features.\n",
    "\n",
    "3/ feature selection\n",
    "\n",
    "4/ feature extraction\n",
    "\n",
    "\n",
    "\n",
    "\n",
    "\"\"\""
   ]
  }
 ],
 "metadata": {
  "kernelspec": {
   "display_name": "base",
   "language": "python",
   "name": "python3"
  },
  "language_info": {
   "name": "python",
   "version": "3.13.5"
  }
 },
 "nbformat": 4,
 "nbformat_minor": 5
}
