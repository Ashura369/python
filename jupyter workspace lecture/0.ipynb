{
 "cells": [
  {
   "cell_type": "code",
   "execution_count": null,
   "id": "8e6f9176",
   "metadata": {},
   "outputs": [
    {
     "name": "stdout",
     "output_type": "stream",
     "text": [
      "[[4 2 5 5]\n",
      " [5 8 2 6]\n",
      " [9 1 7 1]\n",
      " [1 5 5 2]]\n",
      "4.25\n",
      "5.25\n",
      "[5 8 2 6]\n"
     ]
    }
   ],
   "source": [
    "import numpy as np\n",
    "\n",
    "vector = np.random.randint(1, 10, (4,4))\n",
    "\n",
    "print(vector)\n",
    "\n",
    "print(np.mean(vector))          # mean of entire vector\n",
    "print(np.mean(vector[1, :]))    # mean of row 1 from starting of column to end of column\n",
    "print(vector[1, :])"
   ]
  }
 ],
 "metadata": {
  "kernelspec": {
   "display_name": "Python 3",
   "language": "python",
   "name": "python3"
  },
  "language_info": {
   "codemirror_mode": {
    "name": "ipython",
    "version": 3
   },
   "file_extension": ".py",
   "mimetype": "text/x-python",
   "name": "python",
   "nbconvert_exporter": "python",
   "pygments_lexer": "ipython3",
   "version": "3.13.7"
  }
 },
 "nbformat": 4,
 "nbformat_minor": 5
}
