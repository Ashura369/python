{
 "cells": [
  {
   "cell_type": "markdown",
   "id": "0247e158",
   "metadata": {},
   "source": [
    "# LEARNIG PANDAS PART 3"
   ]
  },
  {
   "cell_type": "markdown",
   "id": "d0649d5a",
   "metadata": {},
   "source": [
    "adding new column into an existing column"
   ]
  },
  {
   "cell_type": "code",
   "execution_count": 12,
   "id": "a3b4b1be",
   "metadata": {},
   "outputs": [
    {
     "name": "stdout",
     "output_type": "stream",
     "text": [
      "       Naam  Umar      Siksha        Pata Current Address     Charitra   Race\n",
      "0      aman    22  Graduation  Naikenpali      Naikenpali     CARELESS  Human\n",
      "1  utkalika    19  Graduation  Naikenpali      Naikenpali     CARELESS  Human\n",
      "2    shruti    22  Graduation  Dungripali             SBP  INTELLIGENT  Human\n",
      "3      Anil    29  Graduation  Bhagitikra      Bhagitikra   PERSUASIVE  Human \n",
      "\n",
      "       Naam  Umar      Siksha        Pata Current Address     Charitra   Race  \\\n",
      "0      aman    22  Graduation  Naikenpali      Naikenpali     CARELESS  Human   \n",
      "1  utkalika    19  Graduation  Naikenpali      Naikenpali     CARELESS  Human   \n",
      "2    shruti    22  Graduation  Dungripali             SBP  INTELLIGENT  Human   \n",
      "3      Anil    29  Graduation  Bhagitikra      Bhagitikra   PERSUASIVE  Human   \n",
      "\n",
      "  Gender  \n",
      "0      M  \n",
      "1      F  \n",
      "2      F  \n",
      "3      M   \n",
      "\n"
     ]
    }
   ],
   "source": [
    "import pandas as pd\n",
    "\n",
    "a = pd.read_excel(\"titanic.xls\", sheet_name=\"no heading\", names=[\"Naam\", \"Umar\", \"Siksha\", \"Pata\", \"Current Address\", \"Charitra\"])\n",
    "\n",
    "a[\"Race\"] = \"Human\"         # it will assign \"Human\" value to all the rows in the column \"Race\"\n",
    "print(a, '\\n')\n",
    "\n",
    "# if you want to add multiple values you can do this\n",
    "a[\"Gender\"] = [\"M\", \"F\", \"F\", \"M\"]\n",
    "print(a, '\\n')\n",
    "\n"
   ]
  },
  {
   "cell_type": "code",
   "execution_count": null,
   "id": "b2cafa02",
   "metadata": {},
   "outputs": [
    {
     "name": "stdout",
     "output_type": "stream",
     "text": [
      "      Names  age   education        from current city character type  age * 2\n",
      "0      jeet   25     Masters  Naikenpali         BBSR         SHADOW       50\n",
      "1      aman   22  Graduation  Naikenpali   Naikenpali       CARELESS       44\n",
      "2  utkalika   19  Graduation  Naikenpali   Naikenpali       CARELESS       38\n",
      "3    shruti   22  Graduation  Dungripali          SBP    INTELLIGENT       44\n",
      "4      Anil   29  Graduation  Bhagitikra   Bhagitikra     PERSUASIVE       58 \n",
      "\n",
      "      Names  age   education        from current city character type  age * 2  \\\n",
      "0      jeet   25     Masters  Naikenpali         BBSR         SHADOW       50   \n",
      "1      aman   22  Graduation  Naikenpali   Naikenpali       CARELESS       44   \n",
      "2  utkalika   19  Graduation  Naikenpali   Naikenpali       CARELESS       38   \n",
      "3    shruti   22  Graduation  Dungripali          SBP    INTELLIGENT       44   \n",
      "4      Anil   29  Graduation  Bhagitikra   Bhagitikra     PERSUASIVE       58   \n",
      "\n",
      "   newAge  \n",
      "0    25.0  \n",
      "1     NaN  \n",
      "2     NaN  \n",
      "3     NaN  \n",
      "4    29.0   \n",
      "\n"
     ]
    }
   ],
   "source": [
    "b = pd.read_excel(\"titanic.xls\", sheet_name=\"survivors\")\n",
    "b[\"age * 2\"] = b[\"age\"] * 2     # multiplying 2 with all the numeric values of column \"age\"\n",
    "# you can do more type of manupulations\n",
    "print(b, '\\n')\n",
    "\n",
    "# making a new column as newAge and only printing the age which are above 22\n",
    "data = b\n",
    "newCol = data[\"age\"].where(data[\"age\"] > 22)\n",
    "data[\"newAge\"] = newCol\n",
    "\n",
    "print(data, '\\n')\n",
    "\n",
    "\n",
    "\n"
   ]
  },
  {
   "cell_type": "markdown",
   "id": "3cdea0b3",
   "metadata": {},
   "source": [
    "Dataset info"
   ]
  },
  {
   "cell_type": "code",
   "execution_count": null,
   "id": "0b53ffe1",
   "metadata": {},
   "outputs": [
    {
     "name": "stdout",
     "output_type": "stream",
     "text": [
      "['Naikenpali' 'Dungripali' 'Bhagitikra'] \n",
      "\n",
      "education\n",
      "Graduation    4\n",
      "Masters       1\n",
      "Name: count, dtype: int64 \n",
      "\n",
      "          ROW 1      ROW 2     ROW 3\n",
      "ROW 1   1.000000  1.000000  0.878785\n",
      "ROW 2   1.000000  1.000000  0.878785\n",
      "ROW 3   0.878785  0.878785  1.000000 \n",
      "\n",
      "<class 'pandas.core.frame.DataFrame'>\n",
      "RangeIndex: 15 entries, 0 to 14\n",
      "Data columns (total 3 columns):\n",
      " #   Column  Non-Null Count  Dtype\n",
      "---  ------  --------------  -----\n",
      " 0   ROW 1   15 non-null     int64\n",
      " 1   ROW 2   15 non-null     int64\n",
      " 2   ROW 3   15 non-null     int64\n",
      "dtypes: int64(3)\n",
      "memory usage: 492.0 bytes\n",
      "None \n",
      "\n",
      "          ROW 1        ROW 2        ROW 3\n",
      "count  15.000000   15.000000    15.000000\n",
      "mean    8.000000   88.000000  1888.400000\n",
      "std     4.472136   49.193496  2110.245037\n",
      "min     1.000000   11.000000   111.000000\n",
      "25%     4.500000   49.500000   499.500000\n",
      "50%     8.000000   88.000000   888.000000\n",
      "75%    11.500000  126.500000  2777.500000\n",
      "max    15.000000  165.000000  6666.000000 \n",
      "\n",
      "ROW 1     int64\n",
      "ROW 2     int64\n",
      "ROW 3     int64\n",
      "dtype: object \n",
      "\n",
      "Index(['ROW 1 ', 'ROW 2', 'ROW 3'], dtype='object') \n",
      "\n",
      "             age                                                 age * 2  \\\n",
      "           count  mean       std   min    25%   50%    75%   max   count   \n",
      "education                                                                  \n",
      "Graduation   4.0  23.0  4.242641  19.0  21.25  22.0  23.75  29.0     4.0   \n",
      "Masters      1.0  25.0       NaN  25.0  25.00  25.0  25.00  25.0     1.0   \n",
      "\n",
      "                  ...             newAge                                    \\\n",
      "            mean  ...   75%   max  count  mean std   min   25%   50%   75%   \n",
      "education         ...                                                        \n",
      "Graduation  46.0  ...  47.5  58.0    1.0  29.0 NaN  29.0  29.0  29.0  29.0   \n",
      "Masters     50.0  ...  50.0  50.0    1.0  25.0 NaN  25.0  25.0  25.0  25.0   \n",
      "\n",
      "                  \n",
      "             max  \n",
      "education         \n",
      "Graduation  29.0  \n",
      "Masters     25.0  \n",
      "\n",
      "[2 rows x 24 columns]\n"
     ]
    }
   ],
   "source": [
    "# unique -- will print only unique values stored in row, will remove the values which are being repeated\n",
    "print(b[\"from\"].unique(),  '\\n')\n",
    "\n",
    "# value_counts() -- will print the number of times each value is being repeated\n",
    "print(b[\"education\"].value_counts(),  '\\n')\n",
    "\n",
    "# corr -- co-relation  [this can only be applied to the data that contains numbers only]\n",
    "c = pd.read_excel(\"titanic.xls\", sheet_name=\"nums\")\n",
    "print(c.corr(), '\\n')\n",
    "\n",
    "# info -- will print all the info ragarding the table\n",
    "print(c.info(),  '\\n')\n",
    "\n",
    "# describe\n",
    "print(c.describe(),  '\\n')\n",
    "\n",
    "# printing column names which holds integer data type\n",
    "data1 = c.dtypes[c.dtypes == 'int64']           # will print line by line\n",
    "data2 = c.dtypes[c.dtypes == 'int64'].index     # will print in array\n",
    "print(data1,  '\\n')\n",
    "print(data2,  '\\n')\n",
    "\n",
    "# groupby\n",
    "print(b.groupby(\"education\"))\n"
   ]
  }
 ],
 "metadata": {
  "kernelspec": {
   "display_name": "Python 3",
   "language": "python",
   "name": "python3"
  },
  "language_info": {
   "codemirror_mode": {
    "name": "ipython",
    "version": 3
   },
   "file_extension": ".py",
   "mimetype": "text/x-python",
   "name": "python",
   "nbconvert_exporter": "python",
   "pygments_lexer": "ipython3",
   "version": "3.13.7"
  }
 },
 "nbformat": 4,
 "nbformat_minor": 5
}
